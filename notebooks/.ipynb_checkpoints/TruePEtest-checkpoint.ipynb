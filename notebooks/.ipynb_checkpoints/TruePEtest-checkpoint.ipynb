{
 "cells": [
  {
   "cell_type": "code",
   "execution_count": 1,
   "metadata": {
    "collapsed": false
   },
   "outputs": [
    {
     "name": "stdout",
     "output_type": "stream",
     "text": [
      "path /Users/Jason/Software/pyhessio/pyhessio\n"
     ]
    }
   ],
   "source": [
    "import pyhessio"
   ]
  },
  {
   "cell_type": "code",
   "execution_count": 2,
   "metadata": {
    "collapsed": true
   },
   "outputs": [],
   "source": [
    "from ctapipe.utils.datasets import get_path\n",
    "from ctapipe.io.hessio import hessio_event_source\n",
    "from ctapipe import visualization, io\n",
    "from matplotlib import pyplot as plt\n",
    "from astropy import units as u\n",
    "from ctapipe.visualization import CameraDisplay\n",
    "from ctapipe.io import CameraGeometry\n",
    "import numpy as np\n",
    "import math\n",
    "%matplotlib inline"
   ]
  },
  {
   "cell_type": "code",
   "execution_count": 3,
   "metadata": {
    "collapsed": true
   },
   "outputs": [],
   "source": [
    "source = hessio_event_source(get_path(\"/Users/Jason/Software/outputs/sim_telarray/simtel_run4_gcts_hnsb.gz\"), max_events=100)"
   ]
  },
  {
   "cell_type": "code",
   "execution_count": 4,
   "metadata": {
    "collapsed": false
   },
   "outputs": [
    {
     "name": "stderr",
     "output_type": "stream",
     "text": [
      "WARNING: ErfaWarning: ERFA function \"taiutc\" yielded 1 of \"dubious year (Note 4)\" [astropy._erfa.core]\n"
     ]
    },
    {
     "data": {
      "text/plain": [
       "[2, 3, 7, 8, 9, 14, 15]"
      ]
     },
     "execution_count": 4,
     "metadata": {},
     "output_type": "execute_result"
    }
   ],
   "source": [
    "event = next(source)\n",
    "tels = list(event.dl0.tels_with_data)\n",
    "tels"
   ]
  },
  {
   "cell_type": "code",
   "execution_count": null,
   "metadata": {
    "collapsed": true
   },
   "outputs": [],
   "source": []
  },
  {
   "cell_type": "code",
   "execution_count": 5,
   "metadata": {
    "collapsed": false
   },
   "outputs": [],
   "source": [
    "teldata = event.dl0.tel[tels[0]]\n",
    "img = teldata.adc_samples[0]\n",
    "maxpix = np.unravel_index(np.argmax(img),img.shape)\n",
    "maxT = maxpix[1]"
   ]
  },
  {
   "cell_type": "code",
   "execution_count": 6,
   "metadata": {
    "collapsed": false
   },
   "outputs": [
    {
     "data": {
      "text/plain": [
       "array([[58, 60, 57, ..., 28, 27, 28],\n",
       "       [31, 27, 25, ..., 37, 39, 41],\n",
       "       [35, 33, 35, ..., 37, 38, 39],\n",
       "       ..., \n",
       "       [37, 39, 37, ..., 42, 42, 42],\n",
       "       [66, 62, 62, ..., 38, 37, 31],\n",
       "       [51, 53, 58, ..., 27, 38, 40]], dtype=uint16)"
      ]
     },
     "execution_count": 6,
     "metadata": {},
     "output_type": "execute_result"
    }
   ],
   "source": [
    "img"
   ]
  },
  {
   "cell_type": "code",
   "execution_count": 7,
   "metadata": {
    "collapsed": false
   },
   "outputs": [
    {
     "name": "stdout",
     "output_type": "stream",
     "text": [
      "MCEvent:\n",
      "energy:   1.2 TeV\n",
      "altitude: 1.2 rad\n",
      "azimuth:  6.3 rad\n",
      "core x:   291.6 m\n",
      "core y:   129.2 m\n",
      "total photo_electrons: 242\n"
     ]
    }
   ],
   "source": [
    "print(event.mc)"
   ]
  },
  {
   "cell_type": "code",
   "execution_count": 8,
   "metadata": {
    "collapsed": false
   },
   "outputs": [
    {
     "data": {
      "text/plain": [
       "{0: array([[58, 60, 57, ..., 28, 27, 28],\n",
       "        [31, 27, 25, ..., 37, 39, 41],\n",
       "        [35, 33, 35, ..., 37, 38, 39],\n",
       "        ..., \n",
       "        [37, 39, 37, ..., 42, 42, 42],\n",
       "        [66, 62, 62, ..., 38, 37, 31],\n",
       "        [51, 53, 58, ..., 27, 38, 40]], dtype=uint16)}"
      ]
     },
     "execution_count": 8,
     "metadata": {},
     "output_type": "execute_result"
    }
   ],
   "source": [
    "event.mc.tel\n",
    "event.dl0.tel[2].adc_samples"
   ]
  },
  {
   "cell_type": "code",
   "execution_count": 9,
   "metadata": {
    "collapsed": false
   },
   "outputs": [
    {
     "name": "stdout",
     "output_type": "stream",
     "text": [
      "242\n"
     ]
    }
   ],
   "source": [
    "npix = 0\n",
    "npix = np.sum([np.sum(t.photo_electrons > 0) for t in event.mc.tel.values()])\n",
    "#for t in event.mc.tel.values():\n",
    " #   npix += np.sum(t.photo_electrons > 0)\n",
    "print(npix)"
   ]
  },
  {
   "cell_type": "code",
   "execution_count": 10,
   "metadata": {
    "collapsed": false
   },
   "outputs": [],
   "source": [
    "\"\"\"\n",
    "b = event.mcevent.tel[tels[0]].pe_count\n",
    "N = max(b)+1\n",
    "Qt = np.zeros(N)\n",
    "for key in b:\n",
    "    Qt[key] = b[key]\n",
    "    \"\"\"\n",
    "Qt = event.mc.tel[tels[0]].photo_electrons"
   ]
  },
  {
   "cell_type": "code",
   "execution_count": 11,
   "metadata": {
    "collapsed": false
   },
   "outputs": [
    {
     "data": {
      "text/plain": [
       "44"
      ]
     },
     "execution_count": 11,
     "metadata": {},
     "output_type": "execute_result"
    }
   ],
   "source": [
    "np.sum(Qt > 0)"
   ]
  },
  {
   "cell_type": "code",
   "execution_count": 12,
   "metadata": {
    "collapsed": false
   },
   "outputs": [
    {
     "data": {
      "text/plain": [
       "ctapipe.io.containers.MCEvent(\"MCEvent\", az, alt, tel, core_y, energy, core_x)"
      ]
     },
     "execution_count": 12,
     "metadata": {},
     "output_type": "execute_result"
    }
   ],
   "source": [
    "event.mc"
   ]
  },
  {
   "cell_type": "code",
   "execution_count": 13,
   "metadata": {
    "collapsed": false
   },
   "outputs": [],
   "source": [
    "img = teldata.adc_samples[0]\n",
    "maxarr = np.unravel_index(np.argmax(img),img.shape)\n",
    "maxT = maxarr[1]"
   ]
  },
  {
   "cell_type": "code",
   "execution_count": 14,
   "metadata": {
    "collapsed": false
   },
   "outputs": [
    {
     "data": {
      "text/plain": [
       "(754, 11)"
      ]
     },
     "execution_count": 14,
     "metadata": {},
     "output_type": "execute_result"
    }
   ],
   "source": [
    "maxarr"
   ]
  },
  {
   "cell_type": "code",
   "execution_count": 15,
   "metadata": {
    "collapsed": false
   },
   "outputs": [],
   "source": [
    "winlen = 20\n",
    "t = img[:,np.arange(maxT - math.floor(winlen/2),maxT + math.floor(winlen/2))]\n",
    "Qm = t.sum(axis=1)"
   ]
  },
  {
   "cell_type": "code",
   "execution_count": 16,
   "metadata": {
    "collapsed": false
   },
   "outputs": [
    {
     "data": {
      "text/latex": [
       "$1.2356235 \\; \\mathrm{TeV}$"
      ],
      "text/plain": [
       "<Quantity 1.2356234788894653 TeV>"
      ]
     },
     "execution_count": 16,
     "metadata": {},
     "output_type": "execute_result"
    }
   ],
   "source": [
    "event.mc.energy"
   ]
  },
  {
   "cell_type": "code",
   "execution_count": 17,
   "metadata": {
    "collapsed": false
   },
   "outputs": [
    {
     "data": {
      "image/png": "[encoded data removed]",
      "text/plain": [
       "<matplotlib.figure.Figure at 0x1f152af60>"
      ]
     },
     "metadata": {},
     "output_type": "display_data"
    }
   ],
   "source": [
    "#plt.rcParams['figure.figsize'] = (10.0, 8.0)\n",
    "geom = CameraGeometry.guess(*event.meta.pixel_pos[tels[0]], event.meta.optical_foclen[tels[0]])\n",
    "disp = CameraDisplay(geom)\n",
    "disp.image = img[:,maxarr[1]]\n",
    "disp.cmap = plt.cm.RdBu_r\n",
    "disp.add_colorbar()\n",
    "disp.set_limits_percent(95)  # autoscale"
   ]
  },
  {
   "cell_type": "code",
   "execution_count": 18,
   "metadata": {
    "collapsed": false
   },
   "outputs": [
    {
     "data": {
      "image/png": "[encoded data removed]",
      "text/plain": [
       "<matplotlib.figure.Figure at 0x1f152a5f8>"
      ]
     },
     "metadata": {},
     "output_type": "display_data"
    }
   ],
   "source": [
    "plt.rcParams['figure.figsize'] = (10.0, 8.0)\n",
    "geom = CameraGeometry.guess(*event.meta.pixel_pos[tels[0]], event.meta.optical_foclen[tels[0]])\n",
    "disp = CameraDisplay(geom)\n",
    "disp.image = Qm\n",
    "disp.cmap = plt.cm.RdBu_r\n",
    "disp.add_colorbar()\n",
    "disp.set_limits_percent(95)  # autoscale"
   ]
  },
  {
   "cell_type": "code",
   "execution_count": 19,
   "metadata": {
    "collapsed": false
   },
   "outputs": [
    {
     "data": {
      "image/png": "[encoded data removed]",
      "text/plain": [
       "<matplotlib.figure.Figure at 0x1f1f2fb38>"
      ]
     },
     "metadata": {},
     "output_type": "display_data"
    }
   ],
   "source": [
    "plt.rcParams['figure.figsize'] = (10.0, 8.0)\n",
    "geom = CameraGeometry.guess(*event.meta.pixel_pos[tels[0]], event.meta.optical_foclen[tels[0]])\n",
    "disp = CameraDisplay(geom)\n",
    "disp.image = Qt\n",
    "disp.cmap = plt.cm.RdBu_r\n",
    "disp.add_colorbar()\n",
    "disp.set_limits_percent(95)  # autoscale"
   ]
  },
  {
   "cell_type": "code",
   "execution_count": null,
   "metadata": {
    "collapsed": true
   },
   "outputs": [],
   "source": []
  },
  {
   "cell_type": "code",
   "execution_count": null,
   "metadata": {
    "collapsed": true
   },
   "outputs": [],
   "source": []
  },
  {
   "cell_type": "code",
   "execution_count": null,
   "metadata": {
    "collapsed": true
   },
   "outputs": [],
   "source": []
  }
 ],
 "metadata": {
  "kernelspec": {
   "display_name": "Python 3",
   "language": "python",
   "name": "python3"
  },
  "language_info": {
   "codemirror_mode": {
    "name": "ipython",
    "version": 3
   },
   "file_extension": ".py",
   "mimetype": "text/x-python",
   "name": "python",
   "nbconvert_exporter": "python",
   "pygments_lexer": "ipython3",
   "version": "3.5.1"
  }
 },
 "nbformat": 4,
 "nbformat_minor": 0
}
