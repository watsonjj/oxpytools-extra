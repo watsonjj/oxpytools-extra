{
 "cells": [
  {
   "cell_type": "markdown",
   "metadata": {},
   "source": [
    "# Introduction to Python Numerics with NumPy\n",
    "\n",
    "NumPy homepage: http://www.numpy.org\n",
    "\n",
    "\n",
    "Things to keep in mind:\n",
    "* as an interpreted language, python for-loops are ***very slow***\n",
    "* however, it has a strong following in the numerical scientific community! How?\n",
    "* thanks to the extremely performat *NumPy* library!\n",
    "\n",
    "## What does NumPy provide?\n",
    "\n",
    "* a powerful data structure called the *NDArray*, which is a flexible n-dimensional array\n",
    "* a set of functions that operate on *NDArrays* in an efficient manner\n",
    "* the concept of \"vector operations\", operating on many elements at once, avoiding for-loops\n",
    "* tools for integrating C/C++ and Fortran code\n",
    "* useful linear algebra, Fourier transform, and random number capabilities\n",
    "\n",
    "NumPy is used to build nearly all other scientific python libraries. In paricular it's sister project *SciPy* provides scientific functionality on top of NumPy (that will be covered later)\n",
    "\n",
    "## the power of NumPy\n",
    "* It makes writing sometimes very complex operations much simpler and more compact\n",
    "* the library is implemented in C, and even uses ***blas*** internally\n",
    " * blas is a standard for linear algebra operations\n",
    " * blas has many ultra-optimized implementations, that are tailored to each CPU (you cannot make linear algebra faster by hand!)\n",
    " * by default NumPy is linked with <a href=\"http://math-atlas.sourceforge.net\">atlas</a> or Intel's <a href=\"https://software.intel.com/en-us/intel-mkl\"> ***Math Kernel Library (MKL)*** </a> on Anaconda based systems, which uses every fancy feature of Intel CPUs, including multithreading, etc\n",
    "* for this reason it is often as fast or faster than hand-coded C code!\n",
    " \n",
    "----------\n",
    "\n",
    "## The NumPy NDArray: a quick start\n",
    "\n",
    "### converting from lists to NDArrays:"
   ]
  },
  {
   "cell_type": "code",
   "execution_count": null,
   "metadata": {
    "collapsed": true
   },
   "outputs": [],
   "source": [
    "# first import numpy (it's customary to avoid typing numpy by aliasing it to \"np\")\n",
    "import numpy as np  \n",
    "from matplotlib import pyplot as plt\n",
    "%matplotlib inline"
   ]
  },
  {
   "cell_type": "code",
   "execution_count": null,
   "metadata": {
    "collapsed": false
   },
   "outputs": [],
   "source": [
    "mydata = [1.3, 3.5, 6.3, 1.2, 1.2, 7.9, 7,8, 1.0]\n",
    "arr = np.array(mydata)\n",
    "print(arr)\n",
    "print(arr.dtype)"
   ]
  },
  {
   "cell_type": "markdown",
   "metadata": {},
   "source": [
    "looks somewhat similar to a list, but it is vastly different:\n",
    "* NDArrays can have only a single data type called the \"dtype\" (so you can't mix floats32 with int64 for example)\n",
    "* NDArrays are stored contiguously in memory\n",
    "* you can specify a dtype when constructing it, and also change between dtypes:"
   ]
  },
  {
   "cell_type": "code",
   "execution_count": null,
   "metadata": {
    "collapsed": false
   },
   "outputs": [],
   "source": [
    "farr = np.array(mydata, dtype=np.float16)\n",
    "print(\"original version:\", arr)\n",
    "print(\"float16 version : \", farr)  # note we lost precision!\n",
    "print(\"  int32 version : \", arr.astype(np.int32)) # casting with astype()"
   ]
  },
  {
   "cell_type": "markdown",
   "metadata": {},
   "source": [
    "### Inspect the attribues of an NDArray\n",
    "* **dtype**: the data type\n",
    "* **size**: the total number of elements (see later when we use more than 1D)\n",
    "* **shape**: the length of each dimension\n",
    "* **ndim**: the number of dimensions"
   ]
  },
  {
   "cell_type": "code",
   "execution_count": null,
   "metadata": {
    "collapsed": false
   },
   "outputs": [],
   "source": [
    "print(arr.dtype)\n",
    "print(arr.ndim)\n",
    "print(arr.size)\n",
    "print(arr.shape)"
   ]
  },
  {
   "cell_type": "code",
   "execution_count": null,
   "metadata": {
    "collapsed": false
   },
   "outputs": [],
   "source": [
    "a2d = np.array( [[1,2,3],[4,5,6]])\n",
    "a2d"
   ]
  },
  {
   "cell_type": "code",
   "execution_count": null,
   "metadata": {
    "collapsed": false
   },
   "outputs": [],
   "source": [
    "print(a2d.ndim ,  \"dimensions\")\n",
    "print(a2d.size , \"elements\")\n",
    "print(a2d.shape, \"shape\")"
   ]
  },
  {
   "cell_type": "markdown",
   "metadata": {},
   "source": [
    "#### create 1D NDArrays without lists"
   ]
  },
  {
   "cell_type": "code",
   "execution_count": null,
   "metadata": {
    "collapsed": false
   },
   "outputs": [],
   "source": [
    "np.arange(100) # integer counter by default"
   ]
  },
  {
   "cell_type": "code",
   "execution_count": null,
   "metadata": {
    "collapsed": false
   },
   "outputs": [],
   "source": [
    "np.arange(50, 100, 3)"
   ]
  },
  {
   "cell_type": "markdown",
   "metadata": {},
   "source": [
    "note that arange works like `range()`, and the final value is not included.\n",
    "\n",
    "Often you want to specify the number of steps to take, rather than the step size (e.g. when plotting, etc). For that, `linspace`  or `logspace` are more useful"
   ]
  },
  {
   "cell_type": "code",
   "execution_count": null,
   "metadata": {
    "collapsed": false
   },
   "outputs": [],
   "source": [
    "x = np.linspace(0,100,10.0)\n",
    "print(\"x=\",x)\n",
    "\n",
    "E = np.logspace(-1, 2, 10) # make energy bins in log space!\n",
    "print(\"E=\",E)"
   ]
  },
  {
   "cell_type": "markdown",
   "metadata": {},
   "source": [
    "### Arithmatic\n",
    "operate on all elements at once (all arrays must have the same dimensionality (sort of, see broadcasting later)Ar"
   ]
  },
  {
   "cell_type": "code",
   "execution_count": null,
   "metadata": {
    "collapsed": false
   },
   "outputs": [],
   "source": [
    "x = np.linspace(-10,10,11)\n",
    "y = np.array([1,1,2,2,3,3,2,2,1,1,1,])\n",
    "x , y "
   ]
  },
  {
   "cell_type": "code",
   "execution_count": null,
   "metadata": {
    "collapsed": false
   },
   "outputs": [],
   "source": [
    "x**2"
   ]
  },
  {
   "cell_type": "code",
   "execution_count": null,
   "metadata": {
    "collapsed": false
   },
   "outputs": [],
   "source": [
    "x + 3*x/2"
   ]
  },
  {
   "cell_type": "code",
   "execution_count": null,
   "metadata": {
    "collapsed": false
   },
   "outputs": [],
   "source": [
    "x * y"
   ]
  },
  {
   "cell_type": "markdown",
   "metadata": {},
   "source": [
    "### Indexing:"
   ]
  },
  {
   "cell_type": "code",
   "execution_count": null,
   "metadata": {
    "collapsed": false
   },
   "outputs": [],
   "source": [
    "x[0] # first element (like in C)"
   ]
  },
  {
   "cell_type": "code",
   "execution_count": null,
   "metadata": {
    "collapsed": false
   },
   "outputs": [],
   "source": [
    "x[3]  # nth element"
   ]
  },
  {
   "cell_type": "code",
   "execution_count": null,
   "metadata": {
    "collapsed": false
   },
   "outputs": [],
   "source": [
    "x[-1]  # last element! (same as x[10], but you don't need to know the length)"
   ]
  },
  {
   "cell_type": "code",
   "execution_count": null,
   "metadata": {
    "collapsed": false
   },
   "outputs": [],
   "source": [
    "x[0:4] # slice of the array from elements 0-3"
   ]
  },
  {
   "cell_type": "code",
   "execution_count": null,
   "metadata": {
    "collapsed": false
   },
   "outputs": [],
   "source": [
    "x[0:4:2] # same, but every 2 elements"
   ]
  },
  {
   "cell_type": "code",
   "execution_count": null,
   "metadata": {
    "collapsed": false
   },
   "outputs": [],
   "source": [
    "x[::-1] # reversed array! "
   ]
  },
  {
   "cell_type": "markdown",
   "metadata": {},
   "source": [
    "this last one is actually quite interesting if you know the internal implementation: it takes no extra memory and all operations should be identical speed to the forward array...\n",
    "\n",
    "### masking (selecting sets of elements)\n",
    "#### standard (boolean) masking:"
   ]
  },
  {
   "cell_type": "code",
   "execution_count": null,
   "metadata": {
    "collapsed": false
   },
   "outputs": [],
   "source": [
    "mask = x > 4\n",
    "mask"
   ]
  },
  {
   "cell_type": "code",
   "execution_count": null,
   "metadata": {
    "collapsed": false
   },
   "outputs": [],
   "source": [
    "x[mask]  # apply boolean mask to return only the elements"
   ]
  },
  {
   "cell_type": "markdown",
   "metadata": {},
   "source": [
    "***important***: masking in general returns a *view* of the array (e.g. the elements still point to the same data!.  This is useful since you can modify it, modifying the original array!"
   ]
  },
  {
   "cell_type": "code",
   "execution_count": null,
   "metadata": {
    "collapsed": false
   },
   "outputs": [],
   "source": [
    "x[mask] = 99  # assign to those e\n",
    "x"
   ]
  },
  {
   "cell_type": "markdown",
   "metadata": {},
   "source": [
    "you could do more powerful things like:"
   ]
  },
  {
   "cell_type": "code",
   "execution_count": null,
   "metadata": {
    "collapsed": false
   },
   "outputs": [],
   "source": [
    "x = np.linspace(0,10,21)\n",
    "print(x)\n",
    "x[(x>2) & (x<6)] = -1\n",
    "print(x)"
   ]
  },
  {
   "cell_type": "markdown",
   "metadata": {},
   "source": [
    "#### Fancy Indexing\n",
    "fancy indexing is using a list of element indices as a mask, rather than a boolean. It can sometimes be slower than boolean masking, since the CPU cannot use vector optimizations on it, but it takes less memory"
   ]
  },
  {
   "cell_type": "code",
   "execution_count": null,
   "metadata": {
    "collapsed": false
   },
   "outputs": [],
   "source": [
    "elements = [0,6,7]\n",
    "x[elements]"
   ]
  },
  {
   "cell_type": "markdown",
   "metadata": {},
   "source": [
    "### create n-dimensional arrays"
   ]
  },
  {
   "cell_type": "code",
   "execution_count": null,
   "metadata": {
    "collapsed": false
   },
   "outputs": [],
   "source": [
    "y = np.ones(10)  # you can also use ones_like(another_array) to use the same shape\n",
    "print(y)\n",
    "z = np.zeros(10)\n",
    "print(z)\n",
    "r = np.random.uniform(10, size=10) # random numbers in a uniform distribution with max 10\n",
    "print(r)\n",
    "rg = np.random.normal(loc=0.0, scale=1.0, size=10) # gaussian samples\n",
    "print(rg)"
   ]
  },
  {
   "cell_type": "code",
   "execution_count": null,
   "metadata": {
    "collapsed": false
   },
   "outputs": [],
   "source": [
    "np.ones(shape=(5,3))  # most accept a shape attribute"
   ]
  },
  {
   "cell_type": "code",
   "execution_count": null,
   "metadata": {
    "collapsed": false
   },
   "outputs": [],
   "source": [
    "np.random.uniform(size=(5,3))  # for random numbers it's called size for some reason"
   ]
  },
  {
   "cell_type": "code",
   "execution_count": null,
   "metadata": {
    "collapsed": false
   },
   "outputs": [],
   "source": [
    "np.random.poisson(lam=6, size=(5,3))  # poisson samples with expatation value of 6"
   ]
  },
  {
   "cell_type": "code",
   "execution_count": null,
   "metadata": {
    "collapsed": false
   },
   "outputs": [],
   "source": [
    "x = np.ones((5,3))\n",
    "y = np.zeros_like(x) #quick way to make the same shape\n",
    "print(x)\n",
    "print(y)"
   ]
  },
  {
   "cell_type": "code",
   "execution_count": null,
   "metadata": {
    "collapsed": false
   },
   "outputs": [],
   "source": [
    "z = np.empty_like(x)"
   ]
  },
  {
   "cell_type": "markdown",
   "metadata": {},
   "source": [
    "#### make 2D arrays from 1D coordinate vectors:"
   ]
  },
  {
   "cell_type": "code",
   "execution_count": null,
   "metadata": {
    "collapsed": true
   },
   "outputs": [],
   "source": [
    "x = np.linspace(-1,1,10)\n",
    "y = np.linspace(-2,2,10)\n",
    "X,Y = np.meshgrid(x, y)\n",
    "\n",
    "Z = X**2 + Y**2"
   ]
  },
  {
   "cell_type": "code",
   "execution_count": null,
   "metadata": {
    "collapsed": false
   },
   "outputs": [],
   "source": [
    "# plot them\n",
    "plt.figure(figsize=(10,3))\n",
    "plt.subplot(1,3,1).set_title('X')\n",
    "plt.pcolormesh(x,y, X)\n",
    "plt.subplot(1,3,2).set_title('Y')\n",
    "plt.pcolormesh(x,y, Y)\n",
    "plt.subplot(1,3,3).set_title('$Z = X^2 + Y^2$')\n",
    "plt.pcolormesh(x,y, Z)"
   ]
  },
  {
   "cell_type": "markdown",
   "metadata": {},
   "source": [
    "### Sorting"
   ]
  },
  {
   "cell_type": "code",
   "execution_count": null,
   "metadata": {
    "collapsed": false
   },
   "outputs": [],
   "source": [
    "x = np.random.randint(10, size=10)\n",
    "print(x)\n",
    "x.sort() #in-place sort (modifies x)\n",
    "print(x)"
   ]
  },
  {
   "cell_type": "code",
   "execution_count": null,
   "metadata": {
    "collapsed": false
   },
   "outputs": [],
   "source": [
    "x = np.random.randint(10, size=10)\n",
    "ind = x.argsort()\n",
    "print(\"x=\", x)\n",
    "print(\"sorted indices=\", ind)\n",
    "print(\"fancy-indexed x=\",x[ind])"
   ]
  },
  {
   "cell_type": "code",
   "execution_count": null,
   "metadata": {
    "collapsed": false
   },
   "outputs": [],
   "source": [
    "print(\"original\",x)\n",
    "print(\"  sorted\",np.sort(x))  # non-descructive sort (faster than above)\n",
    "print(\"original\",x)"
   ]
  },
  {
   "cell_type": "markdown",
   "metadata": {},
   "source": [
    "### Reshaping"
   ]
  },
  {
   "cell_type": "code",
   "execution_count": null,
   "metadata": {
    "collapsed": false
   },
   "outputs": [],
   "source": [
    "x = np.random.randint(10,size=10)\n",
    "x"
   ]
  },
  {
   "cell_type": "code",
   "execution_count": null,
   "metadata": {
    "collapsed": false
   },
   "outputs": [],
   "source": [
    "x.reshape(2,5)"
   ]
  },
  {
   "cell_type": "code",
   "execution_count": null,
   "metadata": {
    "collapsed": false
   },
   "outputs": [],
   "source": [
    "x.reshape(5,2)"
   ]
  },
  {
   "cell_type": "code",
   "execution_count": null,
   "metadata": {
    "collapsed": false
   },
   "outputs": [],
   "source": [
    "x.reshape(5,5)"
   ]
  },
  {
   "cell_type": "code",
   "execution_count": null,
   "metadata": {
    "collapsed": false
   },
   "outputs": [],
   "source": [
    "x.shape = (5,2) # inplace reshape\n",
    "x"
   ]
  },
  {
   "cell_type": "code",
   "execution_count": null,
   "metadata": {
    "collapsed": false
   },
   "outputs": [],
   "source": [
    "x.ravel() # access a view that is flat , you can also ravel specific dimensions\n"
   ]
  },
  {
   "cell_type": "code",
   "execution_count": null,
   "metadata": {
    "collapsed": false
   },
   "outputs": [],
   "source": [
    "np.arange(100).reshape(10,2,5)  # try using reshape(10,10)"
   ]
  },
  {
   "cell_type": "markdown",
   "metadata": {},
   "source": [
    "#### transposing"
   ]
  },
  {
   "cell_type": "code",
   "execution_count": null,
   "metadata": {
    "collapsed": false
   },
   "outputs": [],
   "source": [
    "x = np.random.randint(10,size=(5,2))\n",
    "print(x)\n",
    "print(\"----\")\n",
    "print(x.T)"
   ]
  },
  {
   "cell_type": "markdown",
   "metadata": {},
   "source": [
    "***NOTE:*** reshaping or transposing does not modify the original array! It only changes the indexing scheme that is defined by a set of \"strides\" (offsets in memory) used to access the data (which are part of the NDArray metadata)...\n",
    "\n",
    "\n",
    "To understand you have to see how NDArrays are implemented in C: the data is a single 1D array (e.g. a contiguous block of memory). When you ask for an index, it simply multiplies the *stride* for each dimension with the index and sums them to get the offset into the array:"
   ]
  },
  {
   "cell_type": "code",
   "execution_count": null,
   "metadata": {
    "collapsed": false
   },
   "outputs": [],
   "source": [
    "x.strides"
   ]
  },
  {
   "cell_type": "code",
   "execution_count": null,
   "metadata": {
    "collapsed": false
   },
   "outputs": [],
   "source": [
    "x.data"
   ]
  },
  {
   "cell_type": "markdown",
   "metadata": {},
   "source": [
    "so operations like reversing the array, or reshaping it, just change the stride metadata, and not the array itself!"
   ]
  },
  {
   "cell_type": "markdown",
   "metadata": {},
   "source": [
    "### Basic mathematics"
   ]
  },
  {
   "cell_type": "code",
   "execution_count": null,
   "metadata": {
    "collapsed": false
   },
   "outputs": [],
   "source": [
    "x = np.random.normal(2.0, size=10000)\n",
    "x.mean()"
   ]
  },
  {
   "cell_type": "code",
   "execution_count": null,
   "metadata": {
    "collapsed": false
   },
   "outputs": [],
   "source": [
    "x.std()"
   ]
  },
  {
   "cell_type": "code",
   "execution_count": null,
   "metadata": {
    "collapsed": false
   },
   "outputs": [],
   "source": [
    "x.sum()"
   ]
  },
  {
   "cell_type": "markdown",
   "metadata": {},
   "source": [
    "Project over one dimension using the axis attribute"
   ]
  },
  {
   "cell_type": "code",
   "execution_count": null,
   "metadata": {
    "collapsed": false
   },
   "outputs": [],
   "source": [
    "y = np.random.normal(2.0, size=(10,5))\n",
    "means1 = y.mean(axis=1)\n",
    "means0 = y.mean(axis=0)\n",
    "print(y.shape)\n",
    "print(means0.shape)\n",
    "print(means0)\n",
    "print(means1.shape)\n",
    "print(means1)"
   ]
  },
  {
   "cell_type": "markdown",
   "metadata": {},
   "source": [
    "### Advanced mathematics (and UFuncs)"
   ]
  },
  {
   "cell_type": "code",
   "execution_count": null,
   "metadata": {
    "collapsed": false
   },
   "outputs": [],
   "source": [
    "np.sin(x)"
   ]
  },
  {
   "cell_type": "code",
   "execution_count": null,
   "metadata": {
    "collapsed": false
   },
   "outputs": [],
   "source": [
    "x = np.arange(10)\n",
    "print(x)\n",
    "print(np.log10(x+1))\n",
    "print(np.exp(x))\n",
    "print(x**2)\n",
    "print(x + 3*x + 2)"
   ]
  },
  {
   "cell_type": "code",
   "execution_count": null,
   "metadata": {
    "collapsed": false
   },
   "outputs": [],
   "source": [
    "y = np.random.normal(2.0, size=(10,5))\n",
    "print(\"global mean\",np.mean(y))\n",
    "print(\"mean over y axis\", np.mean(y, axis=1))\n"
   ]
  },
  {
   "cell_type": "markdown",
   "metadata": {},
   "source": [
    "#### Why use vector operations? let's implement subtraction for two 2D arrays"
   ]
  },
  {
   "cell_type": "code",
   "execution_count": null,
   "metadata": {
    "collapsed": true
   },
   "outputs": [],
   "source": []
  },
  {
   "cell_type": "code",
   "execution_count": null,
   "metadata": {
    "collapsed": false
   },
   "outputs": [],
   "source": [
    "def subtract_clike(x,y):\n",
    "    result = np.empty_like(x)\n",
    "    for ii in range(x.shape[0]):\n",
    "        for jj in range(x.shape[1]):\n",
    "            result[ii,jj] = x[ii,jj] - y[ii,jj]\n",
    "    return result\n",
    "\n",
    "def subtract(x,y):\n",
    "    return x-y"
   ]
  },
  {
   "cell_type": "code",
   "execution_count": null,
   "metadata": {
    "collapsed": false
   },
   "outputs": [],
   "source": [
    "X = np.random.uniform(size=(1000,1000))\n",
    "Y = np.random.uniform(size=(1000,1000))"
   ]
  },
  {
   "cell_type": "code",
   "execution_count": null,
   "metadata": {
    "collapsed": false
   },
   "outputs": [],
   "source": [
    "r1 = subtract_clike(X,Y)\n",
    "r2 = subtract(X,Y)\n",
    "print(\"sum of difference:\",np.sum(r1-r2))"
   ]
  },
  {
   "cell_type": "code",
   "execution_count": null,
   "metadata": {
    "collapsed": false
   },
   "outputs": [],
   "source": [
    "%timeit subtract_clike(X,Y)\n",
    "%timeit subtract(X,Y)"
   ]
  },
  {
   "cell_type": "markdown",
   "metadata": {},
   "source": [
    "also, our `subtract` function works for any dimensionality!, not so for the c-like version!"
   ]
  },
  {
   "cell_type": "code",
   "execution_count": null,
   "metadata": {
    "collapsed": false
   },
   "outputs": [],
   "source": [
    "a = np.random.uniform(size=(1000))\n",
    "b = np.random.uniform(size=(1000))\n",
    "r1 = subtract(a,b)\n",
    "r1.shape"
   ]
  },
  {
   "cell_type": "raw",
   "metadata": {},
   "source": [
    "r2= subtract_clike(a,b)"
   ]
  },
  {
   "cell_type": "code",
   "execution_count": null,
   "metadata": {
    "collapsed": false
   },
   "outputs": [],
   "source": [
    "r2.shape  # gives wrong answer for 1D array! \n",
    "# in fact get some random memory since we used empty() not zeros()"
   ]
  },
  {
   "cell_type": "markdown",
   "metadata": {},
   "source": [
    "### Broadcasting\n",
    "combining arrays with different dimensions!"
   ]
  },
  {
   "cell_type": "code",
   "execution_count": null,
   "metadata": {
    "collapsed": false
   },
   "outputs": [],
   "source": [
    "# vector + scalar\n",
    "np.arange(10) + 5"
   ]
  },
  {
   "cell_type": "markdown",
   "metadata": {},
   "source": [
    "Here, the scalar 5 is:\n",
    "* first 'promoted' to a 1-dimensional array of length 1,\n",
    "* then, this array is 'stretched' to length 10 to match the first arra"
   ]
  },
  {
   "cell_type": "code",
   "execution_count": null,
   "metadata": {
    "collapsed": false
   },
   "outputs": [],
   "source": [
    "# 2D array     +   1D array\n",
    "np.ones((3,5)) + np.arange(10,15)"
   ]
  },
  {
   "cell_type": "code",
   "execution_count": null,
   "metadata": {
    "collapsed": false
   },
   "outputs": [],
   "source": [
    "np.arange(10,40,10).reshape((3,1)) + np.arange(5)"
   ]
  },
  {
   "cell_type": "markdown",
   "metadata": {},
   "source": [
    "using **newaxis***"
   ]
  },
  {
   "cell_type": "code",
   "execution_count": null,
   "metadata": {
    "collapsed": true
   },
   "outputs": [],
   "source": [
    "X = np.arange(10, 31, 10)\n",
    "Y = np.arange(5)\n",
    "print(X)"
   ]
  },
  {
   "cell_type": "code",
   "execution_count": null,
   "metadata": {
    "collapsed": false
   },
   "outputs": [],
   "source": [
    "print(X[:, np.newaxis]) # newaxis add another dimension with no data in it!"
   ]
  },
  {
   "cell_type": "code",
   "execution_count": null,
   "metadata": {
    "collapsed": false
   },
   "outputs": [],
   "source": [
    "X[:, np.newaxis] + Y "
   ]
  },
  {
   "cell_type": "markdown",
   "metadata": {},
   "source": [
    "### Basic Linear Algebra"
   ]
  },
  {
   "cell_type": "code",
   "execution_count": null,
   "metadata": {
    "collapsed": false
   },
   "outputs": [],
   "source": [
    "M = np.matrix( [[1,2,3], \n",
    "                [2,3,4],\n",
    "                [4,5,6]])\n",
    "M"
   ]
  },
  {
   "cell_type": "code",
   "execution_count": null,
   "metadata": {
    "collapsed": false
   },
   "outputs": [],
   "source": [
    "M.T  #transpose"
   ]
  },
  {
   "cell_type": "code",
   "execution_count": null,
   "metadata": {
    "collapsed": true
   },
   "outputs": [],
   "source": [
    "y = np.matrix([1,0,1]).T"
   ]
  },
  {
   "cell_type": "code",
   "execution_count": null,
   "metadata": {
    "collapsed": false
   },
   "outputs": [],
   "source": [
    "y"
   ]
  },
  {
   "cell_type": "code",
   "execution_count": null,
   "metadata": {
    "collapsed": false
   },
   "outputs": [],
   "source": [
    "M*y  # matrix multiplication"
   ]
  },
  {
   "cell_type": "code",
   "execution_count": null,
   "metadata": {
    "collapsed": false
   },
   "outputs": [],
   "source": [
    "M @ y  # new syntax in Python 3.5 (works also for normal numpy arrays, not \"matrix\")"
   ]
  },
  {
   "cell_type": "code",
   "execution_count": null,
   "metadata": {
    "collapsed": false
   },
   "outputs": [],
   "source": [
    "np.eye(6)  # identity matrix!"
   ]
  },
  {
   "cell_type": "markdown",
   "metadata": {},
   "source": [
    "matrix multiplication (note this would be different if these were normal np arrays, not `np.matrix`)!"
   ]
  },
  {
   "cell_type": "code",
   "execution_count": null,
   "metadata": {
    "collapsed": false
   },
   "outputs": [],
   "source": [
    "M*M.T   "
   ]
  },
  {
   "cell_type": "code",
   "execution_count": null,
   "metadata": {
    "collapsed": false
   },
   "outputs": [],
   "source": [
    "M @ M.T  # works generaly for matrices and plain np arrays, but only > py35"
   ]
  },
  {
   "cell_type": "markdown",
   "metadata": {},
   "source": [
    "## Plotting\n",
    "\n",
    "numpy very useful when you want to make plots!"
   ]
  },
  {
   "cell_type": "code",
   "execution_count": null,
   "metadata": {
    "collapsed": true
   },
   "outputs": [],
   "source": [
    "x = np.linspace(0,10,1000) # 1000 points in range 0,10"
   ]
  },
  {
   "cell_type": "code",
   "execution_count": null,
   "metadata": {
    "collapsed": false
   },
   "outputs": [],
   "source": [
    "plt.plot( x, np.sin(x*5)**2 * np.exp(-x) )"
   ]
  },
  {
   "cell_type": "code",
   "execution_count": null,
   "metadata": {
    "collapsed": true
   },
   "outputs": [],
   "source": []
  }
 ],
 "metadata": {
  "kernelspec": {
   "display_name": "Python 3",
   "language": "python",
   "name": "python3"
  },
  "language_info": {
   "codemirror_mode": {
    "name": "ipython",
    "version": 3
   },
   "file_extension": ".py",
   "mimetype": "text/x-python",
   "name": "python",
   "nbconvert_exporter": "python",
   "pygments_lexer": "ipython3",
   "version": "3.5.1"
  }
 },
 "nbformat": 4,
 "nbformat_minor": 0
}
