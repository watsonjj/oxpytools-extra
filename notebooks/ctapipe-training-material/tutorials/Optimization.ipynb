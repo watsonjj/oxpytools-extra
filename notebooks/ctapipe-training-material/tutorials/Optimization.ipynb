{
 "cells": [
  {
   "cell_type": "code",
   "execution_count": 15,
   "metadata": {
    "collapsed": false
   },
   "outputs": [],
   "source": [
    "%reset -f"
   ]
  },
  {
   "cell_type": "markdown",
   "metadata": {},
   "source": [
    "# Code optimization and good practices: make the best of Python"
   ]
  },
  {
   "cell_type": "markdown",
   "metadata": {},
   "source": [
    "This notebook is adapated from \"Code Optiization and Good Practices\" from:\n",
    "\n",
    "*Python bootcamp@SAp*, Marc Joos (LMPA) \n",
    "\n",
    "This Notebook is under a [**CreativeCommons BY-NC-SA v.4.0**](https://creativecommons.org/licenses/by-nc-sa/4.0/) license."
   ]
  },
  {
   "cell_type": "markdown",
   "metadata": {},
   "source": [
    "## Preamble: optimize what needs to be optimized"
   ]
  },
  {
   "cell_type": "markdown",
   "metadata": {},
   "source": [
    "> *Premature optimization is the root of all evil.*\n",
    ">\n",
    ">                            — Donald Knuth\n",
    "\n",
    "A good developement pattern is something like:\n",
    " 1. get your program right\n",
    " 2. test it right\n",
    " 3. profile it if you're not satisfy with the performance\n",
    " 4. optimize\n",
    " 5. repeat from 2."
   ]
  },
  {
   "cell_type": "markdown",
   "metadata": {},
   "source": [
    "## Profiling"
   ]
  },
  {
   "cell_type": "markdown",
   "metadata": {},
   "source": [
    "### 1. The IPython `%timeit` magic function"
   ]
  },
  {
   "cell_type": "markdown",
   "metadata": {},
   "source": [
    "`%timeit` is very convenient to profile pieces of code in the interactive IPython shell."
   ]
  },
  {
   "cell_type": "code",
   "execution_count": 1,
   "metadata": {
    "collapsed": false
   },
   "outputs": [
    {
     "name": "stdout",
     "output_type": "stream",
     "text": [
      "100 loops, best of 3: 3.77 ms per loop\n"
     ]
    }
   ],
   "source": [
    "def loop(nx=100, ny=100):\n",
    "    for i in range(nx):\n",
    "        for j in range(ny):\n",
    "            res = i**2 + i*j\n",
    "    return res\n",
    "\n",
    "%timeit loop()"
   ]
  },
  {
   "cell_type": "markdown",
   "metadata": {},
   "source": [
    "### 2. cProfile"
   ]
  },
  {
   "cell_type": "markdown",
   "metadata": {},
   "source": [
    "**cProfile** is the Python profiling interface. It can be use to profile a whole code, and can be called just through your shell command line."
   ]
  },
  {
   "cell_type": "code",
   "execution_count": 2,
   "metadata": {
    "collapsed": false
   },
   "outputs": [
    {
     "name": "stdout",
     "output_type": "stream",
     "text": [
      "         4 function calls in 0.004 seconds\n",
      "\n",
      "   Ordered by: standard name\n",
      "\n",
      "   ncalls  tottime  percall  cumtime  percall filename:lineno(function)\n",
      "        1    0.004    0.004    0.004    0.004 <ipython-input-1-0922eee08823>:1(loop)\n",
      "        1    0.000    0.000    0.004    0.004 <string>:1(<module>)\n",
      "        1    0.000    0.000    0.004    0.004 {built-in method builtins.exec}\n",
      "        1    0.000    0.000    0.000    0.000 {method 'disable' of '_lsprof.Profiler' objects}\n",
      "\n",
      "\n"
     ]
    }
   ],
   "source": [
    "import cProfile\n",
    "cProfile.run('loop()')"
   ]
  },
  {
   "cell_type": "markdown",
   "metadata": {},
   "source": [
    "Or, in your favorite shell:\n",
    "\n",
    "`~$ python -m cProfile myscript.py`\n",
    "\n",
    "You should be careful though, **cProfile** is designed to give the profile of a given program, but shouldn't be used for benchmarking purpose. The profiler introduces overhead in the Python code that are not in your C/Fortran/whitespace functions; they will inevitably look faster!"
   ]
  },
  {
   "cell_type": "markdown",
   "metadata": {},
   "source": [
    "## Speed up your code I: Cython"
   ]
  },
  {
   "cell_type": "markdown",
   "metadata": {},
   "source": [
    "Python is slow because it is an interpreted language; everything as to be evaluated on the fly, with little or no possibility of optimization by the interpreter. C, Fortran and other compiled languages are more efficient because the processor can optimize lots of things at compile time. But most of the time, if you use Python you probably don't want to swith to a compiled language, with a steeper learning curve, little or no plotting possibilities, and a longer development cycle.\n",
    "\n",
    "**Cython** is a good starting point to optimize your code, without modifying it too much or relying too strongly on bits of code written in another language. The idea is very simple: take you Python code, define some variables in a C-like way, and compile it as a C module."
   ]
  },
  {
   "cell_type": "markdown",
   "metadata": {},
   "source": [
    "### First steps"
   ]
  },
  {
   "cell_type": "markdown",
   "metadata": {},
   "source": [
    "Let's try with a simple function to compute $\\pi$, by integrating $f(x) = \\frac{4}{1 + x^2}$:"
   ]
  },
  {
   "cell_type": "code",
   "execution_count": 3,
   "metadata": {
    "collapsed": false
   },
   "outputs": [],
   "source": [
    "import numpy as np\n",
    "\n",
    "f = lambda x: 4./(1. + x*x)\n",
    "\n",
    "def compPi(niter=1000):\n",
    "    h  = 1./niter\n",
    "    pi = 0.\n",
    "    for i in range(niter):\n",
    "        x   = h*(i - 0.5)\n",
    "        pi += f(x)\n",
    "    error = abs(np.arccos(-1.) - pi*h)/np.arccos(-1.)\n",
    "    return pi*h, error"
   ]
  },
  {
   "cell_type": "markdown",
   "metadata": {},
   "source": [
    "If we time it, we get:"
   ]
  },
  {
   "cell_type": "code",
   "execution_count": 4,
   "metadata": {
    "collapsed": false
   },
   "outputs": [
    {
     "name": "stdout",
     "output_type": "stream",
     "text": [
      "1000 loops, best of 3: 300 µs per loop\n"
     ]
    }
   ],
   "source": [
    "pipyversion = %timeit -o compPi()\n",
    "times = []; labels = []\n",
    "times.append(pipyversion.best)\n",
    "labels.append('Python')"
   ]
  },
  {
   "cell_type": "markdown",
   "metadata": {},
   "source": [
    "The first step is to copy/paste your code in a `.pyx` file, that you will then compile.\n",
    "\n",
    "(For the sake of simplicity for the workshop, I'll use the magic `cython` function.)"
   ]
  },
  {
   "cell_type": "code",
   "execution_count": 5,
   "metadata": {
    "collapsed": false
   },
   "outputs": [],
   "source": [
    "%load_ext Cython"
   ]
  },
  {
   "cell_type": "code",
   "execution_count": 6,
   "metadata": {
    "collapsed": false
   },
   "outputs": [],
   "source": [
    "%%cython\n",
    "import numpy as np\n",
    "\n",
    "f = lambda x: 4./(1. + x*x)\n",
    "\n",
    "def compPi_cython(niter=1000):\n",
    "    h  = 1./niter\n",
    "    pi = 0.\n",
    "    for i in xrange(niter):\n",
    "        x   = h*(i - 0.5)\n",
    "        pi += f(x)\n",
    "    error = abs(np.arccos(-1.) - pi*h)/np.arccos(-1.)\n",
    "    return pi*h, error"
   ]
  },
  {
   "cell_type": "markdown",
   "metadata": {},
   "source": [
    "Let's time it:"
   ]
  },
  {
   "cell_type": "code",
   "execution_count": 7,
   "metadata": {
    "collapsed": false
   },
   "outputs": [
    {
     "name": "stdout",
     "output_type": "stream",
     "text": [
      "10000 loops, best of 3: 101 µs per loop\n"
     ]
    }
   ],
   "source": [
    "picy1version = %timeit -o compPi_cython()\n",
    "times.append(picy1version.best)\n",
    "labels.append('Cython\\n(copy-paste)')"
   ]
  },
  {
   "cell_type": "markdown",
   "metadata": {},
   "source": [
    "Which is pretty cool: doing nothing but a copy/paste, we already improved the performance! But we can do better; first, by declaring some variables, second, by redefining our `f` function in a C way (using `cdef` instead of `def`):"
   ]
  },
  {
   "cell_type": "code",
   "execution_count": 8,
   "metadata": {
    "collapsed": false
   },
   "outputs": [],
   "source": [
    "%%cython\n",
    "import numpy as np\n",
    "\n",
    "cdef double f(double x):\n",
    "    return 4./(1. + x*x)\n",
    "\n",
    "def compPi_cython(int niter=1000):\n",
    "    cdef:\n",
    "        int i\n",
    "        double error\n",
    "        double h  = 1./niter\n",
    "        double pi = 0.\n",
    "    for i in range(niter):\n",
    "        x   = h*(i - 0.5)\n",
    "        pi += f(x)\n",
    "    error = abs(np.arccos(-1.) - pi*h)/np.arccos(-1.)\n",
    "    return pi*h, error"
   ]
  },
  {
   "cell_type": "code",
   "execution_count": 22,
   "metadata": {
    "collapsed": false
   },
   "outputs": [
    {
     "name": "stdout",
     "output_type": "stream",
     "text": [
      "10000 loops, best of 3: 28.4 µs per loop\n"
     ]
    }
   ],
   "source": [
    "picy2version = %timeit -o compPi_cython()\n",
    "times.append(picy2version.best)\n",
    "labels.append('Cython\\n(with cdef)')"
   ]
  },
  {
   "cell_type": "markdown",
   "metadata": {},
   "source": [
    "**Note:** Since `f` was defined using `cdef`, it can be called only in the Cython module. The advantage is that it is closer to a \"real\" C function, and it removes some overheads of the Python functions. If you need the function to be called both from Cython and Python, you can use `cpdef`; it will then produce (at compile time) two versions of the function: one for Cython, and one for Python."
   ]
  },
  {
   "cell_type": "markdown",
   "metadata": {},
   "source": [
    "Cython comes with directives (that you can use as decorator) to further optimize your code. In particular, there is (find all the directives on the [Cython compilation page](http://docs.cython.org/src/reference/compilation.html)):\n",
    "- `boundcheck`: if `False`, Cython presumes the indices existence (default: `True`);\n",
    "- `wraparound`: if `False`, Cython does not check if the index is negative (default: `True`);\n",
    "- `cdivision`: if `True`, Cython uses C division (default: `False`).\n",
    "\n",
    "Let's try:"
   ]
  },
  {
   "cell_type": "code",
   "execution_count": 9,
   "metadata": {
    "collapsed": false
   },
   "outputs": [],
   "source": [
    "%%cython\n",
    "import cython\n",
    "import numpy as np\n",
    "\n",
    "@cython.cdivision(True)\n",
    "cdef double f(double x):\n",
    "    return 4./(1. + x*x)\n",
    "\n",
    "def compPi_cython(int niter=1000):\n",
    "    cdef:\n",
    "        int i\n",
    "        double error\n",
    "        double h  = 1./niter\n",
    "        double pi = 0.\n",
    "    for i in range(niter):\n",
    "        x   = h*(i - 0.5)\n",
    "        pi += f(x)\n",
    "    error = abs(np.arccos(-1.) - pi*h)/np.arccos(-1.)\n",
    "    return pi*h, error"
   ]
  },
  {
   "cell_type": "code",
   "execution_count": 10,
   "metadata": {
    "collapsed": false
   },
   "outputs": [
    {
     "name": "stdout",
     "output_type": "stream",
     "text": [
      "The slowest run took 4.93 times longer than the fastest. This could mean that an intermediate result is being cached \n",
      "100000 loops, best of 3: 5.97 µs per loop\n"
     ]
    }
   ],
   "source": [
    "picy3version = %timeit -o compPi_cython()\n",
    "times.append(picy3version.best)\n",
    "labels.append('Cython\\n(with decorators)')"
   ]
  },
  {
   "cell_type": "markdown",
   "metadata": {},
   "source": [
    "Let's plot these results to summarize what we have achieve so far:"
   ]
  },
  {
   "cell_type": "code",
   "execution_count": 11,
   "metadata": {
    "collapsed": false
   },
   "outputs": [
    {
     "data": {
      "image/png": "[encoded data removed]",
      "text/plain": [
       "<matplotlib.figure.Figure at 0x109d105f8>"
      ]
     },
     "metadata": {},
     "output_type": "display_data"
    }
   ],
   "source": [
    "%matplotlib inline\n",
    "import pylab as pl\n",
    "pl.style.use(\"ggplot\")\n",
    "\n",
    "def plotElpTime(times, labels, *args, **kwargs):\n",
    "    fig = pl.figure(figsize=(len(times)*2,5))\n",
    "    pl.title(r'Elapsed time for $\\pi$ computation')\n",
    "    pl.ylabel('time (s)')\n",
    "    pl.xticks(range(len(times)), labels)\n",
    "    pl.xlim(-0.5, len(times)-0.5)\n",
    "    pl.semilogy(times, 'ro')\n",
    "    return fig\n",
    " \n",
    "fig = plotElpTime(times, labels)"
   ]
  },
  {
   "cell_type": "markdown",
   "metadata": {},
   "source": [
    "### Calling other Cython modules in Cython"
   ]
  },
  {
   "cell_type": "markdown",
   "metadata": {},
   "source": [
    "A Cython script can be split in two parts, one with the declarations (a `.pxd` file) and one with the rest of the code (a `.pyx` file). Then, if you need something declared in another Cython module's definition file, you can `import` (for Python-like functions) or `cimport` (for C like functions) the module in your code:"
   ]
  },
  {
   "cell_type": "markdown",
   "metadata": {
    "collapsed": false
   },
   "source": [
    "``` python\n",
    "# First Cython module (mod1.pyx)\n",
    "\n",
    "cdef myFunc(type arg):\n",
    "    doSomething\n",
    "    return things\n",
    "\n",
    "def myPyFunc(type arg):\n",
    "    doSomething\n",
    "    return things\n",
    "```"
   ]
  },
  {
   "cell_type": "markdown",
   "metadata": {
    "collapsed": false
   },
   "source": [
    "``` python\n",
    "# Definition file (mod1.pxd)\n",
    "\n",
    "cdef myFunc(type arg)\n",
    "def myPyFunc(type arg)\n",
    "```"
   ]
  },
  {
   "cell_type": "markdown",
   "metadata": {
    "collapsed": false
   },
   "source": [
    "``` python\n",
    "# Second Cython module (another pyx file)\n",
    "cimport mod1 as cmod1\n",
    "import mod1 as pmod1\n",
    "\n",
    "cdef anotherFunc(type arg):\n",
    "    something = pmod1.myPyFunc(arg)\n",
    "    somethingElse = cmod1.myFunc(arg)\n",
    "    return otherThings\n",
    "```"
   ]
  },
  {
   "cell_type": "markdown",
   "metadata": {},
   "source": [
    "In particular, NumPy can be interfaced with Cython using this:"
   ]
  },
  {
   "cell_type": "code",
   "execution_count": 12,
   "metadata": {
    "collapsed": false
   },
   "outputs": [],
   "source": [
    "# Python version:\n",
    "import numpy as np\n",
    "\n",
    "def dummyLoop(nx=100, ny=100):\n",
    "    arr = np.zeros((nx,ny))\n",
    "    for i in range(nx):\n",
    "        for j in range(ny):\n",
    "            arr[i,j] = i*i + i*j\n",
    "    return arr"
   ]
  },
  {
   "cell_type": "code",
   "execution_count": 13,
   "metadata": {
    "collapsed": false
   },
   "outputs": [
    {
     "name": "stdout",
     "output_type": "stream",
     "text": [
      "100 loops, best of 3: 2.63 ms per loop\n"
     ]
    }
   ],
   "source": [
    "%timeit dummyLoop()"
   ]
  },
  {
   "cell_type": "code",
   "execution_count": 14,
   "metadata": {
    "collapsed": false
   },
   "outputs": [],
   "source": [
    "%%cython\n",
    "# Cython version:\n",
    "import numpy as np\n",
    "cimport numpy as cnp\n",
    "\n",
    "def dummyLoop_cython(int nx=100, int ny=100):\n",
    "    cdef cnp.ndarray[cnp.float64_t, ndim=2] arr = np.zeros((nx,ny))\n",
    "    for i in range(nx):\n",
    "        for j in range(ny):\n",
    "            arr[i,j] = i*i + i*j\n",
    "    return arr"
   ]
  },
  {
   "cell_type": "code",
   "execution_count": 15,
   "metadata": {
    "collapsed": false
   },
   "outputs": [
    {
     "name": "stdout",
     "output_type": "stream",
     "text": [
      "100 loops, best of 3: 2.14 ms per loop\n"
     ]
    }
   ],
   "source": [
    "%timeit dummyLoop_cython()"
   ]
  },
  {
   "cell_type": "markdown",
   "metadata": {},
   "source": [
    "### Wrapping C/C++ functions with Cython"
   ]
  },
  {
   "cell_type": "markdown",
   "metadata": {},
   "source": [
    "Cython allows you also to wrap C/C++ functions, with the same mechanism:"
   ]
  },
  {
   "cell_type": "code",
   "execution_count": 18,
   "metadata": {
    "collapsed": false
   },
   "outputs": [],
   "source": [
    "%%cython\n",
    "# Header file\n",
    "\n",
    "cdef extern from \"math.h\":\n",
    "    double sin(double angle)\n",
    "    double cos(double angle)"
   ]
  },
  {
   "cell_type": "markdown",
   "metadata": {},
   "source": [
    "### Compiling"
   ]
  },
  {
   "cell_type": "markdown",
   "metadata": {},
   "source": [
    "In real life, you'll need to compile your Cython scripts. To do so, you have to put your Cython program in a `.pyx` file, and then you just have to create a Makefile that looks like this:\n",
    "\n",
    "    FCC = gcc\n",
    "    PYINC = $CONDAPATH/include/python2.7 # with $CONDAPATH the path of your current Anaconda installation\n",
    "\n",
    "    all:\n",
    "        cython cutils.pyx\n",
    "        $(FCC) -fPIC -shared -O3 -Wall -fno-strict-aliasing -I$(PYINC) -o cutils.so cutils.c\n",
    "\n",
    "Then, all you have to do is to compile the script with `make`, and call it in your Python scripts with\n",
    "\n",
    "    import cutils"
   ]
  },
  {
   "cell_type": "markdown",
   "metadata": {},
   "source": [
    "## Speed up your code II: `ctypes`"
   ]
  },
  {
   "cell_type": "markdown",
   "metadata": {},
   "source": [
    "Another alternative to directly wrap your C code in Python is **`ctypes`**. `ctypes` is from the standard library, and actually allows you to call any C compiled library into Python. It is slightly less user-friendly than Cython, and it is very architecture-specific: the library extensions are not the same on different plateforms (Windows `dll` vs. \\*NIX `so`), and you can have 32/64bit problems.\n",
    "\n",
    "That being said, you can proceed first by creating your C source:"
   ]
  },
  {
   "cell_type": "code",
   "execution_count": 19,
   "metadata": {
    "collapsed": false
   },
   "outputs": [
    {
     "name": "stdout",
     "output_type": "stream",
     "text": [
      "Overwriting mylib.c\n"
     ]
    }
   ],
   "source": [
    "%%file mylib.c\n",
    "#include <math.h>\n",
    "\n",
    "double f(double x) {\n",
    "        return 4./(1. + x*x); \n",
    "}\n",
    "\n",
    "double compPi_ctypes(double pi, int niter) {\n",
    "    double h = 1./niter;\n",
    "    double x = 0.;\n",
    "    for (int i=0; i<niter; ++i){\n",
    "        x = h*(i - 0.5);\n",
    "        pi += f(x);\n",
    "    }\n",
    "    pi *= h;\n",
    "    return pi;\n",
    "}"
   ]
  },
  {
   "cell_type": "code",
   "execution_count": 26,
   "metadata": {
    "collapsed": false
   },
   "outputs": [],
   "source": [
    "%%bash\n",
    "gcc -std=c99 -O2 -c -fPIC mylib.c\n",
    "gcc -shared -o mylib.so mylib.o"
   ]
  },
  {
   "cell_type": "code",
   "execution_count": 27,
   "metadata": {
    "collapsed": false
   },
   "outputs": [
    {
     "name": "stdout",
     "output_type": "stream",
     "text": [
      "The slowest run took 7.49 times longer than the fastest. This could mean that an intermediate result is being cached \n",
      "100000 loops, best of 3: 10.4 µs per loop\n"
     ]
    }
   ],
   "source": [
    "import ctypes\n",
    "\n",
    "# import the C library\n",
    "mylib = ctypes.CDLL('mylib.so')\n",
    "# declare result type: default is int\n",
    "mylib.compPi_ctypes.restype = ctypes.c_double\n",
    "# declare arguments type\n",
    "pi = ctypes.c_double(0.); niter = ctypes.c_int(1000)\n",
    "\n",
    "pictversion = %timeit -o mylib.compPi_ctypes(pi, niter)\n",
    "times.append(pictversion.best)\n",
    "labels.append('C')"
   ]
  },
  {
   "cell_type": "code",
   "execution_count": 28,
   "metadata": {
    "collapsed": false
   },
   "outputs": [
    {
     "data": {
      "image/png": "[encoded data removed]",
      "text/plain": [
       "<matplotlib.figure.Figure at 0x11010df28>"
      ]
     },
     "metadata": {},
     "output_type": "display_data"
    }
   ],
   "source": [
    "fig = plotElpTime(times, labels)"
   ]
  },
  {
   "cell_type": "markdown",
   "metadata": {},
   "source": [
    "## Speed up your code IV: Numba"
   ]
  },
  {
   "cell_type": "markdown",
   "metadata": {},
   "source": [
    "One advantage of using Python is to avoid all the compilation steps and all the associated inconveniences. Clearly, with all the previous examples, the compilation step seems once again unavoidable if you want to keep up with good performances.\n",
    "\n",
    "However, with tools as **Numba**, this can be avoided. Numba is a *Just-In-Time compiler* relying on LLVM; it means that machine code can be generated dynamically, on the fly, during the execution.\n",
    "\n",
    "**Numba** can be use simply with the `autojit` decorator:"
   ]
  },
  {
   "cell_type": "code",
   "execution_count": 23,
   "metadata": {
    "collapsed": false
   },
   "outputs": [],
   "source": [
    "from numba import jit\n",
    "\n",
    "# The Python functions to compute pi:\n",
    "f = lambda x: 4./(1. + x*x)\n",
    "\n",
    "def compPi(niter=1000):\n",
    "    h  = 1./niter\n",
    "    pi = 0.\n",
    "    for i in range(niter):\n",
    "        x   = h*(i - 0.5)\n",
    "        pi += f_numba(x)\n",
    "    error = abs(np.arccos(-1.) - pi*h)/np.arccos(-1.)\n",
    "    return pi*h, error\n",
    "\n",
    "# The Just-In-Time-compiled version:\n",
    "@jit\n",
    "def f_numba(x):\n",
    "    return 4./(1. + x*x)\n",
    "\n",
    "@jit\n",
    "def compPi_numba(niter=1000):\n",
    "    h  = 1./niter\n",
    "    pi = 0.\n",
    "    for i in range(niter):\n",
    "        x   = h*(i - 0.5)\n",
    "        pi += f_numba(x)\n",
    "    error = abs(np.arccos(-1.) - pi*h)/np.arccos(-1.)\n",
    "    return pi*h, error"
   ]
  },
  {
   "cell_type": "code",
   "execution_count": 24,
   "metadata": {
    "collapsed": false
   },
   "outputs": [
    {
     "name": "stdout",
     "output_type": "stream",
     "text": [
      "The slowest run took 145.52 times longer than the fastest. This could mean that an intermediate result is being cached \n",
      "1000 loops, best of 3: 325 µs per loop\n",
      "The slowest run took 14207.53 times longer than the fastest. This could mean that an intermediate result is being cached \n",
      "100000 loops, best of 3: 4.6 µs per loop\n"
     ]
    }
   ],
   "source": [
    "%timeit compPi(1000)\n",
    "pinumbaversion = %timeit -o compPi_numba(1000)\n",
    "times.append(pinumbaversion.best)\n",
    "labels.append('Numba')"
   ]
  },
  {
   "cell_type": "code",
   "execution_count": 25,
   "metadata": {
    "collapsed": false
   },
   "outputs": [
    {
     "data": {
      "image/png": "[encoded data removed]",
      "text/plain": [
       "<matplotlib.figure.Figure at 0x110072438>"
      ]
     },
     "metadata": {},
     "output_type": "display_data"
    }
   ],
   "source": [
    "fig = plotElpTime(times, labels)"
   ]
  },
  {
   "cell_type": "markdown",
   "metadata": {},
   "source": [
    "And therefore, with almost no effort or modifications of the code, we get a results only a few percents slower than the best we had with compiled code.\n",
    "\n",
    "Bad news is Numba is still young and still struggle to take the best of Python, in particular with complex code -- it can be slower than pure Python+NumPy. It does not support (yet?) list comprehension either. But it is always worth trying, to see what you can achieve with this simple approach."
   ]
  },
  {
   "cell_type": "markdown",
   "metadata": {},
   "source": [
    "## Speed up your code V: other alternatives"
   ]
  },
  {
   "cell_type": "markdown",
   "metadata": {},
   "source": [
    "There are other existing alternatives to Cython, ctypes, f2py or numba I presented here. In particular, there is:\n",
    "- [Python C API](http://docs.python.org/2/c-api/): Python is implemented in C, and you can actually write C code which will compile to a Python module! This is extremely low-level, and I would only recommend it if you enjoy pain (see Dan Foreman-Mackie's [blog post](http://dan.iel.fm/posts/python-c-extensions/) for a concise-as-possible introduction);\n",
    "- [SWIG](http://www.swig.org/): the Simplified Wrapper Interface Generator, can generate wrappers from a variety of low-level languages to a variety of high-level languages.  It's used heavily by LSST and other projects;\n",
    "- [Weave](http://docs.scipy.org/doc/scipy/reference/tutorial/weave.html): included in SciPy, weave is a method of putting C snippets within a Python program.  It's largely been superseded by Cython in practice;\n",
    "- [PyPy](http://pypy.org/): a JIT compiler for Python written in Python.  PyPy doesn't support the C backend which most scientific tools rely on, so it's not extremely useful for scientific computing. Typically, forget it if you use NumPy (and I guess I just lost everybody in the room)."
   ]
  },
  {
   "cell_type": "markdown",
   "metadata": {},
   "source": [
    "## Speed up your code VI: Concurrent and parallel computing with Python"
   ]
  },
  {
   "cell_type": "markdown",
   "metadata": {},
   "source": [
    "### 1. Multiprocessing"
   ]
  },
  {
   "cell_type": "markdown",
   "metadata": {},
   "source": [
    "Python allows, to a certain point, to use **parallel** or **concurrent** computing, using multiple threads or processes.The simplest, to use concurrency, is to use the `multiprocessing` package. `multiprocessing` is using processes and not threads because of the Python interpreter that is not thread-safe: some internal data structures are accessible by one thread and one thread only at a time, and everything is under control by the GIL (Global Interpreter Lock). To circumvent this problem, multprocessing is using different processes on which the critical data structures are independently copied.\n",
    "\n",
    "In the first example, we create a process for every call (here of a function, that will perform a given task) we want to do."
   ]
  },
  {
   "cell_type": "code",
   "execution_count": null,
   "metadata": {
    "collapsed": false
   },
   "outputs": [],
   "source": [
    "import os\n",
    "import multiprocessing as mp\n",
    "\n",
    "def doSomething(wdir='./'):\n",
    "    print('working on process: %d' %os.getpid())\n",
    "    print(os.listdir(wdir))\n",
    "    \n",
    "def launchSimple(listdir=('./', '../',)):\n",
    "    for wdir in listdir:\n",
    "        # Create processes\n",
    "        p = mp.Process(target=doSomething, args=(wdir,))\n",
    "        # Launch processes\n",
    "        p.start()\n",
    "        # Wait until processes terminate\n",
    "        p.join()\n",
    "        \n",
    "launchSimple()"
   ]
  },
  {
   "cell_type": "markdown",
   "metadata": {},
   "source": [
    "We see the limitation of this first example: we can execute in parallel independent tasks, but we cannot get back the results. The simplest is to use a queue, in which we will put the results of every process:"
   ]
  },
  {
   "cell_type": "code",
   "execution_count": null,
   "metadata": {
    "collapsed": false
   },
   "outputs": [],
   "source": [
    "def doItInQueue(q, wdir='./'):\n",
    "    print('working on process: %d' %os.getpid())\n",
    "    q.put(os.listdir(wdir))\n",
    "    \n",
    "def launchQueue(listdir=('./', '../',)):\n",
    "    # Create queue\n",
    "    q = mp.Queue()\n",
    "    result = []\n",
    "    for wdir in listdir:\n",
    "        # Create processes\n",
    "        p = mp.Process(target=doItInQueue, args=(q, wdir))\n",
    "        # Launch processes\n",
    "        p.start()\n",
    "        # Wait until processes terminate\n",
    "        p.join()\n",
    "        # Get results\n",
    "        result.append(q.get())\n",
    "    return result\n",
    "\n",
    "launchQueue()"
   ]
  },
  {
   "cell_type": "markdown",
   "metadata": {},
   "source": [
    "Then, reading the multiprocessing documentation, you realize that you could it in an even simpler way, using pools of processes with `Pool()`. Pools come with a map method, that works as the classical map function in Python (you can map a function on a list of arguments):"
   ]
  },
  {
   "cell_type": "code",
   "execution_count": null,
   "metadata": {
    "collapsed": false
   },
   "outputs": [],
   "source": [
    "def doItInPool(wdir='./'):\n",
    "    print('working on process: %d' %os.getpid())\n",
    "    return os.listdir(wdir)\n",
    "\n",
    "def launchPool(listdir=['./', '../']):\n",
    "    # Get number of CPU available and define the number of processes\n",
    "    nproc  = mp.cpu_count()*2\n",
    "    # Create pool\n",
    "    pool   = mp.Pool(processes=nproc)\n",
    "    # Distribute the work among processes\n",
    "    result = pool.map(doItInPool, listdir)\n",
    "    return result\n",
    "\n",
    "launchPool()"
   ]
  },
  {
   "cell_type": "markdown",
   "metadata": {},
   "source": [
    "Lastly, for a more advance use, you can create queues to manage both the tasks to execute and the results to get back, with workers:"
   ]
  },
  {
   "cell_type": "code",
   "execution_count": null,
   "metadata": {
    "collapsed": false
   },
   "outputs": [],
   "source": [
    "def doItWithWorker(tasks, results):\n",
    "    for i, task in iter(tasks.get, 'STOP'):\n",
    "        results.put((i, os.getpid(), os.listdir(task)))\n",
    "    \n",
    "def launchWorker(listdir=['./', '../']):\n",
    "    # Get number of CPU available and define the number of processes\n",
    "    nproc   = mp.cpu_count()*2\n",
    "    # Create queues\n",
    "    tasks   = mp.Queue()\n",
    "    results = mp.Queue()\n",
    "\n",
    "    # Create list of tasks\n",
    "    for i, out in enumerate(listdir):\n",
    "        tasks.put((i, out))\n",
    "\n",
    "    # Distribute the work among processes\n",
    "    for i in xrange(nproc-1):\n",
    "        p = mp.Process(target=doItWithWorker, args=(tasks, results))\n",
    "        p.start()\n",
    "\n",
    "    # Tell processes to stop when they are done\n",
    "    for i in xrange(nproc-1):\n",
    "        tasks.put('STOP')\n",
    "    \n",
    "    # Gather results\n",
    "    result = []\n",
    "    for i in xrange(len(listdir)):\n",
    "        j, pid, res = results.get()\n",
    "        print('Task #%02d was done on process #%d' %(j,pid))\n",
    "        result.append(res)\n",
    "\n",
    "    return result\n",
    "\n",
    "launchWorker()"
   ]
  },
  {
   "cell_type": "markdown",
   "metadata": {},
   "source": [
    "### 2. mpi4py"
   ]
  },
  {
   "cell_type": "markdown",
   "metadata": {},
   "source": [
    "A very last alternative is to use `mpi4py`. For one used to parallel programming, it is utterly simple to use: you just have to create a global communicator, and then to do your domain decomposition. In the end, you could retrieve the data through a communication (typically a `comm.Gather()` call in this example)."
   ]
  },
  {
   "cell_type": "code",
   "execution_count": null,
   "metadata": {
    "collapsed": false
   },
   "outputs": [],
   "source": [
    "%%file parallel.py\n",
    "#!/usr/bin/env python\n",
    "import os\n",
    "import argparse\n",
    "from mpi4py import MPI\n",
    "\n",
    "def launchMPI(listdir=['./', '../']):\n",
    "    # Initialize MPI creating COMM_WORLD communicator\n",
    "    comm = MPI.COMM_WORLD\n",
    "    # Get size of the MPI domain and rank of the process\n",
    "    size = comm.Get_size()\n",
    "    rank = comm.Get_rank()\n",
    "    \n",
    "    # Distribute work among MPI processes\n",
    "    nfp = len(listdir)/size\n",
    "    for i in xrange(nfp+1):\n",
    "        idx = i*size + rank\n",
    "        print('working on process: %d with PID: %d' %(rank,os.getpid()))\n",
    "        if idx < len(listdir):\n",
    "            print(os.listdir(listdir[idx]))\n",
    "        else:\n",
    "            print('Nothing to be done.')\n",
    "\n",
    "def main():\n",
    "    parser = argparse.ArgumentParser(description='')\n",
    "    parser.add_argument('--with-mpi', '-m', dest='mpi', action='store_true' \\\n",
    "                            , help='to launch MPI test')\n",
    "    args = parser.parse_args()\n",
    "\n",
    "    mpi = args.mpi\n",
    "    if mpi: launchMPI()\n",
    "\n",
    "if __name__ == '__main__':\n",
    "    main()"
   ]
  },
  {
   "cell_type": "code",
   "execution_count": null,
   "metadata": {
    "collapsed": false
   },
   "outputs": [],
   "source": [
    "%%bash\n",
    "chmod +x parallel.py\n",
    "mpirun -np 4 ./parallel.py -m"
   ]
  },
  {
   "cell_type": "markdown",
   "metadata": {},
   "source": [
    "## Useful tips and tricks"
   ]
  },
  {
   "cell_type": "markdown",
   "metadata": {},
   "source": [
    "### 1. `range` vs. `xrange` -- always prefer iterators!"
   ]
  },
  {
   "cell_type": "markdown",
   "metadata": {},
   "source": [
    " - `range(n)` generates a list of `n` elements, that is stored in memory\n",
    " - `xrange(n)` generates an iterator; integers are generated when requested"
   ]
  },
  {
   "cell_type": "code",
   "execution_count": null,
   "metadata": {
    "collapsed": false
   },
   "outputs": [],
   "source": [
    "import sys\n",
    "\n",
    "print sys.getsizeof(range(1000))\n",
    "print sys.getsizeof(xrange(1000))"
   ]
  },
  {
   "cell_type": "markdown",
   "metadata": {},
   "source": [
    "And there are lots of already-made iterators waiting for you out there. Typically, dictonaries also come with iterators:"
   ]
  },
  {
   "cell_type": "code",
   "execution_count": null,
   "metadata": {
    "collapsed": false
   },
   "outputs": [],
   "source": [
    "dict_ = {'rho': 1.e3, 'P': 1.e2, 'v': 42.}\n",
    "# Works also with 'values' and 'items'\n",
    "print dict_.keys()\n",
    "print dict_.iterkeys()"
   ]
  },
  {
   "cell_type": "markdown",
   "metadata": {},
   "source": [
    "### 2. Concatenate vs. extend"
   ]
  },
  {
   "cell_type": "markdown",
   "metadata": {},
   "source": [
    "When you concatenate, Python has to evaluate the list to access the last element. When you extend, Python creates each element without evaluating the list or accessing the last created element."
   ]
  },
  {
   "cell_type": "code",
   "execution_count": null,
   "metadata": {
    "collapsed": false
   },
   "outputs": [],
   "source": [
    "def initListConcat(n=100):\n",
    "    list_ = []\n",
    "    for i in xrange(n):\n",
    "        list_.append(i)\n",
    "    return list_\n",
    "\n",
    "def initListExtend(n=100):\n",
    "    list_ = [i for i in xrange(n)]\n",
    "    return list_\n",
    "\n",
    "%timeit initListConcat()\n",
    "%timeit initListExtend()"
   ]
  },
  {
   "cell_type": "markdown",
   "metadata": {},
   "source": [
    "### 3. NumPy tricks -- optimize your memory usage"
   ]
  },
  {
   "cell_type": "markdown",
   "metadata": {},
   "source": [
    "In addition to array operations that are to favor over loops (there is almost always a way not to use loops), one should be careful with the memory usage with NumPy. NumPy tends to create a lot of temporary arrays that can cost a lot in memory. For example, if you want to simply perform a multiplication on an array (see above), NumPy will create a temporary array to stock the result, before asigning it to the original arrays."
   ]
  },
  {
   "cell_type": "code",
   "execution_count": null,
   "metadata": {
    "collapsed": false
   },
   "outputs": [],
   "source": [
    "import numpy as np\n",
    "a = np.arange(10)\n",
    "# Therefore, if you want to multiply your array:\n",
    "a = 2*a\n",
    "# prefer one of the following expression:\n",
    "a *= 2\n",
    "np.multiply(a, 2, a)"
   ]
  },
  {
   "cell_type": "markdown",
   "metadata": {},
   "source": [
    "Another example: if you need a small view on an big array, you should probably prefer to copy the view, as an array can't be destroyed while a view exists."
   ]
  },
  {
   "cell_type": "code",
   "execution_count": null,
   "metadata": {
    "collapsed": false
   },
   "outputs": [],
   "source": [
    "bigArr = np.arange(1000000)\n",
    "view = bigArr[42:45]\n",
    "view.flags"
   ]
  },
  {
   "cell_type": "markdown",
   "metadata": {},
   "source": [
    "In particular, take a look at the `OWNDATA` field: `view` does not own its data. So, if you want to delete `bigArr` (with `del bigArr`), you will delete your direct access to its memory, but you won't delete it in memory, since it is in used by `view`.\n",
    "\n",
    "On the contrary, if you use the `.copy()` method:"
   ]
  },
  {
   "cell_type": "code",
   "execution_count": null,
   "metadata": {
    "collapsed": false
   },
   "outputs": [],
   "source": [
    "view = bigArr[42:45].copy()\n",
    "view.flags"
   ]
  },
  {
   "cell_type": "markdown",
   "metadata": {},
   "source": [
    "You now see that `view` owns its data, and the big array can actually be deleted."
   ]
  },
  {
   "cell_type": "markdown",
   "metadata": {},
   "source": [
    "\n"
   ]
  },
  {
   "cell_type": "markdown",
   "metadata": {},
   "source": [
    "## If you want to go further..."
   ]
  },
  {
   "cell_type": "markdown",
   "metadata": {},
   "source": [
    "**Profiling:**\n",
    "- [Profiling in the Python documentation](https://docs.python.org/2/library/profile.html)\n",
    "- [Python module of the Week](http://pymotw.com/2/profile/)\n",
    "\n",
    "**Cython:**\n",
    "- [Cython userguide](http://docs.cython.org/src/userguide/): lots of general informations\n",
    "- [Cython docs: typed memoryviews](http://docs.cython.org/src/userguide/memoryviews.html): useful for working with numpy arrays\n",
    "- [Cython and NumPy](http://docs.cython.org/src/tutorial/numpy.html): some of this is currently a bit out-dated, but that should be addressed in the coming months.\n",
    "- [Scipy Conference 2013 Cython tutorial](http://conference.scipy.org/scipy2013/tutorial_detail.php?id=105) Very good video tutorial by one of Cython's main contributors.\n",
    "\n",
    "**ctypes:**\n",
    "- [CTypes Documentation](http://docs.python.org/2/library/ctypes.html)\n",
    "- [CTypes Tutorial](http://python.net/crew/theller/ctypes/tutorial.html)\n",
    "- [Scipy Cookbook: Ctypes](http://wiki.scipy.org/Cookbook/Ctypes)\n",
    "- [Sage Ctypes Documentation](http://www.sagemath.org/doc/numerical_sage/ctypes.html)\n",
    "\n",
    "**Numba:**\n",
    "- [Numba documentation](http://numba.pydata.org/doc.html)\n",
    "- [Accelerating Python with Numba](http://continuum.io/blog/numba_performance)\n",
    "- [Numba vs. Cython](http://jakevdp.github.io/blog/2013/06/15/numba-vs-cython-take-2/)\n",
    "\n",
    "**multiprocessing:**\n",
    "- [Python documentation](https://docs.python.org/2/library/multiprocessing.html)\n",
    "- [Python Module of the Week](http://pymotw.com/2/multiprocessing/basics.html)\n",
    "\n",
    "**mpi4py:**\n",
    "- [pyHPC tutorial](http://nbviewer.ipython.org/github/pyhpc/pyhpc-tutorial/blob/master/notebooks/03_Scaling_Python.ipynb)\n",
    "\n"
   ]
  },
  {
   "cell_type": "code",
   "execution_count": null,
   "metadata": {
    "collapsed": false
   },
   "outputs": [],
   "source": []
  }
 ],
 "metadata": {
  "kernelspec": {
   "display_name": "Python 3",
   "language": "python",
   "name": "python3"
  },
  "language_info": {
   "codemirror_mode": {
    "name": "ipython",
    "version": 3
   },
   "file_extension": ".py",
   "mimetype": "text/x-python",
   "name": "python",
   "nbconvert_exporter": "python",
   "pygments_lexer": "ipython3",
   "version": "3.5.1"
  }
 },
 "nbformat": 4,
 "nbformat_minor": 0
}
