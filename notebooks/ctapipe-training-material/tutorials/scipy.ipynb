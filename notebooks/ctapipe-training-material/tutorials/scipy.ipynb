{
 "cells": [
  {
   "cell_type": "markdown",
   "metadata": {},
   "source": [
    "# SciPy - Library of scientific algorithms for Python"
   ]
  },
  {
   "cell_type": "markdown",
   "metadata": {},
   "source": [
    "modified from original version by Jean-Marc Casandjian\n",
    "\n",
    "based on:\n",
    "\n",
    "http://dml.riken.jp/~rob/\n",
    " [http://github.com/jrjohansson/scientific-python-lectures](http://github.com/jrjohansson/scientific-python-lectures).\n",
    "\n",
    "http://lmfit.github.io/lmfit-py/\n",
    "\n",
    "http://iminuit.readthedocs.org/en/latest/\n"
   ]
  },
  {
   "cell_type": "markdown",
   "metadata": {},
   "source": [
    "## Introduction"
   ]
  },
  {
   "cell_type": "markdown",
   "metadata": {},
   "source": [
    "The SciPy framework builds on top of the low-level NumPy framework for multidimensional arrays, and provides a large number of higher-level scientific algorithms. Some of the topics that SciPy covers are:\n",
    "\n",
    "* Special functions ([scipy.special](http://docs.scipy.org/doc/scipy/reference/special.html))\n",
    "* Integration ([scipy.integrate](http://docs.scipy.org/doc/scipy/reference/integrate.html))\n",
    "* Optimization ([scipy.optimize](http://docs.scipy.org/doc/scipy/reference/optimize.html))\n",
    "* Interpolation ([scipy.interpolate](http://docs.scipy.org/doc/scipy/reference/interpolate.html))\n",
    "* Fourier Transforms ([scipy.fftpack](http://docs.scipy.org/doc/scipy/reference/fftpack.html))\n",
    "* Signal Processing ([scipy.signal](http://docs.scipy.org/doc/scipy/reference/signal.html))\n",
    "* Linear Algebra ([scipy.linalg](http://docs.scipy.org/doc/scipy/reference/linalg.html))\n",
    "* Sparse Eigenvalue Problems ([scipy.sparse](http://docs.scipy.org/doc/scipy/reference/sparse.html))\n",
    "* Statistics ([scipy.stats](http://docs.scipy.org/doc/scipy/reference/stats.html))\n",
    "* Multi-dimensional image processing ([scipy.ndimage](http://docs.scipy.org/doc/scipy/reference/ndimage.html))\n",
    "* File IO ([scipy.io](http://docs.scipy.org/doc/scipy/reference/io.html))\n",
    "\n",
    "Each of these submodules provides a number of functions and classes that can be used to solve problems in their respective topics.\n",
    "\n",
    "In this lecture we will look at how to use some of these subpackages.\n",
    "\n"
   ]
  },
  {
   "cell_type": "markdown",
   "metadata": {},
   "source": [
    "### Prerequisite"
   ]
  },
  {
   "cell_type": "code",
   "execution_count": 1,
   "metadata": {
    "collapsed": false
   },
   "outputs": [],
   "source": [
    "import scipy"
   ]
  },
  {
   "cell_type": "markdown",
   "metadata": {
    "collapsed": true
   },
   "source": [
    "\n",
    "SciPy Reference Guide: http://docs.scipy.org/doc/scipy/reference/"
   ]
  },
  {
   "cell_type": "markdown",
   "metadata": {},
   "source": [
    "## Integration"
   ]
  },
  {
   "cell_type": "markdown",
   "metadata": {},
   "source": [
    "### Numerical integration: quadrature"
   ]
  },
  {
   "cell_type": "markdown",
   "metadata": {},
   "source": [
    "Numerical evaluation of a function of the type\n",
    "\n",
    "$\\displaystyle \\int_a^b f(x) dx$\n",
    "\n",
    "is called *numerical quadrature*, or simply *quadature*. SciPy provides a series of functions for different kind of quadrature, for example the `quad`, `dblquad` and `tplquad` for single, double and triple integrals, respectively.\n",
    "\n"
   ]
  },
  {
   "cell_type": "code",
   "execution_count": 4,
   "metadata": {
    "collapsed": false
   },
   "outputs": [
    {
     "name": "stdout",
     "output_type": "stream",
     "text": [
      "Help on package scipy.integrate in scipy:\n",
      "\n",
      "NAME\n",
      "    scipy.integrate\n",
      "\n",
      "DESCRIPTION\n",
      "    =============================================\n",
      "    Integration and ODEs (:mod:`scipy.integrate`)\n",
      "    =============================================\n",
      "    \n",
      "    .. currentmodule:: scipy.integrate\n",
      "    \n",
      "    Integrating functions, given function object\n",
      "    ============================================\n",
      "    \n",
      "    .. autosummary::\n",
      "       :toctree: generated/\n",
      "    \n",
      "       quad          -- General purpose integration\n",
      "       dblquad       -- General purpose double integration\n",
      "       tplquad       -- General purpose triple integration\n",
      "       nquad         -- General purpose n-dimensional integration\n",
      "       fixed_quad    -- Integrate func(x) using Gaussian quadrature of order n\n",
      "       quadrature    -- Integrate with given tolerance using Gaussian quadrature\n",
      "       romberg       -- Integrate func using Romberg integration\n",
      "       quad_explain  -- Print information for use of quad\n",
      "       newton_cotes  -- Weights and error coefficient for Newton-Cotes integration\n",
      "       IntegrationWarning -- Warning on issues during integration\n",
      "    \n",
      "    Integrating functions, given fixed samples\n",
      "    ==========================================\n",
      "    \n",
      "    .. autosummary::\n",
      "       :toctree: generated/\n",
      "    \n",
      "       trapz         -- Use trapezoidal rule to compute integral.\n",
      "       cumtrapz      -- Use trapezoidal rule to cumulatively compute integral.\n",
      "       simps         -- Use Simpson's rule to compute integral from samples.\n",
      "       romb          -- Use Romberg Integration to compute integral from\n",
      "                     -- (2**k + 1) evenly-spaced samples.\n",
      "    \n",
      "    .. seealso::\n",
      "    \n",
      "       :mod:`scipy.special` for orthogonal polynomials (special) for Gaussian\n",
      "       quadrature roots and weights for other weighting factors and regions.\n",
      "    \n",
      "    Integrators of ODE systems\n",
      "    ==========================\n",
      "    \n",
      "    .. autosummary::\n",
      "       :toctree: generated/\n",
      "    \n",
      "       odeint        -- General integration of ordinary differential equations.\n",
      "       ode           -- Integrate ODE using VODE and ZVODE routines.\n",
      "       complex_ode   -- Convert a complex-valued ODE to real-valued and integrate.\n",
      "\n",
      "PACKAGE CONTENTS\n",
      "    _dop\n",
      "    _ode\n",
      "    _odepack\n",
      "    _quadpack\n",
      "    _test_multivariate\n",
      "    _test_odeint_banded\n",
      "    lsoda\n",
      "    odepack\n",
      "    quadpack\n",
      "    quadrature\n",
      "    setup\n",
      "    vode\n",
      "\n",
      "CLASSES\n",
      "    builtins.UserWarning(builtins.Warning)\n",
      "        scipy.integrate.quadpack.IntegrationWarning\n",
      "    builtins.object\n",
      "        scipy.integrate._ode.ode\n",
      "            scipy.integrate._ode.complex_ode\n",
      "    \n",
      "    class IntegrationWarning(builtins.UserWarning)\n",
      "     |  Warning on issues during integration.\n",
      "     |  \n",
      "     |  Method resolution order:\n",
      "     |      IntegrationWarning\n",
      "     |      builtins.UserWarning\n",
      "     |      builtins.Warning\n",
      "     |      builtins.Exception\n",
      "     |      builtins.BaseException\n",
      "     |      builtins.object\n",
      "     |  \n",
      "     |  Data descriptors defined here:\n",
      "     |  \n",
      "     |  __weakref__\n",
      "     |      list of weak references to the object (if defined)\n",
      "     |  \n",
      "     |  ----------------------------------------------------------------------\n",
      "     |  Methods inherited from builtins.UserWarning:\n",
      "     |  \n",
      "     |  __init__(self, /, *args, **kwargs)\n",
      "     |      Initialize self.  See help(type(self)) for accurate signature.\n",
      "     |  \n",
      "     |  __new__(*args, **kwargs) from builtins.type\n",
      "     |      Create and return a new object.  See help(type) for accurate signature.\n",
      "     |  \n",
      "     |  ----------------------------------------------------------------------\n",
      "     |  Methods inherited from builtins.BaseException:\n",
      "     |  \n",
      "     |  __delattr__(self, name, /)\n",
      "     |      Implement delattr(self, name).\n",
      "     |  \n",
      "     |  __getattribute__(self, name, /)\n",
      "     |      Return getattr(self, name).\n",
      "     |  \n",
      "     |  __reduce__(...)\n",
      "     |      helper for pickle\n",
      "     |  \n",
      "     |  __repr__(self, /)\n",
      "     |      Return repr(self).\n",
      "     |  \n",
      "     |  __setattr__(self, name, value, /)\n",
      "     |      Implement setattr(self, name, value).\n",
      "     |  \n",
      "     |  __setstate__(...)\n",
      "     |  \n",
      "     |  __str__(self, /)\n",
      "     |      Return str(self).\n",
      "     |  \n",
      "     |  with_traceback(...)\n",
      "     |      Exception.with_traceback(tb) --\n",
      "     |      set self.__traceback__ to tb and return self.\n",
      "     |  \n",
      "     |  ----------------------------------------------------------------------\n",
      "     |  Data descriptors inherited from builtins.BaseException:\n",
      "     |  \n",
      "     |  __cause__\n",
      "     |      exception cause\n",
      "     |  \n",
      "     |  __context__\n",
      "     |      exception context\n",
      "     |  \n",
      "     |  __dict__\n",
      "     |  \n",
      "     |  __suppress_context__\n",
      "     |  \n",
      "     |  __traceback__\n",
      "     |  \n",
      "     |  args\n",
      "    \n",
      "    class complex_ode(ode)\n",
      "     |  A wrapper of ode for complex systems.\n",
      "     |  \n",
      "     |  This functions similarly as `ode`, but re-maps a complex-valued\n",
      "     |  equation system to a real-valued one before using the integrators.\n",
      "     |  \n",
      "     |  Parameters\n",
      "     |  ----------\n",
      "     |  f : callable ``f(t, y, *f_args)``\n",
      "     |      Rhs of the equation. t is a scalar, ``y.shape == (n,)``.\n",
      "     |      ``f_args`` is set by calling ``set_f_params(*args)``.\n",
      "     |  jac : callable ``jac(t, y, *jac_args)``\n",
      "     |      Jacobian of the rhs, ``jac[i,j] = d f[i] / d y[j]``.\n",
      "     |      ``jac_args`` is set by calling ``set_f_params(*args)``.\n",
      "     |  \n",
      "     |  Attributes\n",
      "     |  ----------\n",
      "     |  t : float\n",
      "     |      Current time.\n",
      "     |  y : ndarray\n",
      "     |      Current variable values.\n",
      "     |  \n",
      "     |  Examples\n",
      "     |  --------\n",
      "     |  For usage examples, see `ode`.\n",
      "     |  \n",
      "     |  Method resolution order:\n",
      "     |      complex_ode\n",
      "     |      ode\n",
      "     |      builtins.object\n",
      "     |  \n",
      "     |  Methods defined here:\n",
      "     |  \n",
      "     |  __init__(self, f, jac=None)\n",
      "     |      Initialize self.  See help(type(self)) for accurate signature.\n",
      "     |  \n",
      "     |  integrate(self, t, step=0, relax=0)\n",
      "     |      Find y=y(t), set y as an initial condition, and return y.\n",
      "     |  \n",
      "     |  set_initial_value(self, y, t=0.0)\n",
      "     |      Set initial conditions y(t) = y.\n",
      "     |  \n",
      "     |  set_integrator(self, name, **integrator_params)\n",
      "     |      Set integrator by name.\n",
      "     |      \n",
      "     |      Parameters\n",
      "     |      ----------\n",
      "     |      name : str\n",
      "     |          Name of the integrator\n",
      "     |      integrator_params :\n",
      "     |          Additional parameters for the integrator.\n",
      "     |  \n",
      "     |  set_solout(self, solout)\n",
      "     |      Set callable to be called at every successful integration step.\n",
      "     |      \n",
      "     |      Parameters\n",
      "     |      ----------\n",
      "     |      solout : callable\n",
      "     |          ``solout(t, y)`` is called at each internal integrator step,\n",
      "     |          t is a scalar providing the current independent position\n",
      "     |          y is the current soloution ``y.shape == (n,)``\n",
      "     |          solout should return -1 to stop integration\n",
      "     |          otherwise it should return None or 0\n",
      "     |  \n",
      "     |  ----------------------------------------------------------------------\n",
      "     |  Data descriptors defined here:\n",
      "     |  \n",
      "     |  y\n",
      "     |  \n",
      "     |  ----------------------------------------------------------------------\n",
      "     |  Methods inherited from ode:\n",
      "     |  \n",
      "     |  set_f_params(self, *args)\n",
      "     |      Set extra parameters for user-supplied function f.\n",
      "     |  \n",
      "     |  set_jac_params(self, *args)\n",
      "     |      Set extra parameters for user-supplied function jac.\n",
      "     |  \n",
      "     |  successful(self)\n",
      "     |      Check if integration was successful.\n",
      "     |  \n",
      "     |  ----------------------------------------------------------------------\n",
      "     |  Data descriptors inherited from ode:\n",
      "     |  \n",
      "     |  __dict__\n",
      "     |      dictionary for instance variables (if defined)\n",
      "     |  \n",
      "     |  __weakref__\n",
      "     |      list of weak references to the object (if defined)\n",
      "    \n",
      "    class ode(builtins.object)\n",
      "     |  A generic interface class to numeric integrators.\n",
      "     |  \n",
      "     |  Solve an equation system :math:`y'(t) = f(t,y)` with (optional) ``jac = df/dy``.\n",
      "     |  \n",
      "     |  *Note*: The first two arguments of ``f(t, y, ...)`` are in the\n",
      "     |  opposite order of the arguments in the system definition function used\n",
      "     |  by `scipy.integrate.odeint`.\n",
      "     |  \n",
      "     |  Parameters\n",
      "     |  ----------\n",
      "     |  f : callable ``f(t, y, *f_args)``\n",
      "     |      Right-hand side of the differential equation. t is a scalar,\n",
      "     |      ``y.shape == (n,)``.\n",
      "     |      ``f_args`` is set by calling ``set_f_params(*args)``.\n",
      "     |      `f` should return a scalar, array or list (not a tuple).\n",
      "     |  jac : callable ``jac(t, y, *jac_args)``, optional\n",
      "     |      Jacobian of the right-hand side, ``jac[i,j] = d f[i] / d y[j]``.\n",
      "     |      ``jac_args`` is set by calling ``set_jac_params(*args)``.\n",
      "     |  \n",
      "     |  Attributes\n",
      "     |  ----------\n",
      "     |  t : float\n",
      "     |      Current time.\n",
      "     |  y : ndarray\n",
      "     |      Current variable values.\n",
      "     |  \n",
      "     |  See also\n",
      "     |  --------\n",
      "     |  odeint : an integrator with a simpler interface based on lsoda from ODEPACK\n",
      "     |  quad : for finding the area under a curve\n",
      "     |  \n",
      "     |  Notes\n",
      "     |  -----\n",
      "     |  Available integrators are listed below. They can be selected using\n",
      "     |  the `set_integrator` method.\n",
      "     |  \n",
      "     |  \"vode\"\n",
      "     |  \n",
      "     |      Real-valued Variable-coefficient Ordinary Differential Equation\n",
      "     |      solver, with fixed-leading-coefficient implementation. It provides\n",
      "     |      implicit Adams method (for non-stiff problems) and a method based on\n",
      "     |      backward differentiation formulas (BDF) (for stiff problems).\n",
      "     |  \n",
      "     |      Source: http://www.netlib.org/ode/vode.f\n",
      "     |  \n",
      "     |      .. warning::\n",
      "     |  \n",
      "     |         This integrator is not re-entrant. You cannot have two `ode`\n",
      "     |         instances using the \"vode\" integrator at the same time.\n",
      "     |  \n",
      "     |      This integrator accepts the following parameters in `set_integrator`\n",
      "     |      method of the `ode` class:\n",
      "     |  \n",
      "     |      - atol : float or sequence\n",
      "     |        absolute tolerance for solution\n",
      "     |      - rtol : float or sequence\n",
      "     |        relative tolerance for solution\n",
      "     |      - lband : None or int\n",
      "     |      - uband : None or int\n",
      "     |        Jacobian band width, jac[i,j] != 0 for i-lband <= j <= i+uband.\n",
      "     |        Setting these requires your jac routine to return the jacobian\n",
      "     |        in packed format, jac_packed[i-j+uband, j] = jac[i,j]. The\n",
      "     |        dimension of the matrix must be (lband+uband+1, len(y)).\n",
      "     |      - method: 'adams' or 'bdf'\n",
      "     |        Which solver to use, Adams (non-stiff) or BDF (stiff)\n",
      "     |      - with_jacobian : bool\n",
      "     |        This option is only considered when the user has not supplied a\n",
      "     |        Jacobian function and has not indicated (by setting either band)\n",
      "     |        that the Jacobian is banded.  In this case, `with_jacobian` specifies\n",
      "     |        whether the iteration method of the ODE solver's correction step is\n",
      "     |        chord iteration with an internally generated full Jacobian or\n",
      "     |        functional iteration with no Jacobian.\n",
      "     |      - nsteps : int\n",
      "     |        Maximum number of (internally defined) steps allowed during one\n",
      "     |        call to the solver.\n",
      "     |      - first_step : float\n",
      "     |      - min_step : float\n",
      "     |      - max_step : float\n",
      "     |        Limits for the step sizes used by the integrator.\n",
      "     |      - order : int\n",
      "     |        Maximum order used by the integrator,\n",
      "     |        order <= 12 for Adams, <= 5 for BDF.\n",
      "     |  \n",
      "     |  \"zvode\"\n",
      "     |  \n",
      "     |      Complex-valued Variable-coefficient Ordinary Differential Equation\n",
      "     |      solver, with fixed-leading-coefficient implementation.  It provides\n",
      "     |      implicit Adams method (for non-stiff problems) and a method based on\n",
      "     |      backward differentiation formulas (BDF) (for stiff problems).\n",
      "     |  \n",
      "     |      Source: http://www.netlib.org/ode/zvode.f\n",
      "     |  \n",
      "     |      .. warning::\n",
      "     |  \n",
      "     |         This integrator is not re-entrant. You cannot have two `ode`\n",
      "     |         instances using the \"zvode\" integrator at the same time.\n",
      "     |  \n",
      "     |      This integrator accepts the same parameters in `set_integrator`\n",
      "     |      as the \"vode\" solver.\n",
      "     |  \n",
      "     |      .. note::\n",
      "     |  \n",
      "     |          When using ZVODE for a stiff system, it should only be used for\n",
      "     |          the case in which the function f is analytic, that is, when each f(i)\n",
      "     |          is an analytic function of each y(j).  Analyticity means that the\n",
      "     |          partial derivative df(i)/dy(j) is a unique complex number, and this\n",
      "     |          fact is critical in the way ZVODE solves the dense or banded linear\n",
      "     |          systems that arise in the stiff case.  For a complex stiff ODE system\n",
      "     |          in which f is not analytic, ZVODE is likely to have convergence\n",
      "     |          failures, and for this problem one should instead use DVODE on the\n",
      "     |          equivalent real system (in the real and imaginary parts of y).\n",
      "     |  \n",
      "     |  \"lsoda\"\n",
      "     |  \n",
      "     |      Real-valued Variable-coefficient Ordinary Differential Equation\n",
      "     |      solver, with fixed-leading-coefficient implementation. It provides\n",
      "     |      automatic method switching between implicit Adams method (for non-stiff\n",
      "     |      problems) and a method based on backward differentiation formulas (BDF)\n",
      "     |      (for stiff problems).\n",
      "     |  \n",
      "     |      Source: http://www.netlib.org/odepack\n",
      "     |  \n",
      "     |      .. warning::\n",
      "     |  \n",
      "     |         This integrator is not re-entrant. You cannot have two `ode`\n",
      "     |         instances using the \"lsoda\" integrator at the same time.\n",
      "     |  \n",
      "     |      This integrator accepts the following parameters in `set_integrator`\n",
      "     |      method of the `ode` class:\n",
      "     |  \n",
      "     |      - atol : float or sequence\n",
      "     |        absolute tolerance for solution\n",
      "     |      - rtol : float or sequence\n",
      "     |        relative tolerance for solution\n",
      "     |      - lband : None or int\n",
      "     |      - uband : None or int\n",
      "     |        Jacobian band width, jac[i,j] != 0 for i-lband <= j <= i+uband.\n",
      "     |        Setting these requires your jac routine to return the jacobian\n",
      "     |        in packed format, jac_packed[i-j+uband, j] = jac[i,j].\n",
      "     |      - with_jacobian : bool\n",
      "     |        *Not used.*\n",
      "     |      - nsteps : int\n",
      "     |        Maximum number of (internally defined) steps allowed during one\n",
      "     |        call to the solver.\n",
      "     |      - first_step : float\n",
      "     |      - min_step : float\n",
      "     |      - max_step : float\n",
      "     |        Limits for the step sizes used by the integrator.\n",
      "     |      - max_order_ns : int\n",
      "     |        Maximum order used in the nonstiff case (default 12).\n",
      "     |      - max_order_s : int\n",
      "     |        Maximum order used in the stiff case (default 5).\n",
      "     |      - max_hnil : int\n",
      "     |        Maximum number of messages reporting too small step size (t + h = t)\n",
      "     |        (default 0)\n",
      "     |      - ixpr : int\n",
      "     |        Whether to generate extra printing at method switches (default False).\n",
      "     |  \n",
      "     |  \"dopri5\"\n",
      "     |  \n",
      "     |      This is an explicit runge-kutta method of order (4)5 due to Dormand &\n",
      "     |      Prince (with stepsize control and dense output).\n",
      "     |  \n",
      "     |      Authors:\n",
      "     |  \n",
      "     |          E. Hairer and G. Wanner\n",
      "     |          Universite de Geneve, Dept. de Mathematiques\n",
      "     |          CH-1211 Geneve 24, Switzerland\n",
      "     |          e-mail:  ernst.hairer@math.unige.ch, gerhard.wanner@math.unige.ch\n",
      "     |  \n",
      "     |      This code is described in [HNW93]_.\n",
      "     |  \n",
      "     |      This integrator accepts the following parameters in set_integrator()\n",
      "     |      method of the ode class:\n",
      "     |  \n",
      "     |      - atol : float or sequence\n",
      "     |        absolute tolerance for solution\n",
      "     |      - rtol : float or sequence\n",
      "     |        relative tolerance for solution\n",
      "     |      - nsteps : int\n",
      "     |        Maximum number of (internally defined) steps allowed during one\n",
      "     |        call to the solver.\n",
      "     |      - first_step : float\n",
      "     |      - max_step : float\n",
      "     |      - safety : float\n",
      "     |        Safety factor on new step selection (default 0.9)\n",
      "     |      - ifactor : float\n",
      "     |      - dfactor : float\n",
      "     |        Maximum factor to increase/decrease step size by in one step\n",
      "     |      - beta : float\n",
      "     |        Beta parameter for stabilised step size control.\n",
      "     |      - verbosity : int\n",
      "     |        Switch for printing messages (< 0 for no messages).\n",
      "     |  \n",
      "     |  \"dop853\"\n",
      "     |  \n",
      "     |      This is an explicit runge-kutta method of order 8(5,3) due to Dormand\n",
      "     |      & Prince (with stepsize control and dense output).\n",
      "     |  \n",
      "     |      Options and references the same as \"dopri5\".\n",
      "     |  \n",
      "     |  Examples\n",
      "     |  --------\n",
      "     |  \n",
      "     |  A problem to integrate and the corresponding jacobian:\n",
      "     |  \n",
      "     |  >>> from scipy.integrate import ode\n",
      "     |  >>>\n",
      "     |  >>> y0, t0 = [1.0j, 2.0], 0\n",
      "     |  >>>\n",
      "     |  >>> def f(t, y, arg1):\n",
      "     |  ...     return [1j*arg1*y[0] + y[1], -arg1*y[1]**2]\n",
      "     |  >>> def jac(t, y, arg1):\n",
      "     |  ...     return [[1j*arg1, 1], [0, -arg1*2*y[1]]]\n",
      "     |  \n",
      "     |  The integration:\n",
      "     |  \n",
      "     |  >>> r = ode(f, jac).set_integrator('zvode', method='bdf')\n",
      "     |  >>> r.set_initial_value(y0, t0).set_f_params(2.0).set_jac_params(2.0)\n",
      "     |  >>> t1 = 10\n",
      "     |  >>> dt = 1\n",
      "     |  >>> while r.successful() and r.t < t1:\n",
      "     |  ...     print(r.t, r.integrate(r.t+dt))\n",
      "     |  (0, array([-0.71038232+0.23749653j,  0.40000271+0.j        ]))\n",
      "     |  (1.0, array([ 0.19098503-0.52359246j,  0.22222356+0.j        ]))\n",
      "     |  (2.0, array([ 0.47153208+0.52701229j,  0.15384681+0.j        ]))\n",
      "     |  (3.0, array([-0.61905937+0.30726255j,  0.11764744+0.j        ]))\n",
      "     |  (4.0, array([ 0.02340997-0.61418799j,  0.09523835+0.j        ]))\n",
      "     |  (5.0, array([ 0.58643071+0.339819j,  0.08000018+0.j      ]))\n",
      "     |  (6.0, array([-0.52070105+0.44525141j,  0.06896565+0.j        ]))\n",
      "     |  (7.0, array([-0.15986733-0.61234476j,  0.06060616+0.j        ]))\n",
      "     |  (8.0, array([ 0.64850462+0.15048982j,  0.05405414+0.j        ]))\n",
      "     |  (9.0, array([-0.38404699+0.56382299j,  0.04878055+0.j        ]))\n",
      "     |  \n",
      "     |  References\n",
      "     |  ----------\n",
      "     |  .. [HNW93] E. Hairer, S.P. Norsett and G. Wanner, Solving Ordinary\n",
      "     |      Differential Equations i. Nonstiff Problems. 2nd edition.\n",
      "     |      Springer Series in Computational Mathematics,\n",
      "     |      Springer-Verlag (1993)\n",
      "     |  \n",
      "     |  Methods defined here:\n",
      "     |  \n",
      "     |  __init__(self, f, jac=None)\n",
      "     |      Initialize self.  See help(type(self)) for accurate signature.\n",
      "     |  \n",
      "     |  integrate(self, t, step=0, relax=0)\n",
      "     |      Find y=y(t), set y as an initial condition, and return y.\n",
      "     |  \n",
      "     |  set_f_params(self, *args)\n",
      "     |      Set extra parameters for user-supplied function f.\n",
      "     |  \n",
      "     |  set_initial_value(self, y, t=0.0)\n",
      "     |      Set initial conditions y(t) = y.\n",
      "     |  \n",
      "     |  set_integrator(self, name, **integrator_params)\n",
      "     |      Set integrator by name.\n",
      "     |      \n",
      "     |      Parameters\n",
      "     |      ----------\n",
      "     |      name : str\n",
      "     |          Name of the integrator.\n",
      "     |      integrator_params :\n",
      "     |          Additional parameters for the integrator.\n",
      "     |  \n",
      "     |  set_jac_params(self, *args)\n",
      "     |      Set extra parameters for user-supplied function jac.\n",
      "     |  \n",
      "     |  set_solout(self, solout)\n",
      "     |      Set callable to be called at every successful integration step.\n",
      "     |      \n",
      "     |      Parameters\n",
      "     |      ----------\n",
      "     |      solout : callable\n",
      "     |          ``solout(t, y)`` is called at each internal integrator step,\n",
      "     |          t is a scalar providing the current independent position\n",
      "     |          y is the current soloution ``y.shape == (n,)``\n",
      "     |          solout should return -1 to stop integration\n",
      "     |          otherwise it should return None or 0\n",
      "     |  \n",
      "     |  successful(self)\n",
      "     |      Check if integration was successful.\n",
      "     |  \n",
      "     |  ----------------------------------------------------------------------\n",
      "     |  Data descriptors defined here:\n",
      "     |  \n",
      "     |  __dict__\n",
      "     |      dictionary for instance variables (if defined)\n",
      "     |  \n",
      "     |  __weakref__\n",
      "     |      list of weak references to the object (if defined)\n",
      "     |  \n",
      "     |  y\n",
      "\n",
      "FUNCTIONS\n",
      "    cumtrapz(y, x=None, dx=1.0, axis=-1, initial=None)\n",
      "        Cumulatively integrate y(x) using the composite trapezoidal rule.\n",
      "        \n",
      "        Parameters\n",
      "        ----------\n",
      "        y : array_like\n",
      "            Values to integrate.\n",
      "        x : array_like, optional\n",
      "            The coordinate to integrate along.  If None (default), use spacing `dx`\n",
      "            between consecutive elements in `y`.\n",
      "        dx : int, optional\n",
      "            Spacing between elements of `y`.  Only used if `x` is None.\n",
      "        axis : int, optional\n",
      "            Specifies the axis to cumulate.  Default is -1 (last axis).\n",
      "        initial : scalar, optional\n",
      "            If given, uses this value as the first value in the returned result.\n",
      "            Typically this value should be 0.  Default is None, which means no\n",
      "            value at ``x[0]`` is returned and `res` has one element less than `y`\n",
      "            along the axis of integration.\n",
      "        \n",
      "        Returns\n",
      "        -------\n",
      "        res : ndarray\n",
      "            The result of cumulative integration of `y` along `axis`.\n",
      "            If `initial` is None, the shape is such that the axis of integration\n",
      "            has one less value than `y`.  If `initial` is given, the shape is equal\n",
      "            to that of `y`.\n",
      "        \n",
      "        See Also\n",
      "        --------\n",
      "        numpy.cumsum, numpy.cumprod\n",
      "        quad: adaptive quadrature using QUADPACK\n",
      "        romberg: adaptive Romberg quadrature\n",
      "        quadrature: adaptive Gaussian quadrature\n",
      "        fixed_quad: fixed-order Gaussian quadrature\n",
      "        dblquad: double integrals\n",
      "        tplquad: triple integrals\n",
      "        romb: integrators for sampled data\n",
      "        ode: ODE integrators\n",
      "        odeint: ODE integrators\n",
      "        \n",
      "        Examples\n",
      "        --------\n",
      "        >>> from scipy import integrate\n",
      "        >>> import matplotlib.pyplot as plt\n",
      "        \n",
      "        >>> x = np.linspace(-2, 2, num=20)\n",
      "        >>> y = x\n",
      "        >>> y_int = integrate.cumtrapz(y, x, initial=0)\n",
      "        >>> plt.plot(x, y_int, 'ro', x, y[0] + 0.5 * x**2, 'b-')\n",
      "        >>> plt.show()\n",
      "    \n",
      "    dblquad(func, a, b, gfun, hfun, args=(), epsabs=1.49e-08, epsrel=1.49e-08)\n",
      "        Compute a double integral.\n",
      "        \n",
      "        Return the double (definite) integral of ``func(y, x)`` from ``x = a..b``\n",
      "        and ``y = gfun(x)..hfun(x)``.\n",
      "        \n",
      "        Parameters\n",
      "        ----------\n",
      "        func : callable\n",
      "            A Python function or method of at least two variables: y must be the\n",
      "            first argument and x the second argument.\n",
      "        a, b : float\n",
      "            The limits of integration in x: `a` < `b`\n",
      "        gfun : callable\n",
      "            The lower boundary curve in y which is a function taking a single\n",
      "            floating point argument (x) and returning a floating point result: a\n",
      "            lambda function can be useful here.\n",
      "        hfun : callable\n",
      "            The upper boundary curve in y (same requirements as `gfun`).\n",
      "        args : sequence, optional\n",
      "            Extra arguments to pass to `func`.\n",
      "        epsabs : float, optional\n",
      "            Absolute tolerance passed directly to the inner 1-D quadrature\n",
      "            integration. Default is 1.49e-8.\n",
      "        epsrel : float, optional\n",
      "            Relative tolerance of the inner 1-D integrals. Default is 1.49e-8.\n",
      "        \n",
      "        Returns\n",
      "        -------\n",
      "        y : float\n",
      "            The resultant integral.\n",
      "        abserr : float\n",
      "            An estimate of the error.\n",
      "        \n",
      "        See also\n",
      "        --------\n",
      "        quad : single integral\n",
      "        tplquad : triple integral\n",
      "        nquad : N-dimensional integrals\n",
      "        fixed_quad : fixed-order Gaussian quadrature\n",
      "        quadrature : adaptive Gaussian quadrature\n",
      "        odeint : ODE integrator\n",
      "        ode : ODE integrator\n",
      "        simps : integrator for sampled data\n",
      "        romb : integrator for sampled data\n",
      "        scipy.special : for coefficients and roots of orthogonal polynomials\n",
      "    \n",
      "    fixed_quad(func, a, b, args=(), n=5)\n",
      "        Compute a definite integral using fixed-order Gaussian quadrature.\n",
      "        \n",
      "        Integrate `func` from `a` to `b` using Gaussian quadrature of\n",
      "        order `n`.\n",
      "        \n",
      "        Parameters\n",
      "        ----------\n",
      "        func : callable\n",
      "            A Python function or method to integrate (must accept vector inputs).\n",
      "        a : float\n",
      "            Lower limit of integration.\n",
      "        b : float\n",
      "            Upper limit of integration.\n",
      "        args : tuple, optional\n",
      "            Extra arguments to pass to function, if any.\n",
      "        n : int, optional\n",
      "            Order of quadrature integration. Default is 5.\n",
      "        \n",
      "        Returns\n",
      "        -------\n",
      "        val : float\n",
      "            Gaussian quadrature approximation to the integral\n",
      "        none : None\n",
      "            Statically returned value of None\n",
      "        \n",
      "        \n",
      "        See Also\n",
      "        --------\n",
      "        quad : adaptive quadrature using QUADPACK\n",
      "        dblquad : double integrals\n",
      "        tplquad : triple integrals\n",
      "        romberg : adaptive Romberg quadrature\n",
      "        quadrature : adaptive Gaussian quadrature\n",
      "        romb : integrators for sampled data\n",
      "        simps : integrators for sampled data\n",
      "        cumtrapz : cumulative integration for sampled data\n",
      "        ode : ODE integrator\n",
      "        odeint : ODE integrator\n",
      "    \n",
      "    newton_cotes(rn, equal=0)\n",
      "        Return weights and error coefficient for Newton-Cotes integration.\n",
      "        \n",
      "        Suppose we have (N+1) samples of f at the positions\n",
      "        x_0, x_1, ..., x_N.  Then an N-point Newton-Cotes formula for the\n",
      "        integral between x_0 and x_N is:\n",
      "        \n",
      "        :math:`\\int_{x_0}^{x_N} f(x)dx = \\Delta x \\sum_{i=0}^{N} a_i f(x_i)\n",
      "        + B_N (\\Delta x)^{N+2} f^{N+1} (\\xi)`\n",
      "        \n",
      "        where :math:`\\xi \\in [x_0,x_N]`\n",
      "        and :math:`\\Delta x = \\frac{x_N-x_0}{N}` is the average samples spacing.\n",
      "        \n",
      "        If the samples are equally-spaced and N is even, then the error\n",
      "        term is :math:`B_N (\\Delta x)^{N+3} f^{N+2}(\\xi)`.\n",
      "        \n",
      "        Parameters\n",
      "        ----------\n",
      "        rn : int\n",
      "            The integer order for equally-spaced data or the relative positions of\n",
      "            the samples with the first sample at 0 and the last at N, where N+1 is\n",
      "            the length of `rn`.  N is the order of the Newton-Cotes integration.\n",
      "        equal : int, optional\n",
      "            Set to 1 to enforce equally spaced data.\n",
      "        \n",
      "        Returns\n",
      "        -------\n",
      "        an : ndarray\n",
      "            1-D array of weights to apply to the function at the provided sample\n",
      "            positions.\n",
      "        B : float\n",
      "            Error coefficient.\n",
      "        \n",
      "        Notes\n",
      "        -----\n",
      "        Normally, the Newton-Cotes rules are used on smaller integration\n",
      "        regions and a composite rule is used to return the total integral.\n",
      "    \n",
      "    nquad(func, ranges, args=None, opts=None)\n",
      "        Integration over multiple variables.\n",
      "        \n",
      "        Wraps `quad` to enable integration over multiple variables.\n",
      "        Various options allow improved integration of discontinuous functions, as\n",
      "        well as the use of weighted integration, and generally finer control of the\n",
      "        integration process.\n",
      "        \n",
      "        Parameters\n",
      "        ----------\n",
      "        func : callable\n",
      "            The function to be integrated. Has arguments of ``x0, ... xn``,\n",
      "            ``t0, tm``, where integration is carried out over ``x0, ... xn``, which\n",
      "            must be floats.  Function signature should be\n",
      "            ``func(x0, x1, ..., xn, t0, t1, ..., tm)``.  Integration is carried out\n",
      "            in order.  That is, integration over ``x0`` is the innermost integral,\n",
      "            and ``xn`` is the outermost.\n",
      "            If performance is a concern, this function may be a ctypes function of\n",
      "            the form::\n",
      "        \n",
      "                f(int n, double args[n])\n",
      "        \n",
      "            where ``n`` is the number of extra parameters and args is an array\n",
      "            of doubles of the additional parameters.  This function may then\n",
      "            be compiled to a dynamic/shared library then imported through\n",
      "            ``ctypes``, setting the function's argtypes to ``(c_int, c_double)``,\n",
      "            and the function's restype to ``(c_double)``.  Its pointer may then be\n",
      "            passed into `nquad` normally.\n",
      "            This allows the underlying Fortran library to evaluate the function in\n",
      "            the innermost integration calls without callbacks to Python, and also\n",
      "            speeds up the evaluation of the function itself.\n",
      "        ranges : iterable object\n",
      "            Each element of ranges may be either a sequence  of 2 numbers, or else\n",
      "            a callable that returns such a sequence.  ``ranges[0]`` corresponds to\n",
      "            integration over x0, and so on.  If an element of ranges is a callable,\n",
      "            then it will be called with all of the integration arguments available.\n",
      "            e.g. if ``func = f(x0, x1, x2)``, then ``ranges[0]`` may be defined as\n",
      "            either ``(a, b)`` or else as ``(a, b) = range0(x1, x2)``.\n",
      "        args : iterable object, optional\n",
      "            Additional arguments ``t0, ..., tn``, required by `func`.\n",
      "        opts : iterable object or dict, optional\n",
      "            Options to be passed to `quad`.  May be empty, a dict, or\n",
      "            a sequence of dicts or functions that return a dict.  If empty, the\n",
      "            default options from scipy.integrate.quadare used.  If a dict, the same\n",
      "            options are used for all levels of integraion.  If a sequence, then each\n",
      "            element of the sequence corresponds to a particular integration. e.g.\n",
      "            opts[0] corresponds to integration over x0, and so on. The available\n",
      "            options together with their default values are:\n",
      "        \n",
      "              - epsabs = 1.49e-08\n",
      "              - epsrel = 1.49e-08\n",
      "              - limit  = 50\n",
      "              - points = None\n",
      "              - weight = None\n",
      "              - wvar   = None\n",
      "              - wopts  = None\n",
      "        \n",
      "            The ``full_output`` option from `quad` is unavailable, due to the\n",
      "            complexity of handling the large amount of data such an option would\n",
      "            return for this kind of nested integration.  For more information on\n",
      "            these options, see `quad` and `quad_explain`.\n",
      "        \n",
      "        Returns\n",
      "        -------\n",
      "        result : float\n",
      "            The result of the integration.\n",
      "        abserr : float\n",
      "            The maximum of the estimates of the absolute error in the various\n",
      "            integration results.\n",
      "        \n",
      "        See Also\n",
      "        --------\n",
      "        quad : 1-dimensional numerical integration\n",
      "        dblquad, tplquad : double and triple integrals\n",
      "        fixed_quad : fixed-order Gaussian quadrature\n",
      "        quadrature : adaptive Gaussian quadrature\n",
      "        \n",
      "        Examples\n",
      "        --------\n",
      "        >>> from scipy import integrate\n",
      "        >>> func = lambda x0,x1,x2,x3 : x0**2 + x1*x2 - x3**3 + np.sin(x0) + (\n",
      "        ...                                 1 if (x0-.2*x3-.5-.25*x1>0) else 0)\n",
      "        >>> points = [[lambda (x1,x2,x3) : 0.2*x3 + 0.5 + 0.25*x1], [], [], []]\n",
      "        >>> def opts0(*args, **kwargs):\n",
      "        ...     return {'points':[0.2*args[2] + 0.5 + 0.25*args[0]]}\n",
      "        >>> integrate.nquad(func, [[0,1], [-1,1], [.13,.8], [-.15,1]],\n",
      "        ...                 opts=[opts0,{},{},{}])\n",
      "        (1.5267454070738633, 2.9437360001402324e-14)\n",
      "        \n",
      "        >>> scale = .1\n",
      "        >>> def func2(x0, x1, x2, x3, t0, t1):\n",
      "        ...     return x0*x1*x3**2 + np.sin(x2) + 1 + (1 if x0+t1*x1-t0>0 else 0)\n",
      "        >>> def lim0(x1, x2, x3, t0, t1):\n",
      "        ...     return [scale * (x1**2 + x2 + np.cos(x3)*t0*t1 + 1) - 1,\n",
      "        ...             scale * (x1**2 + x2 + np.cos(x3)*t0*t1 + 1) + 1]\n",
      "        >>> def lim1(x2, x3, t0, t1):\n",
      "        ...     return [scale * (t0*x2 + t1*x3) - 1,\n",
      "        ...             scale * (t0*x2 + t1*x3) + 1]\n",
      "        >>> def lim2(x3, t0, t1):\n",
      "        ...     return [scale * (x3 + t0**2*t1**3) - 1,\n",
      "        ...             scale * (x3 + t0**2*t1**3) + 1]\n",
      "        >>> def lim3(t0, t1):\n",
      "        ...     return [scale * (t0+t1) - 1, scale * (t0+t1) + 1]\n",
      "        >>> def opts0(x1, x2, x3, t0, t1):\n",
      "        ...     return {'points' : [t0 - t1*x1]}\n",
      "        >>> def opts1(x2, x3, t0, t1):\n",
      "        ...     return {}\n",
      "        >>> def opts2(x3, t0, t1):\n",
      "        ...     return {}\n",
      "        >>> def opts3(t0, t1):\n",
      "        ...     return {}\n",
      "        >>> integrate.nquad(func2, [lim0, lim1, lim2, lim3], args=(0,0),\n",
      "        ...                 opts=[opts0, opts1, opts2, opts3])\n",
      "        (25.066666666666666, 2.7829590483937256e-13)\n",
      "    \n",
      "    odeint(func, y0, t, args=(), Dfun=None, col_deriv=0, full_output=0, ml=None, mu=None, rtol=None, atol=None, tcrit=None, h0=0.0, hmax=0.0, hmin=0.0, ixpr=0, mxstep=0, mxhnil=0, mxordn=12, mxords=5, printmessg=0)\n",
      "        Integrate a system of ordinary differential equations.\n",
      "        \n",
      "        Solve a system of ordinary differential equations using lsoda from the\n",
      "        FORTRAN library odepack.\n",
      "        \n",
      "        Solves the initial value problem for stiff or non-stiff systems\n",
      "        of first order ode-s::\n",
      "        \n",
      "            dy/dt = func(y, t0, ...)\n",
      "        \n",
      "        where y can be a vector.\n",
      "        \n",
      "        *Note*: The first two arguments of ``func(y, t0, ...)`` are in the\n",
      "        opposite order of the arguments in the system definition function used\n",
      "        by the `scipy.integrate.ode` class.\n",
      "        \n",
      "        Parameters\n",
      "        ----------\n",
      "        func : callable(y, t0, ...)\n",
      "            Computes the derivative of y at t0.\n",
      "        y0 : array\n",
      "            Initial condition on y (can be a vector).\n",
      "        t : array\n",
      "            A sequence of time points for which to solve for y.  The initial\n",
      "            value point should be the first element of this sequence.\n",
      "        args : tuple, optional\n",
      "            Extra arguments to pass to function.\n",
      "        Dfun : callable(y, t0, ...)\n",
      "            Gradient (Jacobian) of `func`.\n",
      "        col_deriv : bool, optional\n",
      "            True if `Dfun` defines derivatives down columns (faster),\n",
      "            otherwise `Dfun` should define derivatives across rows.\n",
      "        full_output : bool, optional\n",
      "            True if to return a dictionary of optional outputs as the second output\n",
      "        printmessg : bool, optional\n",
      "            Whether to print the convergence message\n",
      "        \n",
      "        Returns\n",
      "        -------\n",
      "        y : array, shape (len(t), len(y0))\n",
      "            Array containing the value of y for each desired time in t,\n",
      "            with the initial value `y0` in the first row.\n",
      "        infodict : dict, only returned if full_output == True\n",
      "            Dictionary containing additional output information\n",
      "        \n",
      "            =======  ============================================================\n",
      "            key      meaning\n",
      "            =======  ============================================================\n",
      "            'hu'     vector of step sizes successfully used for each time step.\n",
      "            'tcur'   vector with the value of t reached for each time step.\n",
      "                     (will always be at least as large as the input times).\n",
      "            'tolsf'  vector of tolerance scale factors, greater than 1.0,\n",
      "                     computed when a request for too much accuracy was detected.\n",
      "            'tsw'    value of t at the time of the last method switch\n",
      "                     (given for each time step)\n",
      "            'nst'    cumulative number of time steps\n",
      "            'nfe'    cumulative number of function evaluations for each time step\n",
      "            'nje'    cumulative number of jacobian evaluations for each time step\n",
      "            'nqu'    a vector of method orders for each successful step.\n",
      "            'imxer'  index of the component of largest magnitude in the\n",
      "                     weighted local error vector (e / ewt) on an error return, -1\n",
      "                     otherwise.\n",
      "            'lenrw'  the length of the double work array required.\n",
      "            'leniw'  the length of integer work array required.\n",
      "            'mused'  a vector of method indicators for each successful time step:\n",
      "                     1: adams (nonstiff), 2: bdf (stiff)\n",
      "            =======  ============================================================\n",
      "        \n",
      "        Other Parameters\n",
      "        ----------------\n",
      "        ml, mu : int, optional\n",
      "            If either of these are not None or non-negative, then the\n",
      "            Jacobian is assumed to be banded.  These give the number of\n",
      "            lower and upper non-zero diagonals in this banded matrix.\n",
      "            For the banded case, `Dfun` should return a matrix whose\n",
      "            rows contain the non-zero bands (starting with the lowest diagonal).\n",
      "            Thus, the return matrix `jac` from `Dfun` should have shape\n",
      "            ``(ml + mu + 1, len(y0))`` when ``ml >=0`` or ``mu >=0``.\n",
      "            The data in `jac` must be stored such that ``jac[i - j + mu, j]``\n",
      "            holds the derivative of the `i`th equation with respect to the `j`th\n",
      "            state variable.  If `col_deriv` is True, the transpose of this\n",
      "            `jac` must be returned.\n",
      "        rtol, atol : float, optional\n",
      "            The input parameters `rtol` and `atol` determine the error\n",
      "            control performed by the solver.  The solver will control the\n",
      "            vector, e, of estimated local errors in y, according to an\n",
      "            inequality of the form ``max-norm of (e / ewt) <= 1``,\n",
      "            where ewt is a vector of positive error weights computed as\n",
      "            ``ewt = rtol * abs(y) + atol``.\n",
      "            rtol and atol can be either vectors the same length as y or scalars.\n",
      "            Defaults to 1.49012e-8.\n",
      "        tcrit : ndarray, optional\n",
      "            Vector of critical points (e.g. singularities) where integration\n",
      "            care should be taken.\n",
      "        h0 : float, (0: solver-determined), optional\n",
      "            The step size to be attempted on the first step.\n",
      "        hmax : float, (0: solver-determined), optional\n",
      "            The maximum absolute step size allowed.\n",
      "        hmin : float, (0: solver-determined), optional\n",
      "            The minimum absolute step size allowed.\n",
      "        ixpr : bool, optional\n",
      "            Whether to generate extra printing at method switches.\n",
      "        mxstep : int, (0: solver-determined), optional\n",
      "            Maximum number of (internally defined) steps allowed for each\n",
      "            integration point in t.\n",
      "        mxhnil : int, (0: solver-determined), optional\n",
      "            Maximum number of messages printed.\n",
      "        mxordn : int, (0: solver-determined), optional\n",
      "            Maximum order to be allowed for the non-stiff (Adams) method.\n",
      "        mxords : int, (0: solver-determined), optional\n",
      "            Maximum order to be allowed for the stiff (BDF) method.\n",
      "        \n",
      "        See Also\n",
      "        --------\n",
      "        ode : a more object-oriented integrator based on VODE.\n",
      "        quad : for finding the area under a curve.\n",
      "        \n",
      "        Examples\n",
      "        --------\n",
      "        The second order differential equation for the angle `theta` of a\n",
      "        pendulum acted on by gravity with friction can be written::\n",
      "        \n",
      "            theta''(t) + b*theta'(t) + c*sin(theta(t)) = 0\n",
      "        \n",
      "        where `b` and `c` are positive constants, and a prime (') denotes a\n",
      "        derivative.  To solve this equation with `odeint`, we must first convert\n",
      "        it to a system of first order equations.  By defining the angular\n",
      "        velocity ``omega(t) = theta'(t)``, we obtain the system::\n",
      "        \n",
      "            theta'(t) = omega(t)\n",
      "            omega'(t) = -b*omega(t) - c*sin(theta(t))\n",
      "        \n",
      "        Let `y` be the vector [`theta`, `omega`].  We implement this system\n",
      "        in python as:\n",
      "        \n",
      "        >>> def pend(y, t, b, c):\n",
      "        ...     theta, omega = y\n",
      "        ...     dydt = [omega, -b*omega - c*np.sin(theta)]\n",
      "        ...     return dydt\n",
      "        ...\n",
      "        \n",
      "        We assume the constants are `b` = 0.25 and `c` = 5.0:\n",
      "        \n",
      "        >>> b = 0.25\n",
      "        >>> c = 5.0\n",
      "        \n",
      "        For initial conditions, we assume the pendulum is nearly vertical\n",
      "        with `theta(0)` = `pi` - 0.1, and it initially at rest, so\n",
      "        `omega(0)` = 0.  Then the vector of initial conditions is\n",
      "        \n",
      "        >>> y0 = [np.pi - 0.1, 0.0]\n",
      "        \n",
      "        We generate a solution 101 evenly spaced samples in the interval\n",
      "        0 <= `t` <= 10.  So our array of times is:\n",
      "        \n",
      "        >>> t = np.linspace(0, 10, 101)\n",
      "        \n",
      "        Call `odeint` to generate the solution.  To pass the parameters\n",
      "        `b` and `c` to `pend`, we give them to `odeint` using the `args`\n",
      "        argument.\n",
      "        \n",
      "        >>> from scipy.integrate import odeint\n",
      "        >>> sol = odeint(pend, y0, t, args=(b, c))\n",
      "        \n",
      "        The solution is an array with shape (101, 2).  The first column\n",
      "        is `theta(t)`, and the second is `omega(t)`.  The following code\n",
      "        plots both components.\n",
      "        \n",
      "        >>> import matplotlib.pyplot as plt\n",
      "        >>> plt.plot(t, sol[:, 0], 'b', label='theta(t)')\n",
      "        >>> plt.plot(t, sol[:, 1], 'g', label='omega(t)')\n",
      "        >>> plt.legend(loc='best')\n",
      "        >>> plt.xlabel('t')\n",
      "        >>> plt.grid()\n",
      "        >>> plt.show()\n",
      "    \n",
      "    quad(func, a, b, args=(), full_output=0, epsabs=1.49e-08, epsrel=1.49e-08, limit=50, points=None, weight=None, wvar=None, wopts=None, maxp1=50, limlst=50)\n",
      "        Compute a definite integral.\n",
      "        \n",
      "        Integrate func from `a` to `b` (possibly infinite interval) using a\n",
      "        technique from the Fortran library QUADPACK.\n",
      "        \n",
      "        Parameters\n",
      "        ----------\n",
      "        func : function\n",
      "            A Python function or method to integrate.  If `func` takes many\n",
      "            arguments, it is integrated along the axis corresponding to the\n",
      "            first argument.\n",
      "            If the user desires improved integration performance, then f may\n",
      "            instead be a ``ctypes`` function of the form:\n",
      "        \n",
      "                f(int n, double args[n]),\n",
      "        \n",
      "            where ``args`` is an array of function arguments and ``n`` is the\n",
      "            length of ``args``. ``f.argtypes`` should be set to\n",
      "            ``(c_int, c_double)``, and ``f.restype`` should be ``(c_double,)``.\n",
      "        a : float\n",
      "            Lower limit of integration (use -numpy.inf for -infinity).\n",
      "        b : float\n",
      "            Upper limit of integration (use numpy.inf for +infinity).\n",
      "        args : tuple, optional\n",
      "            Extra arguments to pass to `func`.\n",
      "        full_output : int, optional\n",
      "            Non-zero to return a dictionary of integration information.\n",
      "            If non-zero, warning messages are also suppressed and the\n",
      "            message is appended to the output tuple.\n",
      "        \n",
      "        Returns\n",
      "        -------\n",
      "        y : float\n",
      "            The integral of func from `a` to `b`.\n",
      "        abserr : float\n",
      "            An estimate of the absolute error in the result.\n",
      "        infodict : dict\n",
      "            A dictionary containing additional information.\n",
      "            Run scipy.integrate.quad_explain() for more information.\n",
      "        message :\n",
      "            A convergence message.\n",
      "        explain :\n",
      "            Appended only with 'cos' or 'sin' weighting and infinite\n",
      "            integration limits, it contains an explanation of the codes in\n",
      "            infodict['ierlst']\n",
      "        \n",
      "        Other Parameters\n",
      "        ----------------\n",
      "        epsabs : float or int, optional\n",
      "            Absolute error tolerance.\n",
      "        epsrel : float or int, optional\n",
      "            Relative error tolerance.\n",
      "        limit : float or int, optional\n",
      "            An upper bound on the number of subintervals used in the adaptive\n",
      "            algorithm.\n",
      "        points : (sequence of floats,ints), optional\n",
      "            A sequence of break points in the bounded integration interval\n",
      "            where local difficulties of the integrand may occur (e.g.,\n",
      "            singularities, discontinuities). The sequence does not have\n",
      "            to be sorted.\n",
      "        weight : float or int, optional\n",
      "            String indicating weighting function. Full explanation for this\n",
      "            and the remaining arguments can be found below.\n",
      "        wvar : optional\n",
      "            Variables for use with weighting functions.\n",
      "        wopts : optional\n",
      "            Optional input for reusing Chebyshev moments.\n",
      "        maxp1 : float or int, optional\n",
      "            An upper bound on the number of Chebyshev moments.\n",
      "        limlst : int, optional\n",
      "            Upper bound on the number of cycles (>=3) for use with a sinusoidal\n",
      "            weighting and an infinite end-point.\n",
      "        \n",
      "        See Also\n",
      "        --------\n",
      "        dblquad : double integral\n",
      "        tplquad : triple integral\n",
      "        nquad : n-dimensional integrals (uses `quad` recursively)\n",
      "        fixed_quad : fixed-order Gaussian quadrature\n",
      "        quadrature : adaptive Gaussian quadrature\n",
      "        odeint : ODE integrator\n",
      "        ode : ODE integrator\n",
      "        simps : integrator for sampled data\n",
      "        romb : integrator for sampled data\n",
      "        scipy.special : for coefficients and roots of orthogonal polynomials\n",
      "        \n",
      "        Notes\n",
      "        -----\n",
      "        \n",
      "        **Extra information for quad() inputs and outputs**\n",
      "        \n",
      "        If full_output is non-zero, then the third output argument\n",
      "        (infodict) is a dictionary with entries as tabulated below.  For\n",
      "        infinite limits, the range is transformed to (0,1) and the\n",
      "        optional outputs are given with respect to this transformed range.\n",
      "        Let M be the input argument limit and let K be infodict['last'].\n",
      "        The entries are:\n",
      "        \n",
      "        'neval'\n",
      "            The number of function evaluations.\n",
      "        'last'\n",
      "            The number, K, of subintervals produced in the subdivision process.\n",
      "        'alist'\n",
      "            A rank-1 array of length M, the first K elements of which are the\n",
      "            left end points of the subintervals in the partition of the\n",
      "            integration range.\n",
      "        'blist'\n",
      "            A rank-1 array of length M, the first K elements of which are the\n",
      "            right end points of the subintervals.\n",
      "        'rlist'\n",
      "            A rank-1 array of length M, the first K elements of which are the\n",
      "            integral approximations on the subintervals.\n",
      "        'elist'\n",
      "            A rank-1 array of length M, the first K elements of which are the\n",
      "            moduli of the absolute error estimates on the subintervals.\n",
      "        'iord'\n",
      "            A rank-1 integer array of length M, the first L elements of\n",
      "            which are pointers to the error estimates over the subintervals\n",
      "            with ``L=K`` if ``K<=M/2+2`` or ``L=M+1-K`` otherwise. Let I be the\n",
      "            sequence ``infodict['iord']`` and let E be the sequence\n",
      "            ``infodict['elist']``.  Then ``E[I[1]], ..., E[I[L]]`` forms a\n",
      "            decreasing sequence.\n",
      "        \n",
      "        If the input argument points is provided (i.e. it is not None),\n",
      "        the following additional outputs are placed in the output\n",
      "        dictionary.  Assume the points sequence is of length P.\n",
      "        \n",
      "        'pts'\n",
      "            A rank-1 array of length P+2 containing the integration limits\n",
      "            and the break points of the intervals in ascending order.\n",
      "            This is an array giving the subintervals over which integration\n",
      "            will occur.\n",
      "        'level'\n",
      "            A rank-1 integer array of length M (=limit), containing the\n",
      "            subdivision levels of the subintervals, i.e., if (aa,bb) is a\n",
      "            subinterval of ``(pts[1], pts[2])`` where ``pts[0]`` and ``pts[2]``\n",
      "            are adjacent elements of ``infodict['pts']``, then (aa,bb) has level l\n",
      "            if ``|bb-aa| = |pts[2]-pts[1]| * 2**(-l)``.\n",
      "        'ndin'\n",
      "            A rank-1 integer array of length P+2.  After the first integration\n",
      "            over the intervals (pts[1], pts[2]), the error estimates over some\n",
      "            of the intervals may have been increased artificially in order to\n",
      "            put their subdivision forward.  This array has ones in slots\n",
      "            corresponding to the subintervals for which this happens.\n",
      "        \n",
      "        **Weighting the integrand**\n",
      "        \n",
      "        The input variables, *weight* and *wvar*, are used to weight the\n",
      "        integrand by a select list of functions.  Different integration\n",
      "        methods are used to compute the integral with these weighting\n",
      "        functions.  The possible values of weight and the corresponding\n",
      "        weighting functions are.\n",
      "        \n",
      "        ==========  ===================================   =====================\n",
      "        ``weight``  Weight function used                  ``wvar``\n",
      "        ==========  ===================================   =====================\n",
      "        'cos'       cos(w*x)                              wvar = w\n",
      "        'sin'       sin(w*x)                              wvar = w\n",
      "        'alg'       g(x) = ((x-a)**alpha)*((b-x)**beta)   wvar = (alpha, beta)\n",
      "        'alg-loga'  g(x)*log(x-a)                         wvar = (alpha, beta)\n",
      "        'alg-logb'  g(x)*log(b-x)                         wvar = (alpha, beta)\n",
      "        'alg-log'   g(x)*log(x-a)*log(b-x)                wvar = (alpha, beta)\n",
      "        'cauchy'    1/(x-c)                               wvar = c\n",
      "        ==========  ===================================   =====================\n",
      "        \n",
      "        wvar holds the parameter w, (alpha, beta), or c depending on the weight\n",
      "        selected.  In these expressions, a and b are the integration limits.\n",
      "        \n",
      "        For the 'cos' and 'sin' weighting, additional inputs and outputs are\n",
      "        available.\n",
      "        \n",
      "        For finite integration limits, the integration is performed using a\n",
      "        Clenshaw-Curtis method which uses Chebyshev moments.  For repeated\n",
      "        calculations, these moments are saved in the output dictionary:\n",
      "        \n",
      "        'momcom'\n",
      "            The maximum level of Chebyshev moments that have been computed,\n",
      "            i.e., if ``M_c`` is ``infodict['momcom']`` then the moments have been\n",
      "            computed for intervals of length ``|b-a| * 2**(-l)``,\n",
      "            ``l=0,1,...,M_c``.\n",
      "        'nnlog'\n",
      "            A rank-1 integer array of length M(=limit), containing the\n",
      "            subdivision levels of the subintervals, i.e., an element of this\n",
      "            array is equal to l if the corresponding subinterval is\n",
      "            ``|b-a|* 2**(-l)``.\n",
      "        'chebmo'\n",
      "            A rank-2 array of shape (25, maxp1) containing the computed\n",
      "            Chebyshev moments.  These can be passed on to an integration\n",
      "            over the same interval by passing this array as the second\n",
      "            element of the sequence wopts and passing infodict['momcom'] as\n",
      "            the first element.\n",
      "        \n",
      "        If one of the integration limits is infinite, then a Fourier integral is\n",
      "        computed (assuming w neq 0).  If full_output is 1 and a numerical error\n",
      "        is encountered, besides the error message attached to the output tuple,\n",
      "        a dictionary is also appended to the output tuple which translates the\n",
      "        error codes in the array ``info['ierlst']`` to English messages.  The\n",
      "        output information dictionary contains the following entries instead of\n",
      "        'last', 'alist', 'blist', 'rlist', and 'elist':\n",
      "        \n",
      "        'lst'\n",
      "            The number of subintervals needed for the integration (call it ``K_f``).\n",
      "        'rslst'\n",
      "            A rank-1 array of length M_f=limlst, whose first ``K_f`` elements\n",
      "            contain the integral contribution over the interval\n",
      "            ``(a+(k-1)c, a+kc)`` where ``c = (2*floor(|w|) + 1) * pi / |w|``\n",
      "            and ``k=1,2,...,K_f``.\n",
      "        'erlst'\n",
      "            A rank-1 array of length ``M_f`` containing the error estimate\n",
      "            corresponding to the interval in the same position in\n",
      "            ``infodict['rslist']``.\n",
      "        'ierlst'\n",
      "            A rank-1 integer array of length ``M_f`` containing an error flag\n",
      "            corresponding to the interval in the same position in\n",
      "            ``infodict['rslist']``.  See the explanation dictionary (last entry\n",
      "            in the output tuple) for the meaning of the codes.\n",
      "        \n",
      "        Examples\n",
      "        --------\n",
      "        Calculate :math:`\\int^4_0 x^2 dx` and compare with an analytic result\n",
      "        \n",
      "        >>> from scipy import integrate\n",
      "        >>> x2 = lambda x: x**2\n",
      "        >>> integrate.quad(x2, 0, 4)\n",
      "        (21.333333333333332, 2.3684757858670003e-13)\n",
      "        >>> print(4**3 / 3.)  # analytical result\n",
      "        21.3333333333\n",
      "        \n",
      "        Calculate :math:`\\int^\\infty_0 e^{-x} dx`\n",
      "        \n",
      "        >>> invexp = lambda x: np.exp(-x)\n",
      "        >>> integrate.quad(invexp, 0, np.inf)\n",
      "        (1.0, 5.842605999138044e-11)\n",
      "        \n",
      "        >>> f = lambda x,a : a*x\n",
      "        >>> y, err = integrate.quad(f, 0, 1, args=(1,))\n",
      "        >>> y\n",
      "        0.5\n",
      "        >>> y, err = integrate.quad(f, 0, 1, args=(3,))\n",
      "        >>> y\n",
      "        1.5\n",
      "        \n",
      "        Calculate :math:`\\int^1_0 x^2 + y^2 dx` with ctypes, holding\n",
      "        y parameter as 1::\n",
      "        \n",
      "            testlib.c =>\n",
      "                double func(int n, double args[n]){\n",
      "                    return args[0]*args[0] + args[1]*args[1];}\n",
      "            compile to library testlib.*\n",
      "        \n",
      "        ::\n",
      "        \n",
      "           from scipy import integrate\n",
      "           import ctypes\n",
      "           lib = ctypes.CDLL('/home/.../testlib.*') #use absolute path\n",
      "           lib.func.restype = ctypes.c_double\n",
      "           lib.func.argtypes = (ctypes.c_int,ctypes.c_double)\n",
      "           integrate.quad(lib.func,0,1,(1))\n",
      "           #(1.3333333333333333, 1.4802973661668752e-14)\n",
      "           print((1.0**3/3.0 + 1.0) - (0.0**3/3.0 + 0.0)) #Analytic result\n",
      "           # 1.3333333333333333\n",
      "    \n",
      "    quad_explain(output=<ipykernel.iostream.OutStream object at 0x103ff3c50>)\n",
      "        Print extra information about integrate.quad() parameters and returns.\n",
      "        \n",
      "        Parameters\n",
      "        ----------\n",
      "        output : instance with \"write\" method, optional\n",
      "            Information about `quad` is passed to ``output.write()``.\n",
      "            Default is ``sys.stdout``.\n",
      "        \n",
      "        Returns\n",
      "        -------\n",
      "        None\n",
      "    \n",
      "    quadrature(func, a, b, args=(), tol=1.49e-08, rtol=1.49e-08, maxiter=50, vec_func=True, miniter=1)\n",
      "        Compute a definite integral using fixed-tolerance Gaussian quadrature.\n",
      "        \n",
      "        Integrate `func` from `a` to `b` using Gaussian quadrature\n",
      "        with absolute tolerance `tol`.\n",
      "        \n",
      "        Parameters\n",
      "        ----------\n",
      "        func : function\n",
      "            A Python function or method to integrate.\n",
      "        a : float\n",
      "            Lower limit of integration.\n",
      "        b : float\n",
      "            Upper limit of integration.\n",
      "        args : tuple, optional\n",
      "            Extra arguments to pass to function.\n",
      "        tol, rtol : float, optional\n",
      "            Iteration stops when error between last two iterates is less than\n",
      "            `tol` OR the relative change is less than `rtol`.\n",
      "        maxiter : int, optional\n",
      "            Maximum order of Gaussian quadrature.\n",
      "        vec_func : bool, optional\n",
      "            True or False if func handles arrays as arguments (is\n",
      "            a \"vector\" function). Default is True.\n",
      "        miniter : int, optional\n",
      "            Minimum order of Gaussian quadrature.\n",
      "        \n",
      "        Returns\n",
      "        -------\n",
      "        val : float\n",
      "            Gaussian quadrature approximation (within tolerance) to integral.\n",
      "        err : float\n",
      "            Difference between last two estimates of the integral.\n",
      "        \n",
      "        See also\n",
      "        --------\n",
      "        romberg: adaptive Romberg quadrature\n",
      "        fixed_quad: fixed-order Gaussian quadrature\n",
      "        quad: adaptive quadrature using QUADPACK\n",
      "        dblquad: double integrals\n",
      "        tplquad: triple integrals\n",
      "        romb: integrator for sampled data\n",
      "        simps: integrator for sampled data\n",
      "        cumtrapz: cumulative integration for sampled data\n",
      "        ode: ODE integrator\n",
      "        odeint: ODE integrator\n",
      "    \n",
      "    romb(y, dx=1.0, axis=-1, show=False)\n",
      "        Romberg integration using samples of a function.\n",
      "        \n",
      "        Parameters\n",
      "        ----------\n",
      "        y : array_like\n",
      "            A vector of ``2**k + 1`` equally-spaced samples of a function.\n",
      "        dx : float, optional\n",
      "            The sample spacing. Default is 1.\n",
      "        axis : int, optional\n",
      "            The axis along which to integrate. Default is -1 (last axis).\n",
      "        show : bool, optional\n",
      "            When `y` is a single 1-D array, then if this argument is True\n",
      "            print the table showing Richardson extrapolation from the\n",
      "            samples. Default is False.\n",
      "        \n",
      "        Returns\n",
      "        -------\n",
      "        romb : ndarray\n",
      "            The integrated result for `axis`.\n",
      "        \n",
      "        See also\n",
      "        --------\n",
      "        quad : adaptive quadrature using QUADPACK\n",
      "        romberg : adaptive Romberg quadrature\n",
      "        quadrature : adaptive Gaussian quadrature\n",
      "        fixed_quad : fixed-order Gaussian quadrature\n",
      "        dblquad : double integrals\n",
      "        tplquad : triple integrals\n",
      "        simps : integrators for sampled data\n",
      "        cumtrapz : cumulative integration for sampled data\n",
      "        ode : ODE integrators\n",
      "        odeint : ODE integrators\n",
      "    \n",
      "    romberg(function, a, b, args=(), tol=1.48e-08, rtol=1.48e-08, show=False, divmax=10, vec_func=False)\n",
      "        Romberg integration of a callable function or method.\n",
      "        \n",
      "        Returns the integral of `function` (a function of one variable)\n",
      "        over the interval (`a`, `b`).\n",
      "        \n",
      "        If `show` is 1, the triangular array of the intermediate results\n",
      "        will be printed.  If `vec_func` is True (default is False), then\n",
      "        `function` is assumed to support vector arguments.\n",
      "        \n",
      "        Parameters\n",
      "        ----------\n",
      "        function : callable\n",
      "            Function to be integrated.\n",
      "        a : float\n",
      "            Lower limit of integration.\n",
      "        b : float\n",
      "            Upper limit of integration.\n",
      "        \n",
      "        Returns\n",
      "        -------\n",
      "        results  : float\n",
      "            Result of the integration.\n",
      "        \n",
      "        Other Parameters\n",
      "        ----------------\n",
      "        args : tuple, optional\n",
      "            Extra arguments to pass to function. Each element of `args` will\n",
      "            be passed as a single argument to `func`. Default is to pass no\n",
      "            extra arguments.\n",
      "        tol, rtol : float, optional\n",
      "            The desired absolute and relative tolerances. Defaults are 1.48e-8.\n",
      "        show : bool, optional\n",
      "            Whether to print the results. Default is False.\n",
      "        divmax : int, optional\n",
      "            Maximum order of extrapolation. Default is 10.\n",
      "        vec_func : bool, optional\n",
      "            Whether `func` handles arrays as arguments (i.e whether it is a\n",
      "            \"vector\" function). Default is False.\n",
      "        \n",
      "        See Also\n",
      "        --------\n",
      "        fixed_quad : Fixed-order Gaussian quadrature.\n",
      "        quad : Adaptive quadrature using QUADPACK.\n",
      "        dblquad : Double integrals.\n",
      "        tplquad : Triple integrals.\n",
      "        romb : Integrators for sampled data.\n",
      "        simps : Integrators for sampled data.\n",
      "        cumtrapz : Cumulative integration for sampled data.\n",
      "        ode : ODE integrator.\n",
      "        odeint : ODE integrator.\n",
      "        \n",
      "        References\n",
      "        ----------\n",
      "        .. [1] 'Romberg's method' http://en.wikipedia.org/wiki/Romberg%27s_method\n",
      "        \n",
      "        Examples\n",
      "        --------\n",
      "        Integrate a gaussian from 0 to 1 and compare to the error function.\n",
      "        \n",
      "        >>> from scipy import integrate\n",
      "        >>> from scipy.special import erf\n",
      "        >>> gaussian = lambda x: 1/np.sqrt(np.pi) * np.exp(-x**2)\n",
      "        >>> result = integrate.romberg(gaussian, 0, 1, show=True)\n",
      "        Romberg integration of <function vfunc at ...> from [0, 1]\n",
      "        \n",
      "        ::\n",
      "        \n",
      "           Steps  StepSize  Results\n",
      "               1  1.000000  0.385872\n",
      "               2  0.500000  0.412631  0.421551\n",
      "               4  0.250000  0.419184  0.421368  0.421356\n",
      "               8  0.125000  0.420810  0.421352  0.421350  0.421350\n",
      "              16  0.062500  0.421215  0.421350  0.421350  0.421350  0.421350\n",
      "              32  0.031250  0.421317  0.421350  0.421350  0.421350  0.421350  0.421350\n",
      "        \n",
      "        The final result is 0.421350396475 after 33 function evaluations.\n",
      "        \n",
      "        >>> print(\"%g %g\" % (2*result, erf(1)))\n",
      "        0.842701 0.842701\n",
      "    \n",
      "    simps(y, x=None, dx=1, axis=-1, even='avg')\n",
      "        Integrate y(x) using samples along the given axis and the composite\n",
      "        Simpson's rule.  If x is None, spacing of dx is assumed.\n",
      "        \n",
      "        If there are an even number of samples, N, then there are an odd\n",
      "        number of intervals (N-1), but Simpson's rule requires an even number\n",
      "        of intervals.  The parameter 'even' controls how this is handled.\n",
      "        \n",
      "        Parameters\n",
      "        ----------\n",
      "        y : array_like\n",
      "            Array to be integrated.\n",
      "        x : array_like, optional\n",
      "            If given, the points at which `y` is sampled.\n",
      "        dx : int, optional\n",
      "            Spacing of integration points along axis of `y`. Only used when\n",
      "            `x` is None. Default is 1.\n",
      "        axis : int, optional\n",
      "            Axis along which to integrate. Default is the last axis.\n",
      "        even : {'avg', 'first', 'str'}, optional\n",
      "            'avg' : Average two results:1) use the first N-2 intervals with\n",
      "                      a trapezoidal rule on the last interval and 2) use the last\n",
      "                      N-2 intervals with a trapezoidal rule on the first interval.\n",
      "        \n",
      "            'first' : Use Simpson's rule for the first N-2 intervals with\n",
      "                    a trapezoidal rule on the last interval.\n",
      "        \n",
      "            'last' : Use Simpson's rule for the last N-2 intervals with a\n",
      "                   trapezoidal rule on the first interval.\n",
      "        \n",
      "        See Also\n",
      "        --------\n",
      "        quad: adaptive quadrature using QUADPACK\n",
      "        romberg: adaptive Romberg quadrature\n",
      "        quadrature: adaptive Gaussian quadrature\n",
      "        fixed_quad: fixed-order Gaussian quadrature\n",
      "        dblquad: double integrals\n",
      "        tplquad: triple integrals\n",
      "        romb: integrators for sampled data\n",
      "        cumtrapz: cumulative integration for sampled data\n",
      "        ode: ODE integrators\n",
      "        odeint: ODE integrators\n",
      "        \n",
      "        Notes\n",
      "        -----\n",
      "        For an odd number of samples that are equally spaced the result is\n",
      "        exact if the function is a polynomial of order 3 or less.  If\n",
      "        the samples are not equally spaced, then the result is exact only\n",
      "        if the function is a polynomial of order 2 or less.\n",
      "    \n",
      "    tplquad(func, a, b, gfun, hfun, qfun, rfun, args=(), epsabs=1.49e-08, epsrel=1.49e-08)\n",
      "        Compute a triple (definite) integral.\n",
      "        \n",
      "        Return the triple integral of ``func(z, y, x)`` from ``x = a..b``,\n",
      "        ``y = gfun(x)..hfun(x)``, and ``z = qfun(x,y)..rfun(x,y)``.\n",
      "        \n",
      "        Parameters\n",
      "        ----------\n",
      "        func : function\n",
      "            A Python function or method of at least three variables in the\n",
      "            order (z, y, x).\n",
      "        a, b : float\n",
      "            The limits of integration in x: `a` < `b`\n",
      "        gfun : function\n",
      "            The lower boundary curve in y which is a function taking a single\n",
      "            floating point argument (x) and returning a floating point result:\n",
      "            a lambda function can be useful here.\n",
      "        hfun : function\n",
      "            The upper boundary curve in y (same requirements as `gfun`).\n",
      "        qfun : function\n",
      "            The lower boundary surface in z.  It must be a function that takes\n",
      "            two floats in the order (x, y) and returns a float.\n",
      "        rfun : function\n",
      "            The upper boundary surface in z. (Same requirements as `qfun`.)\n",
      "        args : tuple, optional\n",
      "            Extra arguments to pass to `func`.\n",
      "        epsabs : float, optional\n",
      "            Absolute tolerance passed directly to the innermost 1-D quadrature\n",
      "            integration. Default is 1.49e-8.\n",
      "        epsrel : float, optional\n",
      "            Relative tolerance of the innermost 1-D integrals. Default is 1.49e-8.\n",
      "        \n",
      "        Returns\n",
      "        -------\n",
      "        y : float\n",
      "            The resultant integral.\n",
      "        abserr : float\n",
      "            An estimate of the error.\n",
      "        \n",
      "        See Also\n",
      "        --------\n",
      "        quad: Adaptive quadrature using QUADPACK\n",
      "        quadrature: Adaptive Gaussian quadrature\n",
      "        fixed_quad: Fixed-order Gaussian quadrature\n",
      "        dblquad: Double integrals\n",
      "        nquad : N-dimensional integrals\n",
      "        romb: Integrators for sampled data\n",
      "        simps: Integrators for sampled data\n",
      "        ode: ODE integrators\n",
      "        odeint: ODE integrators\n",
      "        scipy.special: For coefficients and roots of orthogonal polynomials\n",
      "    \n",
      "    trapz(y, x=None, dx=1.0, axis=-1)\n",
      "        Integrate along the given axis using the composite trapezoidal rule.\n",
      "        \n",
      "        Integrate `y` (`x`) along given axis.\n",
      "        \n",
      "        Parameters\n",
      "        ----------\n",
      "        y : array_like\n",
      "            Input array to integrate.\n",
      "        x : array_like, optional\n",
      "            If `x` is None, then spacing between all `y` elements is `dx`.\n",
      "        dx : scalar, optional\n",
      "            If `x` is None, spacing given by `dx` is assumed. Default is 1.\n",
      "        axis : int, optional\n",
      "            Specify the axis.\n",
      "        \n",
      "        Returns\n",
      "        -------\n",
      "        trapz : float\n",
      "            Definite integral as approximated by trapezoidal rule.\n",
      "        \n",
      "        See Also\n",
      "        --------\n",
      "        sum, cumsum\n",
      "        \n",
      "        Notes\n",
      "        -----\n",
      "        Image [2]_ illustrates trapezoidal rule -- y-axis locations of points\n",
      "        will be taken from `y` array, by default x-axis distances between\n",
      "        points will be 1.0, alternatively they can be provided with `x` array\n",
      "        or with `dx` scalar.  Return value will be equal to combined area under\n",
      "        the red lines.\n",
      "        \n",
      "        \n",
      "        References\n",
      "        ----------\n",
      "        .. [1] Wikipedia page: http://en.wikipedia.org/wiki/Trapezoidal_rule\n",
      "        \n",
      "        .. [2] Illustration image:\n",
      "               http://en.wikipedia.org/wiki/File:Composite_trapezoidal_rule_illustration.png\n",
      "        \n",
      "        Examples\n",
      "        --------\n",
      "        >>> np.trapz([1,2,3])\n",
      "        4.0\n",
      "        >>> np.trapz([1,2,3], x=[4,6,8])\n",
      "        8.0\n",
      "        >>> np.trapz([1,2,3], dx=2)\n",
      "        8.0\n",
      "        >>> a = np.arange(6).reshape(2, 3)\n",
      "        >>> a\n",
      "        array([[0, 1, 2],\n",
      "               [3, 4, 5]])\n",
      "        >>> np.trapz(a, axis=0)\n",
      "        array([ 1.5,  2.5,  3.5])\n",
      "        >>> np.trapz(a, axis=1)\n",
      "        array([ 2.,  8.])\n",
      "\n",
      "DATA\n",
      "    __all__ = ['IntegrationWarning', 'absolute_import', 'complex_ode', 'cu...\n",
      "    absolute_import = _Feature((2, 5, 0, 'alpha', 1), (3, 0, 0, 'alpha', 0...\n",
      "    division = _Feature((2, 2, 0, 'alpha', 2), (3, 0, 0, 'alpha', 0), 8192...\n",
      "    print_function = _Feature((2, 6, 0, 'alpha', 2), (3, 0, 0, 'alpha', 0)...\n",
      "\n",
      "FILE\n",
      "    /Users/kosack/anaconda/lib/python3.5/site-packages/scipy/integrate/__init__.py\n",
      "\n",
      "\n"
     ]
    }
   ],
   "source": [
    "import scipy.integrate\n",
    "help(scipy.integrate)"
   ]
  },
  {
   "cell_type": "markdown",
   "metadata": {},
   "source": [
    "The `quad` function takes a large number of optional arguments, which can be used to fine-tune the behaviour of the function (try `help(quad)` for details).\n",
    "\n",
    "The basic usage is as follows:"
   ]
  },
  {
   "cell_type": "code",
   "execution_count": 7,
   "metadata": {
    "collapsed": false
   },
   "outputs": [],
   "source": [
    "# define a simple function for the integrand\n",
    "def f(x):\n",
    "    return x"
   ]
  },
  {
   "cell_type": "code",
   "execution_count": 9,
   "metadata": {
    "collapsed": false
   },
   "outputs": [
    {
     "name": "stdout",
     "output_type": "stream",
     "text": [
      "integral value = 0.5 , absolute error = 5.551115123125783e-15\n"
     ]
    }
   ],
   "source": [
    "\n",
    "x_lower = 0 # the lower limit of x\n",
    "x_upper = 1 # the upper limit of x\n",
    "\n",
    "val, abserr = scipy.integrate.quad(f, x_lower, x_upper)\n",
    "\n",
    "print(\"integral value =\", val, \", absolute error =\", abserr)"
   ]
  },
  {
   "cell_type": "markdown",
   "metadata": {},
   "source": [
    "For simple functions we can use a lambda function (name-less function) instead of explicitly defining a function for the integrand\n",
    "```\n",
    "lambda x: exp(-x ** 2)   \n",
    "is the same as:\n",
    "def f(x): return exp(-x ** 2)\n",
    "```\n"
   ]
  },
  {
   "cell_type": "code",
   "execution_count": 10,
   "metadata": {
    "collapsed": false
   },
   "outputs": [
    {
     "name": "stdout",
     "output_type": "stream",
     "text": [
      "numerical  = 1.7724538509055159 1.4202636780944923e-08\n",
      "analytical = 1.7724538509055159\n"
     ]
    }
   ],
   "source": [
    "import numpy\n",
    "import math\n",
    "# or: from math import exp,sqrt\n",
    "\n",
    "val, abserr = scipy.integrate.quad(lambda x: math.exp(-x ** 2), -numpy.inf, numpy.inf)\n",
    "\n",
    "print(\"numerical  =\", val, abserr)\n",
    "\n",
    "analytical = math.sqrt(math.pi)\n",
    "print(\"analytical =\", analytical)"
   ]
  },
  {
   "cell_type": "markdown",
   "metadata": {},
   "source": [
    "As show in the example above, we can also use 'Inf' or '-Inf' as integral limits.\n",
    "\n",
    "Higher-dimensional integration works in the same way:"
   ]
  },
  {
   "cell_type": "code",
   "execution_count": 11,
   "metadata": {
    "collapsed": false
   },
   "outputs": [
    {
     "name": "stdout",
     "output_type": "stream",
     "text": [
      "0.7853981633974476 1.638229942140971e-13\n"
     ]
    }
   ],
   "source": [
    "def integrand(x, y):\n",
    "    return math.exp(-x**2-y**2)\n",
    "\n",
    "x_lower = 0  \n",
    "x_upper = 10\n",
    "y_lower = 0\n",
    "y_upper = 10\n",
    "\n",
    "val, abserr = scipy.integrate.dblquad(integrand, x_lower, x_upper, lambda x : y_lower, lambda x: y_upper)\n",
    "\n",
    "print(val, abserr)"
   ]
  },
  {
   "cell_type": "markdown",
   "metadata": {},
   "source": [
    "Note how we had to pass lambda functions for the limits for the y integration, since these in general can be functions of x."
   ]
  },
  {
   "cell_type": "markdown",
   "metadata": {},
   "source": [
    "see also `scipy.integrate.nquad` for n-dimensional integrals"
   ]
  },
  {
   "cell_type": "markdown",
   "metadata": {},
   "source": [
    "## Linear algebra"
   ]
  },
  {
   "cell_type": "markdown",
   "metadata": {},
   "source": [
    "The linear algebra module contains a lot of matrix related functions, including linear equation solving, eigenvalue solvers, matrix functions (for example matrix-exponentiation), a number of different decompositions (SVD, LU, cholesky), etc. \n",
    "\n",
    "Detailed documetation is available at: http://docs.scipy.org/doc/scipy/reference/linalg.html\n",
    "\n",
    "Here we will look at how to use some of these functions:\n",
    "\n"
   ]
  },
  {
   "cell_type": "markdown",
   "metadata": {},
   "source": [
    "### Linear equation systems"
   ]
  },
  {
   "cell_type": "markdown",
   "metadata": {},
   "source": [
    "Linear equation systems on the matrix form\n",
    "\n",
    "$A x = b$\n",
    "\n",
    "where $A$ is a matrix and $x,b$ are vectors can be solved like:"
   ]
  },
  {
   "cell_type": "code",
   "execution_count": 14,
   "metadata": {
    "collapsed": false
   },
   "outputs": [],
   "source": [
    "A = numpy.array([[1,2,3], [4,5,6], [7,8,9]])\n",
    "b = numpy.array([1,2,3])"
   ]
  },
  {
   "cell_type": "code",
   "execution_count": 15,
   "metadata": {
    "collapsed": false
   },
   "outputs": [
    {
     "data": {
      "text/plain": [
       "array([-0.23333333,  0.46666667,  0.1       ])"
      ]
     },
     "execution_count": 15,
     "metadata": {},
     "output_type": "execute_result"
    }
   ],
   "source": [
    "x = scipy.linalg.solve(A, b)\n",
    "\n",
    "x"
   ]
  },
  {
   "cell_type": "code",
   "execution_count": 16,
   "metadata": {
    "collapsed": false
   },
   "outputs": [
    {
     "data": {
      "text/plain": [
       "array([  0.00000000e+00,  -2.22044605e-16,   0.00000000e+00])"
      ]
     },
     "execution_count": 16,
     "metadata": {},
     "output_type": "execute_result"
    }
   ],
   "source": [
    "# check\n",
    "scipy.dot(A, x) - b"
   ]
  },
  {
   "cell_type": "markdown",
   "metadata": {},
   "source": [
    "We can also do the same with\n",
    "\n",
    "$A X = B$\n",
    "\n",
    "where $A, B, X$ are matrices:"
   ]
  },
  {
   "cell_type": "code",
   "execution_count": 17,
   "metadata": {
    "collapsed": false
   },
   "outputs": [],
   "source": [
    "A = scipy.rand(3,3)\n",
    "B = scipy.rand(3,3)"
   ]
  },
  {
   "cell_type": "code",
   "execution_count": 18,
   "metadata": {
    "collapsed": false
   },
   "outputs": [],
   "source": [
    "X = scipy.linalg.solve(A, B)"
   ]
  },
  {
   "cell_type": "code",
   "execution_count": 19,
   "metadata": {
    "collapsed": false
   },
   "outputs": [
    {
     "name": "stdout",
     "output_type": "stream",
     "text": [
      "[[ 0.511457   -0.00975368  0.04868284]\n",
      " [-0.22481399  2.39090902  1.08348961]\n",
      " [ 0.73089928 -1.90841545 -0.8124199 ]]\n"
     ]
    }
   ],
   "source": [
    "print(X)"
   ]
  },
  {
   "cell_type": "code",
   "execution_count": 20,
   "metadata": {
    "collapsed": false
   },
   "outputs": [
    {
     "data": {
      "text/plain": [
       "1.2412670766236366e-16"
      ]
     },
     "execution_count": 20,
     "metadata": {},
     "output_type": "execute_result"
    }
   ],
   "source": [
    "# check\n",
    "scipy.linalg.norm(scipy.dot(A, X) - B)"
   ]
  },
  {
   "cell_type": "markdown",
   "metadata": {},
   "source": [
    "### Matrix operations"
   ]
  },
  {
   "cell_type": "code",
   "execution_count": 21,
   "metadata": {
    "collapsed": false
   },
   "outputs": [
    {
     "data": {
      "text/plain": [
       "array([[ 0.80990975, -1.32872135,  0.53655523],\n",
       "       [ 1.20007038,  3.30568904, -1.40726583],\n",
       "       [-1.72469168, -1.91383308,  1.85668182]])"
      ]
     },
     "execution_count": 21,
     "metadata": {},
     "output_type": "execute_result"
    }
   ],
   "source": [
    "# the matrix inverse\n",
    "scipy.linalg.inv(A)"
   ]
  },
  {
   "cell_type": "code",
   "execution_count": 22,
   "metadata": {
    "collapsed": false
   },
   "outputs": [
    {
     "data": {
      "text/plain": [
       "0.2297799675408361"
      ]
     },
     "execution_count": 22,
     "metadata": {},
     "output_type": "execute_result"
    }
   ],
   "source": [
    "# determinant\n",
    "scipy.linalg.det(A)"
   ]
  },
  {
   "cell_type": "markdown",
   "metadata": {},
   "source": [
    "## Sparse matrices"
   ]
  },
  {
   "cell_type": "markdown",
   "metadata": {},
   "source": [
    "Sparse matrices are often useful in numerical simulations dealing with large systems, if the problem can be described in matrix form where the matrices or vectors mostly contains zeros. Scipy has a good support for sparse matrices, with basic linear algebra operations (such as equation solving, eigenvalue calculations, etc).\n",
    "\n",
    "There are many possible strategies for storing sparse matrices in an efficient way. Some of the most common are the so-called coordinate form (COO), list of list (LIL) form,  and compressed-sparse column CSC (and row, CSR). Each format has some advantanges and disadvantages. Most computational algorithms (equation solving, matrix-matrix multiplication, etc) can be efficiently implemented using CSR or CSC formats, but they are not so intuitive and not so easy to initialize. So often a sparse matrix is initially created in COO or LIL format (where we can efficiently add elements to the sparse matrix data), and then converted to CSC or CSR before used in real calcalations.\n",
    "\n",
    "For more information about these sparse formats, see e.g. http://en.wikipedia.org/wiki/Sparse_matrix\n",
    "\n",
    "When we create a sparse matrix we have to choose which format it should be stored in. For example, "
   ]
  },
  {
   "cell_type": "code",
   "execution_count": 23,
   "metadata": {
    "collapsed": false
   },
   "outputs": [],
   "source": [
    "import scipy.sparse"
   ]
  },
  {
   "cell_type": "markdown",
   "metadata": {},
   "source": [
    "More efficient way to create sparse matrices: create an empty matrix and populate with using matrix indexing (avoids creating a potentially large dense matrix)"
   ]
  },
  {
   "cell_type": "code",
   "execution_count": 24,
   "metadata": {
    "collapsed": false
   },
   "outputs": [
    {
     "data": {
      "text/plain": [
       "<4x4 sparse matrix of type '<class 'numpy.float64'>'\n",
       "\twith 6 stored elements in LInked List format>"
      ]
     },
     "execution_count": 24,
     "metadata": {},
     "output_type": "execute_result"
    }
   ],
   "source": [
    "A = scipy.sparse.lil_matrix((4,4)) # empty 4x4 sparse matrix\n",
    "A[0,0] = 1\n",
    "A[1,1] = 3\n",
    "A[2,2] = A[2,1] = 1\n",
    "A[3,3] = A[3,0] = 1\n",
    "A"
   ]
  },
  {
   "cell_type": "code",
   "execution_count": 25,
   "metadata": {
    "collapsed": false
   },
   "outputs": [
    {
     "data": {
      "text/plain": [
       "matrix([[ 1.,  0.,  0.,  0.],\n",
       "        [ 0.,  3.,  0.,  0.],\n",
       "        [ 0.,  1.,  1.,  0.],\n",
       "        [ 1.,  0.,  0.,  1.]])"
      ]
     },
     "execution_count": 25,
     "metadata": {},
     "output_type": "execute_result"
    }
   ],
   "source": [
    "A.todense()"
   ]
  },
  {
   "cell_type": "markdown",
   "metadata": {},
   "source": [
    "Converting between different sparse matrix formats:"
   ]
  },
  {
   "cell_type": "code",
   "execution_count": 26,
   "metadata": {
    "collapsed": false
   },
   "outputs": [
    {
     "data": {
      "text/plain": [
       "matrix([[ 1.,  0.,  0.,  0.],\n",
       "        [ 0.,  9.,  0.,  0.],\n",
       "        [ 0.,  4.,  1.,  0.],\n",
       "        [ 2.,  0.,  0.,  1.]])"
      ]
     },
     "execution_count": 26,
     "metadata": {},
     "output_type": "execute_result"
    }
   ],
   "source": [
    "(A * A).todense()"
   ]
  },
  {
   "cell_type": "markdown",
   "metadata": {},
   "source": [
    "# Fit"
   ]
  },
  {
   "cell_type": "markdown",
   "metadata": {},
   "source": [
    "## Fit using scipy  optimization"
   ]
  },
  {
   "cell_type": "markdown",
   "metadata": {},
   "source": [
    "Optimization (finding minima or maxima of a function) is a large field in mathematics, and optimization of complicated functions or in many variables can be rather involved. Here we will only look at a few very simple cases. For a more detailed introduction to optimization with SciPy see: http://scipy-lectures.github.com/advanced/mathematical_optimization/index.html\n",
    "\n",
    "To use the optimization module in scipy first include the `optimize` module:"
   ]
  },
  {
   "cell_type": "code",
   "execution_count": 27,
   "metadata": {
    "collapsed": false
   },
   "outputs": [],
   "source": [
    "import scipy.optimize"
   ]
  },
  {
   "cell_type": "markdown",
   "metadata": {},
   "source": [
    "Let's first look at how to find the minima of a simple function of a single variable:"
   ]
  },
  {
   "cell_type": "markdown",
   "metadata": {},
   "source": [
    "Principa:  create a function of the form:  $\\displaystyle \\frac{data-model}{error}$"
   ]
  },
  {
   "cell_type": "markdown",
   "metadata": {},
   "source": [
    "Then a function that square and sun the previous function and use a scipy.optimize.minimize to minimize this sum:"
   ]
  },
  {
   "cell_type": "code",
   "execution_count": 28,
   "metadata": {
    "collapsed": false
   },
   "outputs": [
    {
     "name": "stdout",
     "output_type": "stream",
     "text": [
      "Help on function minimize in module scipy.optimize._minimize:\n",
      "\n",
      "minimize(fun, x0, args=(), method=None, jac=None, hess=None, hessp=None, bounds=None, constraints=(), tol=None, callback=None, options=None)\n",
      "    Minimization of scalar function of one or more variables.\n",
      "    \n",
      "    In general, the optimization problems are of the form::\n",
      "    \n",
      "        minimize f(x) subject to\n",
      "    \n",
      "        g_i(x) >= 0,  i = 1,...,m\n",
      "        h_j(x)  = 0,  j = 1,...,p\n",
      "    \n",
      "    where x is a vector of one or more variables.\n",
      "    ``g_i(x)`` are the inequality constraints.\n",
      "    ``h_j(x)`` are the equality constrains.\n",
      "    \n",
      "    Optionally, the lower and upper bounds for each element in x can also be specified \n",
      "    using the `bounds` argument.\n",
      "    \n",
      "    Parameters\n",
      "    ----------\n",
      "    fun : callable\n",
      "        Objective function.\n",
      "    x0 : ndarray\n",
      "        Initial guess.\n",
      "    args : tuple, optional\n",
      "        Extra arguments passed to the objective function and its\n",
      "        derivatives (Jacobian, Hessian).\n",
      "    method : str or callable, optional\n",
      "        Type of solver.  Should be one of\n",
      "    \n",
      "            - 'Nelder-Mead' :ref:`(see here) <optimize.minimize-neldermead>`\n",
      "            - 'Powell'      :ref:`(see here) <optimize.minimize-powell>`\n",
      "            - 'CG'          :ref:`(see here) <optimize.minimize-cg>`\n",
      "            - 'BFGS'        :ref:`(see here) <optimize.minimize-bfgs>`\n",
      "            - 'Newton-CG'   :ref:`(see here) <optimize.minimize-newtoncg>`\n",
      "            - 'L-BFGS-B'    :ref:`(see here) <optimize.minimize-lbfgsb>`\n",
      "            - 'TNC'         :ref:`(see here) <optimize.minimize-tnc>`\n",
      "            - 'COBYLA'      :ref:`(see here) <optimize.minimize-cobyla>`\n",
      "            - 'SLSQP'       :ref:`(see here) <optimize.minimize-slsqp>`\n",
      "            - 'dogleg'      :ref:`(see here) <optimize.minimize-dogleg>`\n",
      "            - 'trust-ncg'   :ref:`(see here) <optimize.minimize-trustncg>`\n",
      "            - custom - a callable object (added in version 0.14.0),\n",
      "              see below for description.\n",
      "    \n",
      "        If not given, chosen to be one of ``BFGS``, ``L-BFGS-B``, ``SLSQP``,\n",
      "        depending if the problem has constraints or bounds.\n",
      "    jac : bool or callable, optional\n",
      "        Jacobian (gradient) of objective function. Only for CG, BFGS,\n",
      "        Newton-CG, L-BFGS-B, TNC, SLSQP, dogleg, trust-ncg.\n",
      "        If `jac` is a Boolean and is True, `fun` is assumed to return the\n",
      "        gradient along with the objective function. If False, the\n",
      "        gradient will be estimated numerically.\n",
      "        `jac` can also be a callable returning the gradient of the\n",
      "        objective. In this case, it must accept the same arguments as `fun`.\n",
      "    hess, hessp : callable, optional\n",
      "        Hessian (matrix of second-order derivatives) of objective function or\n",
      "        Hessian of objective function times an arbitrary vector p.  Only for\n",
      "        Newton-CG, dogleg, trust-ncg.\n",
      "        Only one of `hessp` or `hess` needs to be given.  If `hess` is\n",
      "        provided, then `hessp` will be ignored.  If neither `hess` nor\n",
      "        `hessp` is provided, then the Hessian product will be approximated\n",
      "        using finite differences on `jac`. `hessp` must compute the Hessian\n",
      "        times an arbitrary vector.\n",
      "    bounds : sequence, optional\n",
      "        Bounds for variables (only for L-BFGS-B, TNC and SLSQP).\n",
      "        ``(min, max)`` pairs for each element in ``x``, defining\n",
      "        the bounds on that parameter. Use None for one of ``min`` or\n",
      "        ``max`` when there is no bound in that direction.\n",
      "    constraints : dict or sequence of dict, optional\n",
      "        Constraints definition (only for COBYLA and SLSQP).\n",
      "        Each constraint is defined in a dictionary with fields:\n",
      "    \n",
      "            type : str\n",
      "                Constraint type: 'eq' for equality, 'ineq' for inequality.\n",
      "            fun : callable\n",
      "                The function defining the constraint.\n",
      "            jac : callable, optional\n",
      "                The Jacobian of `fun` (only for SLSQP).\n",
      "            args : sequence, optional\n",
      "                Extra arguments to be passed to the function and Jacobian.\n",
      "    \n",
      "        Equality constraint means that the constraint function result is to\n",
      "        be zero whereas inequality means that it is to be non-negative.\n",
      "        Note that COBYLA only supports inequality constraints.\n",
      "    tol : float, optional\n",
      "        Tolerance for termination. For detailed control, use solver-specific\n",
      "        options.\n",
      "    options : dict, optional\n",
      "        A dictionary of solver options. All methods accept the following\n",
      "        generic options:\n",
      "    \n",
      "            maxiter : int\n",
      "                Maximum number of iterations to perform.\n",
      "            disp : bool\n",
      "                Set to True to print convergence messages.\n",
      "    \n",
      "        For method-specific options, see :func:`show_options()`.\n",
      "    callback : callable, optional\n",
      "        Called after each iteration, as ``callback(xk)``, where ``xk`` is the\n",
      "        current parameter vector.\n",
      "    \n",
      "    Returns\n",
      "    -------\n",
      "    res : OptimizeResult\n",
      "        The optimization result represented as a ``OptimizeResult`` object.\n",
      "        Important attributes are: ``x`` the solution array, ``success`` a\n",
      "        Boolean flag indicating if the optimizer exited successfully and\n",
      "        ``message`` which describes the cause of the termination. See\n",
      "        `OptimizeResult` for a description of other attributes.\n",
      "    \n",
      "    \n",
      "    See also\n",
      "    --------\n",
      "    minimize_scalar : Interface to minimization algorithms for scalar\n",
      "        univariate functions\n",
      "    show_options : Additional options accepted by the solvers\n",
      "    \n",
      "    Notes\n",
      "    -----\n",
      "    This section describes the available solvers that can be selected by the\n",
      "    'method' parameter. The default method is *BFGS*.\n",
      "    \n",
      "    **Unconstrained minimization**\n",
      "    \n",
      "    Method :ref:`Nelder-Mead <optimize.minimize-neldermead>` uses the\n",
      "    Simplex algorithm [1]_, [2]_. This algorithm is robust in many\n",
      "    applications. However, if numerical computation of derivative can be\n",
      "    trusted, other algorithms using the first and/or second derivatives\n",
      "    information might be preferred for their better performance in\n",
      "    general.\n",
      "    \n",
      "    Method :ref:`Powell <optimize.minimize-powell>` is a modification\n",
      "    of Powell's method [3]_, [4]_ which is a conjugate direction\n",
      "    method. It performs sequential one-dimensional minimizations along\n",
      "    each vector of the directions set (`direc` field in `options` and\n",
      "    `info`), which is updated at each iteration of the main\n",
      "    minimization loop. The function need not be differentiable, and no\n",
      "    derivatives are taken.\n",
      "    \n",
      "    Method :ref:`CG <optimize.minimize-cg>` uses a nonlinear conjugate\n",
      "    gradient algorithm by Polak and Ribiere, a variant of the\n",
      "    Fletcher-Reeves method described in [5]_ pp.  120-122. Only the\n",
      "    first derivatives are used.\n",
      "    \n",
      "    Method :ref:`BFGS <optimize.minimize-bfgs>` uses the quasi-Newton\n",
      "    method of Broyden, Fletcher, Goldfarb, and Shanno (BFGS) [5]_\n",
      "    pp. 136. It uses the first derivatives only. BFGS has proven good\n",
      "    performance even for non-smooth optimizations. This method also\n",
      "    returns an approximation of the Hessian inverse, stored as\n",
      "    `hess_inv` in the OptimizeResult object.\n",
      "    \n",
      "    Method :ref:`Newton-CG <optimize.minimize-newtoncg>` uses a\n",
      "    Newton-CG algorithm [5]_ pp. 168 (also known as the truncated\n",
      "    Newton method). It uses a CG method to the compute the search\n",
      "    direction. See also *TNC* method for a box-constrained\n",
      "    minimization with a similar algorithm.\n",
      "    \n",
      "    Method :ref:`dogleg <optimize.minimize-dogleg>` uses the dog-leg\n",
      "    trust-region algorithm [5]_ for unconstrained minimization. This\n",
      "    algorithm requires the gradient and Hessian; furthermore the\n",
      "    Hessian is required to be positive definite.\n",
      "    \n",
      "    Method :ref:`trust-ncg <optimize.minimize-trustncg>` uses the\n",
      "    Newton conjugate gradient trust-region algorithm [5]_ for\n",
      "    unconstrained minimization. This algorithm requires the gradient\n",
      "    and either the Hessian or a function that computes the product of\n",
      "    the Hessian with a given vector.\n",
      "    \n",
      "    **Constrained minimization**\n",
      "    \n",
      "    Method :ref:`L-BFGS-B <optimize.minimize-lbfgsb>` uses the L-BFGS-B\n",
      "    algorithm [6]_, [7]_ for bound constrained minimization.\n",
      "    \n",
      "    Method :ref:`TNC <optimize.minimize-tnc>` uses a truncated Newton\n",
      "    algorithm [5]_, [8]_ to minimize a function with variables subject\n",
      "    to bounds. This algorithm uses gradient information; it is also\n",
      "    called Newton Conjugate-Gradient. It differs from the *Newton-CG*\n",
      "    method described above as it wraps a C implementation and allows\n",
      "    each variable to be given upper and lower bounds.\n",
      "    \n",
      "    Method :ref:`COBYLA <optimize.minimize-cobyla>` uses the\n",
      "    Constrained Optimization BY Linear Approximation (COBYLA) method\n",
      "    [9]_, [10]_, [11]_. The algorithm is based on linear\n",
      "    approximations to the objective function and each constraint. The\n",
      "    method wraps a FORTRAN implementation of the algorithm. The\n",
      "    constraints functions 'fun' may return either a single number\n",
      "    or an array or list of numbers.\n",
      "    \n",
      "    Method :ref:`SLSQP <optimize.minimize-slsqp>` uses Sequential\n",
      "    Least SQuares Programming to minimize a function of several\n",
      "    variables with any combination of bounds, equality and inequality\n",
      "    constraints. The method wraps the SLSQP Optimization subroutine\n",
      "    originally implemented by Dieter Kraft [12]_. Note that the\n",
      "    wrapper handles infinite values in bounds by converting them into\n",
      "    large floating values.\n",
      "    \n",
      "    **Custom minimizers**\n",
      "    \n",
      "    It may be useful to pass a custom minimization method, for example\n",
      "    when using a frontend to this method such as `scipy.optimize.basinhopping`\n",
      "    or a different library.  You can simply pass a callable as the ``method``\n",
      "    parameter.\n",
      "    \n",
      "    The callable is called as ``method(fun, x0, args, **kwargs, **options)``\n",
      "    where ``kwargs`` corresponds to any other parameters passed to `minimize`\n",
      "    (such as `callback`, `hess`, etc.), except the `options` dict, which has\n",
      "    its contents also passed as `method` parameters pair by pair.  Also, if\n",
      "    `jac` has been passed as a bool type, `jac` and `fun` are mangled so that\n",
      "    `fun` returns just the function values and `jac` is converted to a function\n",
      "    returning the Jacobian.  The method shall return an ``OptimizeResult``\n",
      "    object.\n",
      "    \n",
      "    The provided `method` callable must be able to accept (and possibly ignore)\n",
      "    arbitrary parameters; the set of parameters accepted by `minimize` may\n",
      "    expand in future versions and then these parameters will be passed to\n",
      "    the method.  You can find an example in the scipy.optimize tutorial.\n",
      "    \n",
      "    .. versionadded:: 0.11.0\n",
      "    \n",
      "    References\n",
      "    ----------\n",
      "    .. [1] Nelder, J A, and R Mead. 1965. A Simplex Method for Function\n",
      "        Minimization. The Computer Journal 7: 308-13.\n",
      "    .. [2] Wright M H. 1996. Direct search methods: Once scorned, now\n",
      "        respectable, in Numerical Analysis 1995: Proceedings of the 1995\n",
      "        Dundee Biennial Conference in Numerical Analysis (Eds. D F\n",
      "        Griffiths and G A Watson). Addison Wesley Longman, Harlow, UK.\n",
      "        191-208.\n",
      "    .. [3] Powell, M J D. 1964. An efficient method for finding the minimum of\n",
      "       a function of several variables without calculating derivatives. The\n",
      "       Computer Journal 7: 155-162.\n",
      "    .. [4] Press W, S A Teukolsky, W T Vetterling and B P Flannery.\n",
      "       Numerical Recipes (any edition), Cambridge University Press.\n",
      "    .. [5] Nocedal, J, and S J Wright. 2006. Numerical Optimization.\n",
      "       Springer New York.\n",
      "    .. [6] Byrd, R H and P Lu and J. Nocedal. 1995. A Limited Memory\n",
      "       Algorithm for Bound Constrained Optimization. SIAM Journal on\n",
      "       Scientific and Statistical Computing 16 (5): 1190-1208.\n",
      "    .. [7] Zhu, C and R H Byrd and J Nocedal. 1997. L-BFGS-B: Algorithm\n",
      "       778: L-BFGS-B, FORTRAN routines for large scale bound constrained\n",
      "       optimization. ACM Transactions on Mathematical Software 23 (4):\n",
      "       550-560.\n",
      "    .. [8] Nash, S G. Newton-Type Minimization Via the Lanczos Method.\n",
      "       1984. SIAM Journal of Numerical Analysis 21: 770-778.\n",
      "    .. [9] Powell, M J D. A direct search optimization method that models\n",
      "       the objective and constraint functions by linear interpolation.\n",
      "       1994. Advances in Optimization and Numerical Analysis, eds. S. Gomez\n",
      "       and J-P Hennart, Kluwer Academic (Dordrecht), 51-67.\n",
      "    .. [10] Powell M J D. Direct search algorithms for optimization\n",
      "       calculations. 1998. Acta Numerica 7: 287-336.\n",
      "    .. [11] Powell M J D. A view of algorithms for optimization without\n",
      "       derivatives. 2007.Cambridge University Technical Report DAMTP\n",
      "       2007/NA03\n",
      "    .. [12] Kraft, D. A software package for sequential quadratic\n",
      "       programming. 1988. Tech. Rep. DFVLR-FB 88-28, DLR German Aerospace\n",
      "       Center -- Institute for Flight Mechanics, Koln, Germany.\n",
      "    \n",
      "    Examples\n",
      "    --------\n",
      "    Let us consider the problem of minimizing the Rosenbrock function. This\n",
      "    function (and its respective derivatives) is implemented in `rosen`\n",
      "    (resp. `rosen_der`, `rosen_hess`) in the `scipy.optimize`.\n",
      "    \n",
      "    >>> from scipy.optimize import minimize, rosen, rosen_der\n",
      "    \n",
      "    A simple application of the *Nelder-Mead* method is:\n",
      "    \n",
      "    >>> x0 = [1.3, 0.7, 0.8, 1.9, 1.2]\n",
      "    >>> res = minimize(rosen, x0, method='Nelder-Mead', tol=1e-6)\n",
      "    >>> res.x\n",
      "    array([ 1.,  1.,  1.,  1.,  1.])\n",
      "    \n",
      "    Now using the *BFGS* algorithm, using the first derivative and a few\n",
      "    options:\n",
      "    \n",
      "    >>> res = minimize(rosen, x0, method='BFGS', jac=rosen_der,\n",
      "    ...                options={'gtol': 1e-6, 'disp': True})\n",
      "    Optimization terminated successfully.\n",
      "             Current function value: 0.000000\n",
      "             Iterations: 52\n",
      "             Function evaluations: 64\n",
      "             Gradient evaluations: 64\n",
      "    >>> res.x\n",
      "    array([ 1.,  1.,  1.,  1.,  1.])\n",
      "    >>> print(res.message)\n",
      "    Optimization terminated successfully.\n",
      "    >>> res.hess_inv\n",
      "    array([[ 0.00749589,  0.01255155,  0.02396251,  0.04750988,  0.09495377],  # may vary\n",
      "           [ 0.01255155,  0.02510441,  0.04794055,  0.09502834,  0.18996269],\n",
      "           [ 0.02396251,  0.04794055,  0.09631614,  0.19092151,  0.38165151],\n",
      "           [ 0.04750988,  0.09502834,  0.19092151,  0.38341252,  0.7664427 ],\n",
      "           [ 0.09495377,  0.18996269,  0.38165151,  0.7664427,   1.53713523]])\n",
      "    \n",
      "    \n",
      "    Next, consider a minimization problem with several constraints (namely\n",
      "    Example 16.4 from [5]_). The objective function is:\n",
      "    \n",
      "    >>> fun = lambda x: (x[0] - 1)**2 + (x[1] - 2.5)**2\n",
      "    \n",
      "    There are three constraints defined as:\n",
      "    \n",
      "    >>> cons = ({'type': 'ineq', 'fun': lambda x:  x[0] - 2 * x[1] + 2},\n",
      "    ...         {'type': 'ineq', 'fun': lambda x: -x[0] - 2 * x[1] + 6},\n",
      "    ...         {'type': 'ineq', 'fun': lambda x: -x[0] + 2 * x[1] + 2})\n",
      "    \n",
      "    And variables must be positive, hence the following bounds:\n",
      "    \n",
      "    >>> bnds = ((0, None), (0, None))\n",
      "    \n",
      "    The optimization problem is solved using the SLSQP method as:\n",
      "    \n",
      "    >>> res = minimize(fun, (2, 0), method='SLSQP', bounds=bnds,\n",
      "    ...                constraints=cons)\n",
      "    \n",
      "    It should converge to the theoretical solution (1.4 ,1.7).\n",
      "\n"
     ]
    }
   ],
   "source": [
    "help(scipy.optimize.minimize)"
   ]
  },
  {
   "cell_type": "markdown",
   "metadata": {},
   "source": [
    "or use the Least-square fitting (leastsq) function that   the fit concistes in miminizing the sum of squares of this fucntions (no need to create the sum of square).\n",
    "\"leastsq\" is a wrapper around MINPACK's lmdif and lmder algorithms (Fortran, Levenberg-Marquardt method)"
   ]
  },
  {
   "cell_type": "code",
   "execution_count": 29,
   "metadata": {
    "collapsed": false
   },
   "outputs": [],
   "source": [
    "from numpy import arange, sin, pi, random, array\n",
    "x = arange(0, 6e-2, 6e-2 / 30)\n",
    "A, k, theta = 10, 1.0 / 3e-2, pi / 6\n",
    "y_true = A * sin(2 * pi * k * x + theta)\n",
    "y_meas = y_true + 2*random.randn(len(x))\n",
    "error=2\n",
    "\n",
    "def residuals(p, y, x, errors):\n",
    "    A,k,theta = p\n",
    "    return (y - A*sin(2*pi*k*x+theta))/errors\n",
    "    #return (y - A*sin(2*pi*k*x+theta))\n"
   ]
  },
  {
   "cell_type": "code",
   "execution_count": 30,
   "metadata": {
    "collapsed": false
   },
   "outputs": [],
   "source": [
    "p0 = [8, 1 / 4e-2, pi/5]\n",
    "plsq = scipy.optimize.leastsq(residuals, p0, args=(y_meas, x, error))"
   ]
  },
  {
   "cell_type": "code",
   "execution_count": 32,
   "metadata": {
    "collapsed": false
   },
   "outputs": [
    {
     "name": "stdout",
     "output_type": "stream",
     "text": [
      "[  9.8035491   33.62815374   0.44515812]\n"
     ]
    }
   ],
   "source": [
    "print(plsq[0])"
   ]
  },
  {
   "cell_type": "code",
   "execution_count": 33,
   "metadata": {
    "collapsed": false
   },
   "outputs": [
    {
     "data": {
      "image/png": "[encoded data removed]",
      "text/plain": [
       "<matplotlib.figure.Figure at 0x10d6d2828>"
      ]
     },
     "metadata": {},
     "output_type": "display_data"
    }
   ],
   "source": [
    "%matplotlib inline\n",
    "\n",
    "import matplotlib.pyplot as plt\n",
    "def peval(x, p):\n",
    "    return p[0] * sin(2 * pi * p[1] * x + p[2])\n",
    "plt.errorbar(x,y_meas,yerr=error,fmt='o')\n",
    "plt.plot(x, peval(x, plsq[0]),x,y_true)\n",
    "plt.title('Least-squares fit to noisy data')\n",
    "plt.legend(['Data', 'Fit', 'True'])\n",
    "plt.show()"
   ]
  },
  {
   "cell_type": "markdown",
   "metadata": {
    "collapsed": false
   },
   "source": [
    "## Fit using Minuit"
   ]
  },
  {
   "cell_type": "markdown",
   "metadata": {},
   "source": [
    "Variable metric method through iminuit (no analytic gradient input in iminuit, see Minuit2 in pyROOT)"
   ]
  },
  {
   "cell_type": "markdown",
   "metadata": {},
   "source": [
    "may need to run:\n",
    "\n",
    "```sh\n",
    "conda install iminuit\n",
    "\n",
    "(conda config --add channels astropy) if that doesn't work\n",
    "\n",
    "\n",
    "```"
   ]
  },
  {
   "cell_type": "code",
   "execution_count": 34,
   "metadata": {
    "collapsed": false
   },
   "outputs": [],
   "source": [
    "import iminuit\n",
    "\n",
    "x = arange(0, 6e-2, 6e-2 / 30)\n",
    "A, k, theta = 10, 1.0 / 3e-2, pi / 6\n",
    "y_true = A * sin(2 * pi * k * x + theta)\n",
    "y_meas = y_true + 2*random.randn(len(x))\n",
    "error=2\n",
    "\n",
    "\n",
    "def residual(amp,freq,pshift):\n",
    "    model = amp * sin(2 * pi * freq *x  + pshift) \n",
    "    diff=(y_meas-model)/error\n",
    "    return (diff**2).sum()"
   ]
  },
  {
   "cell_type": "code",
   "execution_count": 35,
   "metadata": {
    "collapsed": false
   },
   "outputs": [
    {
     "name": "stderr",
     "output_type": "stream",
     "text": [
      "/Users/kosack/anaconda/lib/python3.5/site-packages/ipykernel/__main__.py:5: InitialParamWarning: errordef is not given. Default to 1.\n"
     ]
    },
    {
     "data": {
      "text/html": [
       "<hr>"
      ]
     },
     "metadata": {},
     "output_type": "display_data"
    },
    {
     "data": {
      "text/html": [
       "\n",
       "        <table>\n",
       "            <tr>\n",
       "                <td title=\"Minimum value of function\">FCN = 414.84888292534924</td>\n",
       "                <td title=\"Total number of call to FCN so far\">TOTAL NCALL = 177</td>\n",
       "                <td title=\"Number of call in last migrad\">NCALLS = 177</td>\n",
       "            </tr>\n",
       "            <tr>\n",
       "                <td title=\"Estimated distance to minimum\">EDM = 3.747770733191456e-06</td>\n",
       "                <td title=\"Maximum EDM definition of convergence\">GOAL EDM = 1e-05</td>\n",
       "                <td title=\"Error def. Amount of increase in FCN to be defined as 1 standard deviation\">\n",
       "                UP = 1.0</td>\n",
       "            </tr>\n",
       "        </table>\n",
       "        \n",
       "        <table>\n",
       "            <tr>\n",
       "                <td align=\"center\" title=\"Validity of the migrad call\">Valid</td>\n",
       "                <td align=\"center\" title=\"Validity of parameters\">Valid Param</td>\n",
       "                <td align=\"center\" title=\"Is Covariance matrix accurate?\">Accurate Covar</td>\n",
       "                <td align=\"center\" title=\"Positive definiteness of covariance matrix\">PosDef</td>\n",
       "                <td align=\"center\" title=\"Was covariance matrix made posdef by adding diagonal element\">Made PosDef</td>\n",
       "            </tr>\n",
       "            <tr>\n",
       "                <td align=\"center\" style=\"background-color:#92CCA6\">True</td>\n",
       "                <td align=\"center\" style=\"background-color:#92CCA6\">True</td>\n",
       "                <td align=\"center\" style=\"background-color:#92CCA6\">True</td>\n",
       "                <td align=\"center\" style=\"background-color:#92CCA6\">True</td>\n",
       "                <td align=\"center\" style=\"background-color:#92CCA6\">False</td>\n",
       "            </tr>\n",
       "            <tr>\n",
       "                <td align=\"center\" title=\"Was last hesse call fail?\">Hesse Fail</td>\n",
       "                <td align=\"center\" title=\"Validity of covariance\">HasCov</td>\n",
       "                <td align=\"center\" title=\"Is EDM above goal EDM?\">Above EDM</td>\n",
       "                <td align=\"center\"></td>\n",
       "                <td align=\"center\" title=\"Did last migrad call reach max call limit?\">Reach calllim</td>\n",
       "            </tr>\n",
       "            <tr>\n",
       "                <td align=\"center\" style=\"background-color:#92CCA6\">False</td>\n",
       "                <td align=\"center\" style=\"background-color:#92CCA6\">True</td>\n",
       "                <td align=\"center\" style=\"background-color:#92CCA6\">False</td>\n",
       "                <td align=\"center\"></td>\n",
       "                <td align=\"center\" style=\"background-color:#92CCA6\">False</td>\n",
       "            </tr>\n",
       "        </table>\n",
       "        "
      ]
     },
     "metadata": {},
     "output_type": "display_data"
    },
    {
     "data": {
      "text/html": [
       "\n",
       "        <table>\n",
       "            <tr>\n",
       "                <td><a href=\"#\" onclick=\"$('#xZMbfkuTRV').toggle()\">+</a></td>\n",
       "                <td title=\"Variable name\">Name</td>\n",
       "                <td title=\"Value of parameter\">Value</td>\n",
       "                <td title=\"Parabolic error\">Parab Error</td>\n",
       "                <td title=\"Minos lower error\">Minos Error-</td>\n",
       "                <td title=\"Minos upper error\">Minos Error+</td>\n",
       "                <td title=\"Lower limit of the parameter\">Limit-</td>\n",
       "                <td title=\"Upper limit of the parameter\">Limit+</td>\n",
       "                <td title=\"Is the parameter fixed in the fit\">FIXED</td>\n",
       "            </tr>\n",
       "        \n",
       "            <tr>\n",
       "                <td>1</td>\n",
       "                <td>amp</td>\n",
       "                <td>1.59363</td>\n",
       "                <td>0.528173</td>\n",
       "                <td>0</td>\n",
       "                <td>0</td>\n",
       "                <td></td>\n",
       "                <td></td>\n",
       "                <td></td>\n",
       "            </tr>\n",
       "            \n",
       "            <tr>\n",
       "                <td>2</td>\n",
       "                <td>freq</td>\n",
       "                <td>60.7999</td>\n",
       "                <td>5.99529</td>\n",
       "                <td>0</td>\n",
       "                <td>0</td>\n",
       "                <td></td>\n",
       "                <td></td>\n",
       "                <td></td>\n",
       "            </tr>\n",
       "            \n",
       "            <tr>\n",
       "                <td>3</td>\n",
       "                <td>pshift</td>\n",
       "                <td>0.00318682</td>\n",
       "                <td>0.475432</td>\n",
       "                <td>0</td>\n",
       "                <td>0</td>\n",
       "                <td></td>\n",
       "                <td></td>\n",
       "                <td></td>\n",
       "            </tr>\n",
       "            \n",
       "            </table>\n",
       "        \n",
       "            <pre id=\"xZMbfkuTRV\" style=\"display:none;\">\n",
       "            <textarea rows=\"12\" cols=\"50\" onclick=\"this.select()\" readonly>\\begin{tabular}{|c|r|r|r|r|r|r|r|c|}\n",
       "\\hline\n",
       " & Name & Value & Para Error & Error+ & Error- & Limit+ & Limit- & FIXED\\\\\n",
       "\\hline\n",
       "1 & amp & 1.594e+00 & 5.282e-01 &  &  &  &  & \\\\\n",
       "\\hline\n",
       "2 & freq & 6.080e+01 & 5.995e+00 &  &  &  &  & \\\\\n",
       "\\hline\n",
       "3 & pshift & 3.187e-03 & 4.754e-01 &  &  &  &  & \\\\\n",
       "\\hline\n",
       "\\end{tabular}</textarea>\n",
       "            </pre>\n",
       "            "
      ]
     },
     "metadata": {},
     "output_type": "display_data"
    },
    {
     "data": {
      "text/html": [
       "<hr>"
      ]
     },
     "metadata": {},
     "output_type": "display_data"
    }
   ],
   "source": [
    "#from iminuit.util import describe\n",
    "#from iminuit import Minuit\n",
    "\n",
    "iminuit.util.describe(residual)\n",
    "m = iminuit.Minuit(residual, amp=8., freq=1./2e-2, pshift=pi/5., error_amp=1., error_freq=1., error_pshift=.1)\n",
    "m.set_strategy(1)\n",
    "tmp=m.migrad()"
   ]
  },
  {
   "cell_type": "code",
   "execution_count": 39,
   "metadata": {
    "collapsed": false
   },
   "outputs": [
    {
     "data": {
      "text/plain": [
       "{'amp': 1.5936280950770432,\n",
       " 'freq': 60.79994298429996,\n",
       " 'pshift': 0.0031868175189239357}"
      ]
     },
     "execution_count": 39,
     "metadata": {},
     "output_type": "execute_result"
    }
   ],
   "source": [
    "m.values"
   ]
  },
  {
   "cell_type": "code",
   "execution_count": 40,
   "metadata": {
    "collapsed": false
   },
   "outputs": [
    {
     "data": {
      "image/png": "[encoded data removed]",
      "text/plain": [
       "<matplotlib.figure.Figure at 0x10ea48cc0>"
      ]
     },
     "metadata": {},
     "output_type": "display_data"
    }
   ],
   "source": [
    "import matplotlib.pyplot as plt\n",
    "def peval(x, p):\n",
    "    return p[0] * sin(2 * pi * p[1] * x + p[2])\n",
    "plt.errorbar(x,y_meas,yerr=error,fmt='o')\n",
    "plt.plot(x, peval(x, list(m.values.values())),x,y_true)\n",
    "plt.title('Least-squares fit to noisy data')\n",
    "plt.legend(['Data', 'Fit', 'True'])\n",
    "plt.show()\n"
   ]
  },
  {
   "cell_type": "code",
   "execution_count": 41,
   "metadata": {
    "collapsed": false
   },
   "outputs": [
    {
     "name": "stderr",
     "output_type": "stream",
     "text": [
      "/Users/kosack/anaconda/lib/python3.5/site-packages/iminuit/_plotting.py:88: RuntimeWarning: Fail mncontour for amp, freq, sigma=3.033333\n",
      "  warnings.warn(RuntimeWarning('Fail mncontour for %s, %s, sigma=%f' % (x, y, this_sig)))\n",
      "/Users/kosack/anaconda/lib/python3.5/site-packages/iminuit/_plotting.py:88: RuntimeWarning: Fail mncontour for amp, freq, sigma=3.326667\n",
      "  warnings.warn(RuntimeWarning('Fail mncontour for %s, %s, sigma=%f' % (x, y, this_sig)))\n",
      "/Users/kosack/anaconda/lib/python3.5/site-packages/iminuit/_plotting.py:88: RuntimeWarning: Fail mncontour for amp, freq, sigma=3.620000\n",
      "  warnings.warn(RuntimeWarning('Fail mncontour for %s, %s, sigma=%f' % (x, y, this_sig)))\n",
      "/Users/kosack/anaconda/lib/python3.5/site-packages/iminuit/_plotting.py:88: RuntimeWarning: Fail mncontour for amp, freq, sigma=3.913333\n",
      "  warnings.warn(RuntimeWarning('Fail mncontour for %s, %s, sigma=%f' % (x, y, this_sig)))\n",
      "/Users/kosack/anaconda/lib/python3.5/site-packages/iminuit/_plotting.py:88: RuntimeWarning: Fail mncontour for amp, freq, sigma=4.206667\n",
      "  warnings.warn(RuntimeWarning('Fail mncontour for %s, %s, sigma=%f' % (x, y, this_sig)))\n",
      "/Users/kosack/anaconda/lib/python3.5/site-packages/iminuit/_plotting.py:88: RuntimeWarning: Fail mncontour for amp, freq, sigma=4.500000\n",
      "  warnings.warn(RuntimeWarning('Fail mncontour for %s, %s, sigma=%f' % (x, y, this_sig)))\n"
     ]
    },
    {
     "data": {
      "image/png": "[encoded data removed]",
      "text/plain": [
       "<matplotlib.figure.Figure at 0x10eaf8cf8>"
      ]
     },
     "metadata": {},
     "output_type": "display_data"
    }
   ],
   "source": [
    "tmp=m.draw_mncontour('amp','freq', nsigma=4);"
   ]
  },
  {
   "cell_type": "markdown",
   "metadata": {},
   "source": [
    "## Interpolation"
   ]
  },
  {
   "cell_type": "markdown",
   "metadata": {},
   "source": [
    "Interpolation is simple and convenient in scipy: The `interp1d` function, when given arrays describing X and Y data, returns and object that behaves like a function that can be called for an arbitrary value of x (in the range covered by X), and it returns the corresponding interpolated y value:"
   ]
  },
  {
   "cell_type": "code",
   "execution_count": 46,
   "metadata": {
    "collapsed": false
   },
   "outputs": [],
   "source": [
    "import scipy.interpolate\n",
    "import numpy as np"
   ]
  },
  {
   "cell_type": "code",
   "execution_count": 47,
   "metadata": {
    "collapsed": false
   },
   "outputs": [],
   "source": [
    "def f(x):\n",
    "    return numpy.sin(x)"
   ]
  },
  {
   "cell_type": "code",
   "execution_count": 50,
   "metadata": {
    "collapsed": false
   },
   "outputs": [],
   "source": [
    "n = np.arange(0, 10)  # for data points\n",
    "x = np.linspace(0, 9, 100)  # for smooth functions\n",
    "\n",
    "y_meas = f(n) + 0.1 * np.random.randn(len(n)) # simulate measurement with noise\n",
    "y_real = f(x)\n",
    "\n",
    "linear_interpolation = scipy.interpolate.interp1d(n, y_meas)\n",
    "y_interp1 = linear_interpolation(x)\n",
    "\n",
    "cubic_interpolation = scipy.interpolate.interp1d(n, y_meas, kind='cubic')\n",
    "y_interp2 = cubic_interpolation(x)"
   ]
  },
  {
   "cell_type": "code",
   "execution_count": 52,
   "metadata": {
    "collapsed": false
   },
   "outputs": [
    {
     "data": {
      "image/png": "[encoded data removed]",
      "text/plain": [
       "<matplotlib.figure.Figure at 0x10f0f89e8>"
      ]
     },
     "metadata": {},
     "output_type": "display_data"
    }
   ],
   "source": [
    "fig, ax = plt.subplots(figsize=(10,4))\n",
    "ax.plot(n, y_meas, 'bs', label='noisy data')\n",
    "ax.plot(x, y_real, 'k', lw=2, label='true function')\n",
    "ax.plot(x, y_interp1, 'r', label='linear interp')\n",
    "ax.plot(x, y_interp2, 'g', label='cubic interp')\n",
    "ax.legend(loc=3);"
   ]
  },
  {
   "cell_type": "markdown",
   "metadata": {},
   "source": [
    "## Statistics"
   ]
  },
  {
   "cell_type": "markdown",
   "metadata": {},
   "source": [
    "The `scipy.stats` module contains a large number of statistical distributions, statistical functions and tests. For a complete documentation of its features, see http://docs.scipy.org/doc/scipy/reference/stats.html.\n",
    "\n",
    "There is also a very powerful python package for statistical modelling called statsmodels. See http://statsmodels.sourceforge.net for more details."
   ]
  },
  {
   "cell_type": "code",
   "execution_count": 53,
   "metadata": {
    "collapsed": false
   },
   "outputs": [],
   "source": [
    "import scipy.stats"
   ]
  },
  {
   "cell_type": "code",
   "execution_count": 54,
   "metadata": {
    "collapsed": false
   },
   "outputs": [],
   "source": [
    "# create a (discreet) random variable with poissionian distribution\n",
    "\n",
    "X = scipy.stats.poisson(3.5) # photon distribution for a coherent state with n=3.5 photons"
   ]
  },
  {
   "cell_type": "code",
   "execution_count": 56,
   "metadata": {
    "collapsed": false
   },
   "outputs": [
    {
     "data": {
      "image/png": "[encoded data removed]",
      "text/plain": [
       "<matplotlib.figure.Figure at 0x10f7a66d8>"
      ]
     },
     "metadata": {},
     "output_type": "display_data"
    }
   ],
   "source": [
    "n = arange(0,15)\n",
    "\n",
    "fig, axes = plt.subplots(3,1, sharex=True)\n",
    "\n",
    "# plot the probability mass function (PMF)\n",
    "axes[0].step(n, X.pmf(n))\n",
    "\n",
    "# plot the commulative distribution function (CDF)\n",
    "axes[1].step(n, X.cdf(n))\n",
    "\n",
    "# plot histogram of 1000 random realizations of the stochastic variable X\n",
    "axes[2].hist(X.rvs(size=1000));"
   ]
  },
  {
   "cell_type": "code",
   "execution_count": 57,
   "metadata": {
    "collapsed": false
   },
   "outputs": [],
   "source": [
    "# create a (continous) random variable with normal distribution\n",
    "Y = scipy.stats.norm()"
   ]
  },
  {
   "cell_type": "code",
   "execution_count": 60,
   "metadata": {
    "collapsed": false
   },
   "outputs": [
    {
     "data": {
      "image/png": "[encoded data removed]",
      "text/plain": [
       "<matplotlib.figure.Figure at 0x10eb2efd0>"
      ]
     },
     "metadata": {},
     "output_type": "display_data"
    }
   ],
   "source": [
    "x = np.linspace(-5,5,100)\n",
    "\n",
    "fig, axes = plt.subplots(3,1, sharex=True)\n",
    "\n",
    "# plot the probability distribution function (PDF)\n",
    "axes[0].plot(x, Y.pdf(x))\n",
    "\n",
    "# plot the commulative distributin function (CDF)\n",
    "axes[1].plot(x, Y.cdf(x));\n",
    "\n",
    "# plot histogram of 1000 random realizations of the stochastic variable Y\n",
    "axes[2].hist(Y.rvs(size=1000), bins=50);"
   ]
  },
  {
   "cell_type": "markdown",
   "metadata": {},
   "source": [
    "Statistics:"
   ]
  },
  {
   "cell_type": "code",
   "execution_count": 61,
   "metadata": {
    "collapsed": false
   },
   "outputs": [
    {
     "data": {
      "text/plain": [
       "(3.5, 1.8708286933869707, 3.5)"
      ]
     },
     "execution_count": 61,
     "metadata": {},
     "output_type": "execute_result"
    }
   ],
   "source": [
    "X.mean(), X.std(), X.var() # poission distribution"
   ]
  },
  {
   "cell_type": "code",
   "execution_count": 62,
   "metadata": {
    "collapsed": false
   },
   "outputs": [
    {
     "data": {
      "text/plain": [
       "(0.0, 1.0, 1.0)"
      ]
     },
     "execution_count": 62,
     "metadata": {},
     "output_type": "execute_result"
    }
   ],
   "source": [
    "Y.mean(), Y.std(), Y.var() # normal distribution"
   ]
  },
  {
   "cell_type": "markdown",
   "metadata": {},
   "source": [
    "## Signal Processing\n",
    "\n",
    "http://docs.scipy.org/doc/scipy/reference/signal.html\n",
    "\n",
    "`scipy.signal` has many functions for doing signal processing on N-D arrays.\n",
    "\n",
    "* **convolutions** : `signal.convolve` and `signal.fftconvolve`, `signal.convolve2d`...\n",
    "* **interpolation**: \n",
    "* **filtering /smoothing** (boxcar, hanning, hemming, gaussian, wiener)\n",
    "* **wavelets**\n",
    "* **peak detection**\n",
    "* **spectral analysis** (Lomb-Scargle, Periodograms, etc)\n"
   ]
  },
  {
   "cell_type": "code",
   "execution_count": 64,
   "metadata": {
    "collapsed": true
   },
   "outputs": [],
   "source": [
    "from scipy import signal\n"
   ]
  },
  {
   "cell_type": "code",
   "execution_count": 109,
   "metadata": {
    "collapsed": false
   },
   "outputs": [
    {
     "data": {
      "text/plain": [
       "[<matplotlib.lines.Line2D at 0x121715c50>]"
      ]
     },
     "execution_count": 109,
     "metadata": {},
     "output_type": "execute_result"
    },
    {
     "data": {
      "image/png": "[encoded data removed]",
      "text/plain": [
       "<matplotlib.figure.Figure at 0x11a536f98>"
      ]
     },
     "metadata": {},
     "output_type": "display_data"
    }
   ],
   "source": [
    "X = np.linspace(0,10,1000)\n",
    "R = np.sin(X*15) + np.sin(X*4) + np.sin(X*10)\n",
    "R += 5*np.random.uniform(size=1000)\n",
    "plt.plot(R)"
   ]
  },
  {
   "cell_type": "code",
   "execution_count": 113,
   "metadata": {
    "collapsed": false
   },
   "outputs": [
    {
     "data": {
      "text/plain": [
       "[<matplotlib.lines.Line2D at 0x1239be128>]"
      ]
     },
     "execution_count": 113,
     "metadata": {},
     "output_type": "execute_result"
    },
    {
     "data": {
      "image/png": "[encoded data removed]",
      "text/plain": [
       "<matplotlib.figure.Figure at 0x123990278>"
      ]
     },
     "metadata": {},
     "output_type": "display_data"
    }
   ],
   "source": [
    "plt.plot(X,signal.wiener(R))"
   ]
  },
  {
   "cell_type": "code",
   "execution_count": 127,
   "metadata": {
    "collapsed": false
   },
   "outputs": [
    {
     "data": {
      "text/plain": [
       "[<matplotlib.lines.Line2D at 0x119eafe10>]"
      ]
     },
     "execution_count": 127,
     "metadata": {},
     "output_type": "execute_result"
    },
    {
     "data": {
      "image/png": "[encoded data removed]",
      "text/plain": [
       "<matplotlib.figure.Figure at 0x123cdbf60>"
      ]
     },
     "metadata": {},
     "output_type": "display_data"
    }
   ],
   "source": [
    "kernel = signal.boxcar(100)\n",
    "c = signal.convolve(R, kernel, mode='same')\n",
    "plt.plot(X,c)"
   ]
  },
  {
   "cell_type": "markdown",
   "metadata": {},
   "source": [
    "# Exercise"
   ]
  },
  {
   "cell_type": "markdown",
   "metadata": {
    "collapsed": false
   },
   "source": [
    "- Use `scipy.stats` to make a 2D array that is a model of some astropysical source (e.g. a gaussian), where the values are the expectation values (in counts) for the source\n",
    "- on one line, poisson-sample this distribution. "
   ]
  },
  {
   "cell_type": "code",
   "execution_count": null,
   "metadata": {
    "collapsed": true
   },
   "outputs": [],
   "source": []
  }
 ],
 "metadata": {
  "kernelspec": {
   "display_name": "Python 3",
   "language": "python",
   "name": "python3"
  },
  "language_info": {
   "codemirror_mode": {
    "name": "ipython",
    "version": 3
   },
   "file_extension": ".py",
   "mimetype": "text/x-python",
   "name": "python",
   "nbconvert_exporter": "python",
   "pygments_lexer": "ipython3",
   "version": "3.5.1"
  }
 },
 "nbformat": 4,
 "nbformat_minor": 0
}
