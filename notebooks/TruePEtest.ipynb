{
 "cells": [
  {
   "cell_type": "code",
   "execution_count": null,
   "metadata": {
    "collapsed": false
   },
   "outputs": [],
   "source": [
    "import pyhessio"
   ]
  },
  {
   "cell_type": "code",
   "execution_count": 1,
   "metadata": {
    "collapsed": true
   },
   "outputs": [],
   "source": [
    "from ctapipe.utils.datasets import get_path\n",
    "from ctapipe.io.hessio import hessio_event_source\n",
    "from ctapipe import visualization, io\n",
    "from matplotlib import pyplot as plt\n",
    "from astropy import units as u\n",
    "from ctapipe.visualization import CameraDisplay\n",
    "from ctapipe.io import CameraGeometry\n",
    "import numpy as np\n",
    "import math\n",
    "%matplotlib inline"
   ]
  },
  {
   "cell_type": "code",
   "execution_count": 2,
   "metadata": {
    "collapsed": true
   },
   "outputs": [],
   "source": [
    "source = hessio_event_source(get_path(\"/Users/Jason/Software/outputs/sim_telarray/meudon_gamma/simtel_runmeudon_gamma_30tel_30deg_1.gz\"), max_events=100)"
   ]
  },
  {
   "cell_type": "code",
   "execution_count": 22,
   "metadata": {
    "collapsed": false
   },
   "outputs": [
    {
     "name": "stderr",
     "output_type": "stream",
     "text": [
      "WARNING: ErfaWarning: ERFA function \"taiutc\" yielded 1 of \"dubious year (Note 4)\" [astropy._erfa.core]\n"
     ]
    },
    {
     "data": {
      "text/plain": [
       "[24, 25, 18, 30]"
      ]
     },
     "execution_count": 22,
     "metadata": {},
     "output_type": "execute_result"
    }
   ],
   "source": [
    "event = next(source)\n",
    "tels = list(event.dl0.tels_with_data)\n",
    "tels"
   ]
  },
  {
   "cell_type": "code",
   "execution_count": 23,
   "metadata": {
    "collapsed": false
   },
   "outputs": [
    {
     "data": {
      "text/plain": [
       "406"
      ]
     },
     "execution_count": 23,
     "metadata": {},
     "output_type": "execute_result"
    }
   ],
   "source": [
    "event.dl0.event_id"
   ]
  },
  {
   "cell_type": "code",
   "execution_count": 24,
   "metadata": {
    "collapsed": false
   },
   "outputs": [],
   "source": [
    "teldata = event.dl0.tel[tels[0]]\n",
    "img = teldata.adc_samples[0]\n",
    "maxpix = np.unravel_index(np.argmax(img),img.shape)\n",
    "maxT = maxpix[1]"
   ]
  },
  {
   "cell_type": "code",
   "execution_count": 25,
   "metadata": {
    "collapsed": false
   },
   "outputs": [
    {
     "data": {
      "text/plain": [
       "array([[41, 42, 40, ..., 36, 39, 35],\n",
       "       [37, 34, 33, ..., 42, 40, 43],\n",
       "       [29, 25, 25, ..., 37, 40, 33],\n",
       "       ..., \n",
       "       [37, 42, 42, ..., 33, 27, 34],\n",
       "       [32, 36, 36, ..., 36, 39, 34],\n",
       "       [30, 31, 31, ..., 45, 44, 40]], dtype=uint16)"
      ]
     },
     "execution_count": 25,
     "metadata": {},
     "output_type": "execute_result"
    }
   ],
   "source": [
    "img"
   ]
  },
  {
   "cell_type": "code",
   "execution_count": 26,
   "metadata": {
    "collapsed": false
   },
   "outputs": [
    {
     "name": "stdout",
     "output_type": "stream",
     "text": [
      "MCEvent:\n",
      "energy:   3.1 TeV\n",
      "altitude: 1.0 rad\n",
      "azimuth:  6.3 rad\n",
      "core x:   -96.56 m\n",
      "core y:   -365.4 m\n",
      "total photo_electrons: 110\n"
     ]
    }
   ],
   "source": [
    "print(event.mc)"
   ]
  },
  {
   "cell_type": "code",
   "execution_count": 27,
   "metadata": {
    "collapsed": false
   },
   "outputs": [
    {
     "ename": "KeyError",
     "evalue": "2",
     "output_type": "error",
     "traceback": [
      "\u001b[0;31m---------------------------------------------------------------------------\u001b[0m",
      "\u001b[0;31mKeyError\u001b[0m                                  Traceback (most recent call last)",
      "\u001b[0;32m<ipython-input-27-d7fc13c166a6>\u001b[0m in \u001b[0;36m<module>\u001b[0;34m()\u001b[0m\n\u001b[1;32m      1\u001b[0m \u001b[0mevent\u001b[0m\u001b[0;34m.\u001b[0m\u001b[0mmc\u001b[0m\u001b[0;34m.\u001b[0m\u001b[0mtel\u001b[0m\u001b[0;34m\u001b[0m\u001b[0m\n\u001b[0;32m----> 2\u001b[0;31m \u001b[0mevent\u001b[0m\u001b[0;34m.\u001b[0m\u001b[0mdl0\u001b[0m\u001b[0;34m.\u001b[0m\u001b[0mtel\u001b[0m\u001b[0;34m[\u001b[0m\u001b[0;36m2\u001b[0m\u001b[0;34m]\u001b[0m\u001b[0;34m.\u001b[0m\u001b[0madc_samples\u001b[0m\u001b[0;34m[\u001b[0m\u001b[0;36m0\u001b[0m\u001b[0;34m]\u001b[0m\u001b[0;34m.\u001b[0m\u001b[0mshape\u001b[0m\u001b[0;34m\u001b[0m\u001b[0m\n\u001b[0m",
      "\u001b[0;31mKeyError\u001b[0m: 2"
     ]
    }
   ],
   "source": [
    "event.mc.tel\n",
    "event.dl0.tel[2].adc_samples[0].shape"
   ]
  },
  {
   "cell_type": "code",
   "execution_count": 28,
   "metadata": {
    "collapsed": false
   },
   "outputs": [
    {
     "name": "stdout",
     "output_type": "stream",
     "text": [
      "110\n"
     ]
    }
   ],
   "source": [
    "npix = 0\n",
    "npix = np.sum([np.sum(t.photo_electrons > 0) for t in event.mc.tel.values()])\n",
    "#for t in event.mc.tel.values():\n",
    " #   npix += np.sum(t.photo_electrons > 0)\n",
    "print(npix)"
   ]
  },
  {
   "cell_type": "code",
   "execution_count": 29,
   "metadata": {
    "collapsed": false
   },
   "outputs": [],
   "source": [
    "\"\"\"\n",
    "b = event.mcevent.tel[tels[0]].pe_count\n",
    "N = max(b)+1\n",
    "Qt = np.zeros(N)\n",
    "for key in b:\n",
    "    Qt[key] = b[key]\n",
    "    \"\"\"\n",
    "Qt = event.mc.tel[tels[0]].photo_electrons"
   ]
  },
  {
   "cell_type": "code",
   "execution_count": 30,
   "metadata": {
    "collapsed": false
   },
   "outputs": [
    {
     "data": {
      "text/plain": [
       "28"
      ]
     },
     "execution_count": 30,
     "metadata": {},
     "output_type": "execute_result"
    }
   ],
   "source": [
    "np.sum(Qt > 0)"
   ]
  },
  {
   "cell_type": "code",
   "execution_count": 31,
   "metadata": {
    "collapsed": false
   },
   "outputs": [
    {
     "data": {
      "text/plain": [
       "ctapipe.io.containers.MCEvent(\"MCEvent\", alt, tel, core_x, energy, h_first_int, core_y, az)"
      ]
     },
     "execution_count": 31,
     "metadata": {},
     "output_type": "execute_result"
    }
   ],
   "source": [
    "event.mc"
   ]
  },
  {
   "cell_type": "code",
   "execution_count": 32,
   "metadata": {
    "collapsed": false
   },
   "outputs": [],
   "source": [
    "img = teldata.adc_samples[0]\n",
    "maxarr = np.unravel_index(np.argmax(img),img.shape)\n",
    "maxT = maxarr[1]"
   ]
  },
  {
   "cell_type": "code",
   "execution_count": 33,
   "metadata": {
    "collapsed": false
   },
   "outputs": [
    {
     "data": {
      "text/plain": [
       "(1190, 25)"
      ]
     },
     "execution_count": 33,
     "metadata": {},
     "output_type": "execute_result"
    }
   ],
   "source": [
    "maxarr"
   ]
  },
  {
   "cell_type": "code",
   "execution_count": 34,
   "metadata": {
    "collapsed": false
   },
   "outputs": [],
   "source": [
    "winlen = 20\n",
    "t = img[:,np.arange(maxT - math.floor(winlen/2),maxT + math.floor(winlen/2))]\n",
    "Qm = t.sum(axis=1)"
   ]
  },
  {
   "cell_type": "code",
   "execution_count": 35,
   "metadata": {
    "collapsed": false
   },
   "outputs": [
    {
     "data": {
      "text/latex": [
       "$3.0660222 \\; \\mathrm{TeV}$"
      ],
      "text/plain": [
       "<Quantity 3.0660221576690674 TeV>"
      ]
     },
     "execution_count": 35,
     "metadata": {},
     "output_type": "execute_result"
    }
   ],
   "source": [
    "event.mc.energy"
   ]
  },
  {
   "cell_type": "code",
   "execution_count": 36,
   "metadata": {
    "collapsed": false
   },
   "outputs": [
    {
     "data": {
      "image/png": "[encoded data removed]",
      "text/plain": [
       "<matplotlib.figure.Figure at 0x1f78f3da0>"
      ]
     },
     "metadata": {},
     "output_type": "display_data"
    }
   ],
   "source": [
    "#plt.rcParams['figure.figsize'] = (10.0, 8.0)\n",
    "geom = CameraGeometry.guess(*event.meta.pixel_pos[tels[0]], event.meta.optical_foclen[tels[0]])\n",
    "disp = CameraDisplay(geom)\n",
    "disp.image = img[:,maxarr[1]]\n",
    "disp.cmap = plt.cm.RdBu_r\n",
    "disp.add_colorbar()\n",
    "disp.set_limits_percent(95)  # autoscale"
   ]
  },
  {
   "cell_type": "code",
   "execution_count": 37,
   "metadata": {
    "collapsed": false
   },
   "outputs": [
    {
     "data": {
      "image/png": "[encoded data removed]",
      "text/plain": [
       "<matplotlib.figure.Figure at 0x1f76fe588>"
      ]
     },
     "metadata": {},
     "output_type": "display_data"
    }
   ],
   "source": [
    "plt.rcParams['figure.figsize'] = (10.0, 8.0)\n",
    "geom = CameraGeometry.guess(*event.meta.pixel_pos[tels[0]], event.meta.optical_foclen[tels[0]])\n",
    "disp = CameraDisplay(geom)\n",
    "disp.image = Qm\n",
    "disp.cmap = plt.cm.RdBu_r\n",
    "disp.add_colorbar()\n",
    "disp.set_limits_percent(95)  # autoscale"
   ]
  },
  {
   "cell_type": "code",
   "execution_count": 38,
   "metadata": {
    "collapsed": false
   },
   "outputs": [
    {
     "data": {
      "text/plain": [
       "matplotlib.figure.Figure"
      ]
     },
     "execution_count": 38,
     "metadata": {},
     "output_type": "execute_result"
    },
    {
     "data": {
      "image/png": "[encoded data removed]",
      "text/plain": [
       "<matplotlib.figure.Figure at 0x1f808df28>"
      ]
     },
     "metadata": {},
     "output_type": "display_data"
    }
   ],
   "source": [
    "plt.rcParams['figure.figsize'] = (10.0, 8.0)\n",
    "geom = CameraGeometry.guess(*event.meta.pixel_pos[tels[0]], event.meta.optical_foclen[tels[0]])\n",
    "disp = CameraDisplay(geom)\n",
    "disp.image = Qt\n",
    "disp.cmap = plt.cm.RdBu_r\n",
    "disp.add_colorbar()\n",
    "disp.set_limits_percent(95)  # autoscale\n",
    "axd = disp.axes.figure\n",
    "type(axd)"
   ]
  },
  {
   "cell_type": "code",
   "execution_count": 19,
   "metadata": {
    "collapsed": false
   },
   "outputs": [
    {
     "data": {
      "text/plain": [
       "ctapipe.visualization.mpl.CameraDisplay"
      ]
     },
     "execution_count": 19,
     "metadata": {},
     "output_type": "execute_result"
    }
   ],
   "source": [
    "type(disp)"
   ]
  },
  {
   "cell_type": "code",
   "execution_count": 20,
   "metadata": {
    "collapsed": false
   },
   "outputs": [
    {
     "data": {
      "text/plain": [
       "207"
      ]
     },
     "execution_count": 20,
     "metadata": {},
     "output_type": "execute_result"
    }
   ],
   "source": [
    "event.dl0.event_id"
   ]
  },
  {
   "cell_type": "code",
   "execution_count": null,
   "metadata": {
    "collapsed": false
   },
   "outputs": [],
   "source": [
    "import numpy as np, copy\n",
    "import matplotlib.pyplot as plt, matplotlib.lines as ml\n",
    "\n",
    "fig=plt.figure(1)\n",
    "data=np.arange(0,10,0.01)\n",
    "ax1=fig.add_subplot(2,2,1)\n",
    "ax2=fig.add_subplot(2,2,2)\n",
    "ax3=fig.add_subplot(2,2,3)\n",
    "ax4=fig.add_subplot(2,2,4)\n",
    "\n",
    "#create the lines\n",
    "line1=ml.Line2D(data,data)\n",
    "line2=ml.Line2D(data,data**2/10,ls='--',color='green')\n",
    "line3=ml.Line2D(data,np.sin(data),color='red')\n",
    "#add the copies of the lines to the first 3 panels\n",
    "ax1.add_line(copy.copy(line1))\n",
    "ax2.add_line(copy.copy(line2))\n",
    "ax3.add_line(copy.copy(line3))\n",
    "\n",
    "[ax4.add_line(_l) for _l in [line1,line2,line3]] # add 3 lines to the 4th panel\n",
    "\n",
    "[_a.autoscale() for _a in [ax1,ax2,ax3,ax4]] # autoscale if needed\n",
    "plt.draw()"
   ]
  },
  {
   "cell_type": "code",
   "execution_count": null,
   "metadata": {
    "collapsed": false
   },
   "outputs": [],
   "source": [
    "import numpy as np\n",
    "import matplotlib.pyplot as plt \n",
    "from matplotlib import gridspec\n",
    "\n",
    "# generate some data\n",
    "x = np.arange(0, 10, 0.2)\n",
    "y = np.sin(x)\n",
    "\n",
    "# plot it\n",
    "fig = plt.figure(figsize=(16, 6)) \n",
    "gs = gridspec.GridSpec(2, 2, width_ratios=[1, 1]) \n",
    "ax0 = plt.subplot(gs[0])\n",
    "ax0.plot(x, y)\n",
    "ax1 = plt.subplot(gs[2])\n",
    "ax1.plot(y, x)\n",
    "ax2 = plt.subplot(gs[0:,-1])\n",
    "disp = CameraDisplay(geom)\n",
    "disp.image = Qt\n",
    "disp.cmap = plt.cm.RdBu_r\n",
    "disp.add_colorbar()\n",
    "disp.set_limits_percent(95)  # autoscale\n",
    "\n",
    "\n",
    "\n",
    "plt.tight_layout()\n",
    "plt.savefig('grid_figure.pdf')"
   ]
  },
  {
   "cell_type": "code",
   "execution_count": null,
   "metadata": {
    "collapsed": false
   },
   "outputs": [],
   "source": [
    "event.dl0.event_id"
   ]
  },
  {
   "cell_type": "code",
   "execution_count": null,
   "metadata": {
    "collapsed": false
   },
   "outputs": [],
   "source": [
    "event = next(source)\n",
    "event.count"
   ]
  },
  {
   "cell_type": "code",
   "execution_count": null,
   "metadata": {
    "collapsed": false
   },
   "outputs": [],
   "source": []
  },
  {
   "cell_type": "code",
   "execution_count": null,
   "metadata": {
    "collapsed": false
   },
   "outputs": [],
   "source": [
    "data = img\n",
    "flatten_sorted = data.flatten().argsort()[:][::-1]\n",
    "flatten_sorted"
   ]
  },
  {
   "cell_type": "code",
   "execution_count": null,
   "metadata": {
    "collapsed": false
   },
   "outputs": [],
   "source": [
    "pixels_max = np.unravel_index(flatten_sorted, data.shape)[0]\n",
    "pixels_max"
   ]
  },
  {
   "cell_type": "code",
   "execution_count": null,
   "metadata": {
    "collapsed": false
   },
   "outputs": [],
   "source": [
    "pixels_max_sortedunique, pixels_max_sortedunique_ind = np.unique(pixels_max, return_index=True)\n",
    "pixels_max_sortedunique\n",
    "pixels_max[np.argsort(pixels_max_sortedunique_ind)]"
   ]
  },
  {
   "cell_type": "code",
   "execution_count": null,
   "metadata": {
    "collapsed": false
   },
   "outputs": [],
   "source": [
    "pixels_max_sortedunique_ind"
   ]
  },
  {
   "cell_type": "code",
   "execution_count": null,
   "metadata": {
    "collapsed": false
   },
   "outputs": [],
   "source": [
    "pixels_max_sortedunique_ind[np.argsort(pixels_max_sortedunique_ind)]"
   ]
  },
  {
   "cell_type": "code",
   "execution_count": null,
   "metadata": {
    "collapsed": false
   },
   "outputs": [],
   "source": [
    "pixels_max_sortedunique_ind.sort()\n",
    "pixels_max_sortedunique_ind"
   ]
  },
  {
   "cell_type": "code",
   "execution_count": null,
   "metadata": {
    "collapsed": false
   },
   "outputs": [],
   "source": [
    "pixels_max[pixels_max_sortedunique_ind[np.argsort(pixels_max_sortedunique_ind)]]"
   ]
  },
  {
   "cell_type": "code",
   "execution_count": null,
   "metadata": {
    "collapsed": true
   },
   "outputs": [],
   "source": []
  },
  {
   "cell_type": "code",
   "execution_count": null,
   "metadata": {
    "collapsed": false
   },
   "outputs": [],
   "source": [
    "sort, ind = np.unique(pixels_sorted, return_index=True)\n",
    "a[np.argsort(ind)]"
   ]
  },
  {
   "cell_type": "code",
   "execution_count": null,
   "metadata": {
    "collapsed": true
   },
   "outputs": [],
   "source": []
  }
 ],
 "metadata": {
  "kernelspec": {
   "display_name": "Python 3",
   "language": "python",
   "name": "python3"
  },
  "language_info": {
   "codemirror_mode": {
    "name": "ipython",
    "version": 3
   },
   "file_extension": ".py",
   "mimetype": "text/x-python",
   "name": "python",
   "nbconvert_exporter": "python",
   "pygments_lexer": "ipython3",
   "version": "3.5.1"
  }
 },
 "nbformat": 4,
 "nbformat_minor": 0
}
